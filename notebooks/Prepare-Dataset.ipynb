{
 "cells": [
  {
   "cell_type": "code",
   "execution_count": 1,
   "metadata": {
    "ExecuteTime": {
     "end_time": "2024-01-30T18:33:43.063855Z",
     "start_time": "2024-01-30T18:33:33.563849Z"
    },
    "collapsed": true,
    "jupyter": {
     "outputs_hidden": true
    }
   },
   "outputs": [],
   "source": [
    "import numpy as np\n",
    "import pandas as pd\n",
    "import networkx as nx\n",
    "from pathlib import Path\n",
    "import matplotlib.pyplot as plt"
   ]
  },
  {
   "cell_type": "markdown",
   "metadata": {
    "collapsed": false,
    "jupyter": {
     "outputs_hidden": false
    }
   },
   "source": [
    "## Load Data"
   ]
  },
  {
   "cell_type": "code",
   "execution_count": 2,
   "metadata": {
    "ExecuteTime": {
     "end_time": "2024-01-30T18:33:43.066392Z",
     "start_time": "2024-01-30T18:33:43.062543Z"
    },
    "collapsed": false,
    "jupyter": {
     "outputs_hidden": false
    }
   },
   "outputs": [],
   "source": "MATRES_DATA_PATH = Path('../data') / 'MATRES'"
  },
  {
   "cell_type": "code",
   "execution_count": 3,
   "metadata": {
    "ExecuteTime": {
     "end_time": "2024-01-30T18:33:43.132001Z",
     "start_time": "2024-01-30T18:33:43.067730Z"
    },
    "collapsed": false,
    "jupyter": {
     "outputs_hidden": false
    }
   },
   "outputs": [],
   "source": [
    "aquaint_df = pd.read_csv(MATRES_DATA_PATH / 'aquaint.txt', sep='\\t', header=None,\n",
    "                         names=['docid', 'verb1', 'verb2', 'eiid1', 'eiid2', 'relation'])"
   ]
  },
  {
   "cell_type": "code",
   "execution_count": 4,
   "metadata": {
    "ExecuteTime": {
     "end_time": "2024-01-30T18:33:43.133278Z",
     "start_time": "2024-01-30T18:33:43.113074Z"
    },
    "collapsed": false,
    "jupyter": {
     "outputs_hidden": false
    }
   },
   "outputs": [],
   "source": [
    "platinum_df = pd.read_csv(MATRES_DATA_PATH / 'platinum.txt', sep='\\t', header=None,\n",
    "                         names=['docid', 'verb1', 'verb2', 'eiid1', 'eiid2', 'relation'])"
   ]
  },
  {
   "cell_type": "code",
   "execution_count": 5,
   "metadata": {
    "ExecuteTime": {
     "end_time": "2024-01-30T18:33:43.134356Z",
     "start_time": "2024-01-30T18:33:43.113359Z"
    },
    "collapsed": false,
    "jupyter": {
     "outputs_hidden": false
    }
   },
   "outputs": [],
   "source": [
    "timebank_df = pd.read_csv(MATRES_DATA_PATH / 'timebank.txt', sep='\\t', header=None,\n",
    "                         names=['docid', 'verb1', 'verb2', 'eiid1', 'eiid2', 'relation'])"
   ]
  },
  {
   "cell_type": "markdown",
   "metadata": {
    "collapsed": false,
    "jupyter": {
     "outputs_hidden": false
    }
   },
   "source": [
    "## Prepare Graphs"
   ]
  },
  {
   "cell_type": "markdown",
   "metadata": {
    "collapsed": false,
    "jupyter": {
     "outputs_hidden": false
    }
   },
   "source": [
    "### Utils"
   ]
  },
  {
   "cell_type": "code",
   "execution_count": 6,
   "metadata": {
    "ExecuteTime": {
     "end_time": "2024-01-30T18:34:04.838951Z",
     "start_time": "2024-01-30T18:34:04.816147Z"
    },
    "collapsed": false,
    "jupyter": {
     "outputs_hidden": false
    }
   },
   "outputs": [],
   "source": [
    "from functools import reduce\n",
    "\n",
    "supported_relation = ['AFTER', 'BEFORE']\n",
    "\n",
    "def create_edges(df):\n",
    "    edges_df = pd.DataFrame()\n",
    "    edges_df[['source', 'target']] = df[['docid', 'eiid1', 'eiid2', 'relation']] \\\n",
    "        .apply(lambda row: (f\"{row.docid}-{row['eiid2']}\" ,f\"{row.docid}-{row['eiid1']}\")\n",
    "                if row['relation'] == 'AFTER' else (f\"{row.docid}-{row['eiid1']}\" , f\"{row.docid}-{row['eiid2']}\"),\n",
    "               axis='columns', result_type=\"expand\")\n",
    "    return edges_df\n",
    "\n",
    "def create_nodes(df):\n",
    "    nodes_raw_df = df.apply(lambda row: [dict(docid=row.docid, verb=row.verb1, eiid=f\"{row.docid}-{row.eiid1}\"),\n",
    "                                  dict(docid=row.docid, verb=row.verb2, eiid=f\"{row.docid}-{row.eiid2}\")], axis='columns').to_list()\n",
    "    nodes_flatten = reduce(lambda x, y: x+y, nodes_raw_df)\n",
    "    return pd.DataFrame(nodes_flatten).drop_duplicates(ignore_index=True)\n",
    "\n",
    "def generate_directed_graph(df, relations=supported_relation):\n",
    "    df = df.loc[df['relation'].isin(relations)]\n",
    "    edges = create_edges(df)\n",
    "    nodes = create_nodes(df)\n",
    "\n",
    "    G = nx.from_pandas_edgelist(edges, create_using=nx.DiGraph)\n",
    "    nx.set_node_attributes(G, dict(zip(nodes.eiid, nodes.docid)), 'docid')\n",
    "    nx.set_node_attributes(G, dict(zip(nodes.eiid, nodes.verb)), 'verb')\n",
    "    return G\n",
    "\n",
    "def generate_subgraph_by_docid(graph, doc_id):\n",
    "    sub_graph = []\n",
    "    for (n, data) in graph.nodes(data=True):\n",
    "      if data['docid'] == doc_id:\n",
    "        sub_graph.append(n)\n",
    "\n",
    "    return graph.subgraph(sub_graph).copy()"
   ]
  },
  {
   "cell_type": "code",
   "execution_count": 7,
   "metadata": {
    "ExecuteTime": {
     "end_time": "2023-09-21T19:09:50.623685Z",
     "start_time": "2023-09-21T19:09:50.563152Z"
    },
    "collapsed": false,
    "jupyter": {
     "outputs_hidden": false
    }
   },
   "outputs": [],
   "source": [
    "def draw_directed_graph(graph, custom_layout=None):\n",
    "    plt.rcParams[\"figure.figsize\"] = (15,10)\n",
    "\n",
    "    labels = nx.get_node_attributes(graph, 'verb')\n",
    "    if custom_layout is None:\n",
    "        pos = nx.circular_layout(graph)\n",
    "    else:\n",
    "        pos = custom_layout(graph)\n",
    "\n",
    "    nx.draw_networkx_nodes(graph, pos)\n",
    "    nx.draw_networkx_labels(graph, pos, labels=labels)\n",
    "    nx.draw_networkx_edges(\n",
    "        graph,\n",
    "        pos,\n",
    "        arrows=True,\n",
    "        edgelist=graph.edges(),\n",
    "        edge_color='blue',\n",
    "        width=3,\n",
    "        label=\"S\",\n",
    "        arrowstyle='-|>')\n",
    "\n",
    "    # plt.legend(fontsize = 'medium')\n",
    "    plt.show()"
   ]
  },
  {
   "cell_type": "code",
   "execution_count": 66,
   "metadata": {
    "ExecuteTime": {
     "end_time": "2023-09-24T10:39:33.599286Z",
     "start_time": "2023-09-24T10:39:33.569359Z"
    },
    "collapsed": false,
    "jupyter": {
     "outputs_hidden": false
    }
   },
   "outputs": [],
   "source": [
    "from itertools import chain, product, starmap\n",
    "from functools import partial\n",
    "\n",
    "def create_simple_graph(graph):\n",
    "\n",
    "    # find connected components\n",
    "    conn_components = nx.connected_components(graph.to_undirected())\n",
    "\n",
    "    simple_edges = []\n",
    "    for nodes in conn_components:\n",
    "        # create copy of DiGraph\n",
    "        sub_shallow = graph.subgraph(nodes).copy()\n",
    "\n",
    "        if len(sub_shallow.edges) <= 2:\n",
    "            simple_edges.extend([edge for edge in sub_shallow.edges])\n",
    "            continue\n",
    "\n",
    "        new_graph = nx.DiGraph()\n",
    "        new_graph.add_nodes_from(sub_shallow.nodes(data=True))\n",
    "        new_graph.add_edges_from(sub_shallow.edges)\n",
    "\n",
    "        # find simple paths\n",
    "        chaini = chain.from_iterable\n",
    "        roots = (v for v, d in new_graph.in_degree() if d == 0)\n",
    "        leaves = (v for v, d in new_graph.out_degree() if d == 0)\n",
    "\n",
    "        all_paths = partial(nx.all_simple_paths, new_graph)\n",
    "        all_simple_paths = chaini(starmap(all_paths, product(roots, leaves)))\n",
    "\n",
    "        # remove redundant paths\n",
    "        sorted_path = sorted(all_simple_paths, key=lambda x: -len(x))\n",
    "        max_path = set(sorted_path[0])\n",
    "\n",
    "        simple_edges.append(sorted_path[0])\n",
    "        for path in sorted_path[1:]:\n",
    "            if len(max_path | set(path)) > len(max_path):\n",
    "                max_path.update(path)\n",
    "                simple_edges.append(path)\n",
    "\n",
    "    simple_graph = nx.DiGraph()\n",
    "    simple_graph.add_nodes_from(graph.nodes(data=True))\n",
    "\n",
    "    for path in simple_edges:\n",
    "        nx.add_path(simple_graph, path)\n",
    "\n",
    "    return simple_graph, simple_edges"
   ]
  },
  {
   "cell_type": "markdown",
   "metadata": {
    "collapsed": false,
    "jupyter": {
     "outputs_hidden": false
    }
   },
   "source": [
    "### Prepare Sample Graph With Simple Paths"
   ]
  },
  {
   "cell_type": "markdown",
   "metadata": {
    "collapsed": false,
    "jupyter": {
     "outputs_hidden": false
    }
   },
   "source": [
    "#### Simple Case"
   ]
  },
  {
   "cell_type": "code",
   "execution_count": 49,
   "metadata": {
    "ExecuteTime": {
     "end_time": "2023-09-24T09:53:21.688318Z",
     "start_time": "2023-09-24T09:53:21.670468Z"
    },
    "collapsed": false,
    "jupyter": {
     "outputs_hidden": false
    }
   },
   "outputs": [
    {
     "data": {
      "text/html": [
       "<div>\n",
       "<style scoped>\n",
       "    .dataframe tbody tr th:only-of-type {\n",
       "        vertical-align: middle;\n",
       "    }\n",
       "\n",
       "    .dataframe tbody tr th {\n",
       "        vertical-align: top;\n",
       "    }\n",
       "\n",
       "    .dataframe thead th {\n",
       "        text-align: right;\n",
       "    }\n",
       "</style>\n",
       "<table border=\"1\" class=\"dataframe\">\n",
       "  <thead>\n",
       "    <tr style=\"text-align: right;\">\n",
       "      <th></th>\n",
       "      <th>docid</th>\n",
       "      <th>verb1</th>\n",
       "      <th>verb2</th>\n",
       "      <th>eiid1</th>\n",
       "      <th>eiid2</th>\n",
       "      <th>relation</th>\n",
       "    </tr>\n",
       "  </thead>\n",
       "  <tbody>\n",
       "    <tr>\n",
       "      <th>750</th>\n",
       "      <td>XIE19990227.0171</td>\n",
       "      <td>were</td>\n",
       "      <td>invited</td>\n",
       "      <td>6</td>\n",
       "      <td>8</td>\n",
       "      <td>AFTER</td>\n",
       "    </tr>\n",
       "    <tr>\n",
       "      <th>751</th>\n",
       "      <td>XIE19990227.0171</td>\n",
       "      <td>were</td>\n",
       "      <td>join</td>\n",
       "      <td>6</td>\n",
       "      <td>10</td>\n",
       "      <td>BEFORE</td>\n",
       "    </tr>\n",
       "    <tr>\n",
       "      <th>752</th>\n",
       "      <td>XIE19990227.0171</td>\n",
       "      <td>invited</td>\n",
       "      <td>join</td>\n",
       "      <td>8</td>\n",
       "      <td>10</td>\n",
       "      <td>BEFORE</td>\n",
       "    </tr>\n",
       "    <tr>\n",
       "      <th>753</th>\n",
       "      <td>XIE19990227.0171</td>\n",
       "      <td>invited</td>\n",
       "      <td>signed</td>\n",
       "      <td>8</td>\n",
       "      <td>12</td>\n",
       "      <td>BEFORE</td>\n",
       "    </tr>\n",
       "    <tr>\n",
       "      <th>754</th>\n",
       "      <td>XIE19990227.0171</td>\n",
       "      <td>join</td>\n",
       "      <td>signed</td>\n",
       "      <td>10</td>\n",
       "      <td>12</td>\n",
       "      <td>AFTER</td>\n",
       "    </tr>\n",
       "    <tr>\n",
       "      <th>755</th>\n",
       "      <td>XIE19990227.0171</td>\n",
       "      <td>signed</td>\n",
       "      <td>invited</td>\n",
       "      <td>12</td>\n",
       "      <td>13</td>\n",
       "      <td>BEFORE</td>\n",
       "    </tr>\n",
       "    <tr>\n",
       "      <th>756</th>\n",
       "      <td>XIE19990227.0171</td>\n",
       "      <td>invited</td>\n",
       "      <td>travel</td>\n",
       "      <td>13</td>\n",
       "      <td>15</td>\n",
       "      <td>BEFORE</td>\n",
       "    </tr>\n",
       "  </tbody>\n",
       "</table>\n",
       "</div>"
      ],
      "text/plain": [
       "                docid    verb1    verb2  eiid1  eiid2 relation\n",
       "750  XIE19990227.0171     were  invited      6      8    AFTER\n",
       "751  XIE19990227.0171     were     join      6     10   BEFORE\n",
       "752  XIE19990227.0171  invited     join      8     10   BEFORE\n",
       "753  XIE19990227.0171  invited   signed      8     12   BEFORE\n",
       "754  XIE19990227.0171     join   signed     10     12    AFTER\n",
       "755  XIE19990227.0171   signed  invited     12     13   BEFORE\n",
       "756  XIE19990227.0171  invited   travel     13     15   BEFORE"
      ]
     },
     "execution_count": 49,
     "metadata": {},
     "output_type": "execute_result"
    }
   ],
   "source": [
    "aquaint_df[(aquaint_df.docid == 'XIE19990227.0171') & (aquaint_df.relation.isin(supported_relation))]"
   ]
  },
  {
   "cell_type": "code",
   "execution_count": 50,
   "metadata": {
    "ExecuteTime": {
     "end_time": "2023-09-24T09:53:22.681082Z",
     "start_time": "2023-09-24T09:53:22.675647Z"
    },
    "collapsed": false,
    "jupyter": {
     "outputs_hidden": false
    }
   },
   "outputs": [],
   "source": [
    "sample_graph = generate_directed_graph(df=aquaint_df[aquaint_df.docid == 'XIE19990227.0171'])"
   ]
  },
  {
   "cell_type": "code",
   "execution_count": 51,
   "metadata": {
    "ExecuteTime": {
     "end_time": "2023-09-24T09:53:24.283932Z",
     "start_time": "2023-09-24T09:53:23.860624Z"
    },
    "collapsed": false,
    "jupyter": {
     "outputs_hidden": false
    }
   },
   "outputs": [
    {
     "data": {
      "image/png": "[encoded data removed]",
      "text/plain": [
       "<Figure size 1500x1000 with 1 Axes>"
      ]
     },
     "metadata": {},
     "output_type": "display_data"
    }
   ],
   "source": [
    "draw_directed_graph(sample_graph)"
   ]
  },
  {
   "cell_type": "code",
   "execution_count": 67,
   "metadata": {
    "ExecuteTime": {
     "end_time": "2023-09-24T10:39:45.946207Z",
     "start_time": "2023-09-24T10:39:45.937939Z"
    },
    "collapsed": false,
    "jupyter": {
     "outputs_hidden": false
    }
   },
   "outputs": [],
   "source": [
    "simple_k, simple_k_edges = create_simple_graph(graph=sample_graph)"
   ]
  },
  {
   "cell_type": "code",
   "execution_count": 68,
   "metadata": {
    "ExecuteTime": {
     "end_time": "2023-09-24T10:39:46.883761Z",
     "start_time": "2023-09-24T10:39:46.567102Z"
    },
    "collapsed": false,
    "jupyter": {
     "outputs_hidden": false
    }
   },
   "outputs": [
    {
     "data": {
      "image/png": "[encoded data removed]",
      "text/plain": [
       "<Figure size 1500x1000 with 1 Axes>"
      ]
     },
     "metadata": {},
     "output_type": "display_data"
    }
   ],
   "source": [
    "draw_directed_graph(simple_k)"
   ]
  },
  {
   "cell_type": "code",
   "execution_count": 15,
   "metadata": {
    "ExecuteTime": {
     "end_time": "2023-09-06T20:51:12.243524Z",
     "start_time": "2023-09-06T20:51:12.238931Z"
    },
    "collapsed": false,
    "jupyter": {
     "outputs_hidden": false
    }
   },
   "outputs": [],
   "source": [
    "mapping_k = {n: d['verb'] for n, d in sample_graph.nodes(data=True)}"
   ]
  },
  {
   "cell_type": "code",
   "execution_count": 16,
   "metadata": {
    "ExecuteTime": {
     "end_time": "2023-09-06T20:51:12.954362Z",
     "start_time": "2023-09-06T20:51:12.937945Z"
    },
    "collapsed": false,
    "jupyter": {
     "outputs_hidden": false
    }
   },
   "outputs": [
    {
     "data": {
      "text/plain": [
       "[['invited', 'were', 'join', 'signed', 'invited', 'travel']]"
      ]
     },
     "execution_count": 16,
     "metadata": {},
     "output_type": "execute_result"
    }
   ],
   "source": [
    "[[mapping_k[p] for p in lp] for lp in simple_k_edges]"
   ]
  },
  {
   "cell_type": "markdown",
   "metadata": {
    "collapsed": false,
    "jupyter": {
     "outputs_hidden": false
    }
   },
   "source": [
    "#### Biggest Case"
   ]
  },
  {
   "cell_type": "code",
   "execution_count": 41,
   "metadata": {
    "ExecuteTime": {
     "end_time": "2023-09-24T08:19:49.053902Z",
     "start_time": "2023-09-24T08:19:49.043393Z"
    },
    "collapsed": false,
    "jupyter": {
     "outputs_hidden": false
    }
   },
   "outputs": [
    {
     "data": {
      "text/html": [
       "<div>\n",
       "<style scoped>\n",
       "    .dataframe tbody tr th:only-of-type {\n",
       "        vertical-align: middle;\n",
       "    }\n",
       "\n",
       "    .dataframe tbody tr th {\n",
       "        vertical-align: top;\n",
       "    }\n",
       "\n",
       "    .dataframe thead th {\n",
       "        text-align: right;\n",
       "    }\n",
       "</style>\n",
       "<table border=\"1\" class=\"dataframe\">\n",
       "  <thead>\n",
       "    <tr style=\"text-align: right;\">\n",
       "      <th></th>\n",
       "      <th>docid</th>\n",
       "      <th>verb1</th>\n",
       "      <th>verb2</th>\n",
       "      <th>eiid1</th>\n",
       "      <th>eiid2</th>\n",
       "      <th>relation</th>\n",
       "    </tr>\n",
       "  </thead>\n",
       "  <tbody>\n",
       "    <tr>\n",
       "      <th>2260</th>\n",
       "      <td>NYT19990312.0271</td>\n",
       "      <td>embraced</td>\n",
       "      <td>ending</td>\n",
       "      <td>1</td>\n",
       "      <td>2</td>\n",
       "      <td>BEFORE</td>\n",
       "    </tr>\n",
       "    <tr>\n",
       "      <th>2261</th>\n",
       "      <td>NYT19990312.0271</td>\n",
       "      <td>embraced</td>\n",
       "      <td>began</td>\n",
       "      <td>1</td>\n",
       "      <td>4</td>\n",
       "      <td>AFTER</td>\n",
       "    </tr>\n",
       "    <tr>\n",
       "      <th>2262</th>\n",
       "      <td>NYT19990312.0271</td>\n",
       "      <td>embraced</td>\n",
       "      <td>opening</td>\n",
       "      <td>1</td>\n",
       "      <td>6</td>\n",
       "      <td>BEFORE</td>\n",
       "    </tr>\n",
       "    <tr>\n",
       "      <th>2263</th>\n",
       "      <td>NYT19990312.0271</td>\n",
       "      <td>ending</td>\n",
       "      <td>began</td>\n",
       "      <td>2</td>\n",
       "      <td>4</td>\n",
       "      <td>AFTER</td>\n",
       "    </tr>\n",
       "    <tr>\n",
       "      <th>2264</th>\n",
       "      <td>NYT19990312.0271</td>\n",
       "      <td>ending</td>\n",
       "      <td>opening</td>\n",
       "      <td>2</td>\n",
       "      <td>6</td>\n",
       "      <td>BEFORE</td>\n",
       "    </tr>\n",
       "    <tr>\n",
       "      <th>...</th>\n",
       "      <td>...</td>\n",
       "      <td>...</td>\n",
       "      <td>...</td>\n",
       "      <td>...</td>\n",
       "      <td>...</td>\n",
       "      <td>...</td>\n",
       "    </tr>\n",
       "    <tr>\n",
       "      <th>2631</th>\n",
       "      <td>NYT19990312.0271</td>\n",
       "      <td>live</td>\n",
       "      <td>created</td>\n",
       "      <td>206</td>\n",
       "      <td>208</td>\n",
       "      <td>BEFORE</td>\n",
       "    </tr>\n",
       "    <tr>\n",
       "      <th>2633</th>\n",
       "      <td>NYT19990312.0271</td>\n",
       "      <td>created</td>\n",
       "      <td>gone</td>\n",
       "      <td>208</td>\n",
       "      <td>212</td>\n",
       "      <td>BEFORE</td>\n",
       "    </tr>\n",
       "    <tr>\n",
       "      <th>2634</th>\n",
       "      <td>NYT19990312.0271</td>\n",
       "      <td>been</td>\n",
       "      <td>gone</td>\n",
       "      <td>210</td>\n",
       "      <td>212</td>\n",
       "      <td>BEFORE</td>\n",
       "    </tr>\n",
       "    <tr>\n",
       "      <th>2635</th>\n",
       "      <td>NYT19990312.0271</td>\n",
       "      <td>been</td>\n",
       "      <td>said</td>\n",
       "      <td>210</td>\n",
       "      <td>216</td>\n",
       "      <td>BEFORE</td>\n",
       "    </tr>\n",
       "    <tr>\n",
       "      <th>2637</th>\n",
       "      <td>NYT19990312.0271</td>\n",
       "      <td>said</td>\n",
       "      <td>asked</td>\n",
       "      <td>216</td>\n",
       "      <td>218</td>\n",
       "      <td>BEFORE</td>\n",
       "    </tr>\n",
       "  </tbody>\n",
       "</table>\n",
       "<p>331 rows × 6 columns</p>\n",
       "</div>"
      ],
      "text/plain": [
       "                 docid     verb1    verb2  eiid1  eiid2 relation\n",
       "2260  NYT19990312.0271  embraced   ending      1      2   BEFORE\n",
       "2261  NYT19990312.0271  embraced    began      1      4    AFTER\n",
       "2262  NYT19990312.0271  embraced  opening      1      6   BEFORE\n",
       "2263  NYT19990312.0271    ending    began      2      4    AFTER\n",
       "2264  NYT19990312.0271    ending  opening      2      6   BEFORE\n",
       "...                ...       ...      ...    ...    ...      ...\n",
       "2631  NYT19990312.0271      live  created    206    208   BEFORE\n",
       "2633  NYT19990312.0271   created     gone    208    212   BEFORE\n",
       "2634  NYT19990312.0271      been     gone    210    212   BEFORE\n",
       "2635  NYT19990312.0271      been     said    210    216   BEFORE\n",
       "2637  NYT19990312.0271      said    asked    216    218   BEFORE\n",
       "\n",
       "[331 rows x 6 columns]"
      ]
     },
     "execution_count": 41,
     "metadata": {},
     "output_type": "execute_result"
    }
   ],
   "source": [
    "biggest_df = aquaint_df[(aquaint_df.docid == 'NYT19990312.0271') & (aquaint_df.relation.isin(supported_relation))]\n",
    "biggest_df"
   ]
  },
  {
   "cell_type": "code",
   "execution_count": 42,
   "metadata": {
    "ExecuteTime": {
     "end_time": "2023-09-24T08:19:51.933036Z",
     "start_time": "2023-09-24T08:19:51.888396Z"
    },
    "collapsed": false,
    "jupyter": {
     "outputs_hidden": false
    }
   },
   "outputs": [],
   "source": [
    "biggest_graph = generate_directed_graph(df=aquaint_df[aquaint_df.docid == 'NYT19990312.0271'])"
   ]
  },
  {
   "cell_type": "code",
   "execution_count": 36,
   "metadata": {
    "ExecuteTime": {
     "end_time": "2023-09-24T08:16:10.593978Z",
     "start_time": "2023-09-24T08:16:10.560242Z"
    },
    "collapsed": false,
    "jupyter": {
     "outputs_hidden": false
    }
   },
   "outputs": [],
   "source": [
    "simple_k, simple_k_edges = create_simple_graph(graph=biggest_graph)"
   ]
  },
  {
   "cell_type": "code",
   "execution_count": 39,
   "metadata": {
    "ExecuteTime": {
     "end_time": "2023-09-24T08:16:42.425251Z",
     "start_time": "2023-09-24T08:16:42.415174Z"
    },
    "collapsed": false,
    "jupyter": {
     "outputs_hidden": false
    }
   },
   "outputs": [
    {
     "data": {
      "text/plain": [
       "networkx.classes.digraph.DiGraph"
      ]
     },
     "execution_count": 39,
     "metadata": {},
     "output_type": "execute_result"
    }
   ],
   "source": [
    "type(simple_k)"
   ]
  },
  {
   "cell_type": "code",
   "execution_count": 48,
   "metadata": {
    "ExecuteTime": {
     "end_time": "2023-09-24T09:52:54.295836Z",
     "start_time": "2023-09-24T09:52:54.285337Z"
    },
    "collapsed": false,
    "jupyter": {
     "outputs_hidden": false
    }
   },
   "outputs": [
    {
     "data": {
      "text/plain": [
       "[]"
      ]
     },
     "execution_count": 48,
     "metadata": {},
     "output_type": "execute_result"
    }
   ],
   "source": [
    "biggest_graph_cycles = list(nx.simple_cycles(biggest_graph))\n",
    "biggest_graph_cycles"
   ]
  },
  {
   "cell_type": "code",
   "execution_count": 47,
   "metadata": {
    "ExecuteTime": {
     "end_time": "2023-09-24T09:52:43.608721Z",
     "start_time": "2023-09-24T09:52:43.580573Z"
    },
    "collapsed": false,
    "jupyter": {
     "outputs_hidden": false
    }
   },
   "outputs": [
    {
     "ename": "IndexError",
     "evalue": "list index out of range",
     "output_type": "error",
     "traceback": [
      "\u001B[0;31m---------------------------------------------------------------------------\u001B[0m",
      "\u001B[0;31mIndexError\u001B[0m                                Traceback (most recent call last)",
      "Cell \u001B[0;32mIn[47], line 1\u001B[0m\n\u001B[0;32m----> 1\u001B[0m \u001B[38;5;28mprint\u001B[39m(\u001B[38;5;124m'\u001B[39m\u001B[38;5;124mnum of cycles in directed graph:\u001B[39m\u001B[38;5;124m'\u001B[39m, \u001B[38;5;28mlen\u001B[39m(biggest_graph_cycles), \u001B[38;5;124m'\u001B[39m\u001B[38;5;124mexample of cycle:\u001B[39m\u001B[38;5;124m'\u001B[39m, \u001B[43mbiggest_graph_cycles\u001B[49m\u001B[43m[\u001B[49m\u001B[38;5;241;43m0\u001B[39;49m\u001B[43m]\u001B[49m)\n",
      "\u001B[0;31mIndexError\u001B[0m: list index out of range"
     ]
    }
   ],
   "source": [
    "print('num of cycles in directed graph:', len(biggest_graph_cycles), 'example of cycle:', biggest_graph_cycles[0])"
   ]
  },
  {
   "cell_type": "code",
   "execution_count": 33,
   "metadata": {
    "ExecuteTime": {
     "end_time": "2023-09-24T08:14:06.680859Z",
     "start_time": "2023-09-24T08:14:06.665597Z"
    },
    "collapsed": false,
    "jupyter": {
     "outputs_hidden": false
    }
   },
   "outputs": [
    {
     "data": {
      "text/plain": [
       "[47, 52, 45]"
      ]
     },
     "execution_count": 33,
     "metadata": {},
     "output_type": "execute_result"
    }
   ],
   "source": [
    "eiids = [int(n_id.split('-')[1]) for n_id in biggest_graph_cycles[0]]\n",
    "eiids"
   ]
  },
  {
   "cell_type": "code",
   "execution_count": 34,
   "metadata": {
    "ExecuteTime": {
     "end_time": "2023-09-24T08:14:08.696652Z",
     "start_time": "2023-09-24T08:14:08.680129Z"
    },
    "collapsed": false,
    "jupyter": {
     "outputs_hidden": false
    }
   },
   "outputs": [
    {
     "data": {
      "text/html": [
       "<div>\n",
       "<style scoped>\n",
       "    .dataframe tbody tr th:only-of-type {\n",
       "        vertical-align: middle;\n",
       "    }\n",
       "\n",
       "    .dataframe tbody tr th {\n",
       "        vertical-align: top;\n",
       "    }\n",
       "\n",
       "    .dataframe thead th {\n",
       "        text-align: right;\n",
       "    }\n",
       "</style>\n",
       "<table border=\"1\" class=\"dataframe\">\n",
       "  <thead>\n",
       "    <tr style=\"text-align: right;\">\n",
       "      <th></th>\n",
       "      <th>docid</th>\n",
       "      <th>verb1</th>\n",
       "      <th>verb2</th>\n",
       "      <th>eiid1</th>\n",
       "      <th>eiid2</th>\n",
       "      <th>relation</th>\n",
       "    </tr>\n",
       "  </thead>\n",
       "  <tbody>\n",
       "    <tr>\n",
       "      <th>2352</th>\n",
       "      <td>NYT19990312.0271</td>\n",
       "      <td>moved</td>\n",
       "      <td>sat</td>\n",
       "      <td>45</td>\n",
       "      <td>47</td>\n",
       "      <td>BEFORE</td>\n",
       "    </tr>\n",
       "    <tr>\n",
       "      <th>2356</th>\n",
       "      <td>NYT19990312.0271</td>\n",
       "      <td>moved</td>\n",
       "      <td>do</td>\n",
       "      <td>45</td>\n",
       "      <td>52</td>\n",
       "      <td>BEFORE</td>\n",
       "    </tr>\n",
       "    <tr>\n",
       "      <th>2360</th>\n",
       "      <td>NYT19990312.0271</td>\n",
       "      <td>sat</td>\n",
       "      <td>do</td>\n",
       "      <td>47</td>\n",
       "      <td>52</td>\n",
       "      <td>AFTER</td>\n",
       "    </tr>\n",
       "  </tbody>\n",
       "</table>\n",
       "</div>"
      ],
      "text/plain": [
       "                 docid  verb1 verb2  eiid1  eiid2 relation\n",
       "2352  NYT19990312.0271  moved   sat     45     47   BEFORE\n",
       "2356  NYT19990312.0271  moved    do     45     52   BEFORE\n",
       "2360  NYT19990312.0271    sat    do     47     52    AFTER"
      ]
     },
     "execution_count": 34,
     "metadata": {},
     "output_type": "execute_result"
    }
   ],
   "source": [
    "biggest_df[(biggest_df.eiid1.isin(eiids)) & (biggest_df.eiid2.isin(eiids))]"
   ]
  },
  {
   "cell_type": "code",
   "execution_count": 20,
   "metadata": {
    "ExecuteTime": {
     "end_time": "2023-09-21T19:22:43.786176Z",
     "start_time": "2023-09-21T19:22:43.285340Z"
    },
    "collapsed": false,
    "jupyter": {
     "outputs_hidden": false
    }
   },
   "outputs": [
    {
     "data": {
      "image/png": "[encoded data removed]",
      "text/plain": [
       "<Figure size 1500x1000 with 1 Axes>"
      ]
     },
     "metadata": {},
     "output_type": "display_data"
    }
   ],
   "source": [
    "draw_directed_graph(biggest_graph.subgraph(biggest_graph_cycles[0]))"
   ]
  },
  {
   "cell_type": "code",
   "execution_count": 55,
   "metadata": {
    "ExecuteTime": {
     "end_time": "2023-09-06T21:16:30.339158Z",
     "start_time": "2023-09-06T21:16:30.326227Z"
    },
    "collapsed": false,
    "jupyter": {
     "outputs_hidden": false
    }
   },
   "outputs": [],
   "source": [
    "from dash import Dash, html\n",
    "import dash_cytoscape as cyto\n",
    "\n",
    "def generate_dash(graph):\n",
    "    app = Dash(__name__)\n",
    "\n",
    "    nodes = [{'data': {'id': _id, 'label': d['verb']}}  for _id, d in graph.nodes(data=True)]\n",
    "    edges = [{'data': {'source': source, 'target': target}} for source, target in graph.edges]\n",
    "\n",
    "    app.layout = html.Div([\n",
    "        cyto.Cytoscape(\n",
    "            id='cytoscape',\n",
    "            elements=nodes + edges,\n",
    "            layout={'name': 'breadthfirst'},\n",
    "            style={'width': '4000px', 'height': '5000px'}\n",
    "        )\n",
    "    ])\n",
    "\n",
    "\n",
    "    app.run_server(debug=True, use_reloader=False)"
   ]
  },
  {
   "cell_type": "code",
   "execution_count": 48,
   "metadata": {
    "ExecuteTime": {
     "end_time": "2023-09-06T21:12:31.569411Z",
     "start_time": "2023-09-06T21:12:31.544757Z"
    },
    "collapsed": false,
    "jupyter": {
     "outputs_hidden": false
    }
   },
   "outputs": [],
   "source": [
    "simple_k, simple_k_edges = create_simple_graph(graph=biggest_graph)"
   ]
  },
  {
   "cell_type": "code",
   "execution_count": 59,
   "metadata": {
    "ExecuteTime": {
     "end_time": "2023-09-06T21:24:00.911485Z",
     "start_time": "2023-09-06T21:23:59.650399Z"
    },
    "collapsed": false,
    "jupyter": {
     "outputs_hidden": false
    }
   },
   "outputs": [],
   "source": [
    "import gravis as gv\n",
    "\n",
    "fig = gv.d3(biggest_graph)\n",
    "fig.display(inline=False)"
   ]
  },
  {
   "cell_type": "code",
   "execution_count": 63,
   "metadata": {
    "ExecuteTime": {
     "end_time": "2023-09-06T21:40:35.457368Z",
     "start_time": "2023-09-06T21:40:34.264052Z"
    },
    "collapsed": false,
    "jupyter": {
     "outputs_hidden": false
    }
   },
   "outputs": [],
   "source": [
    "fig2 = gv.d3(simple_k, node_label_data_source='verb')\n",
    "fig2.display(inline=False)"
   ]
  }
 ],
 "metadata": {
  "kernelspec": {
   "display_name": "Python 3 (ipykernel)",
   "language": "python",
   "name": "python3"
  },
  "language_info": {
   "codemirror_mode": {
    "name": "ipython",
    "version": 3
   },
   "file_extension": ".py",
   "mimetype": "text/x-python",
   "name": "python",
   "nbconvert_exporter": "python",
   "pygments_lexer": "ipython3",
   "version": "3.11.8"
  }
 },
 "nbformat": 4,
 "nbformat_minor": 4
}
