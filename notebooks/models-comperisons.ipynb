{
 "cells": [
  {
   "metadata": {},
   "cell_type": "markdown",
   "source": "## Imports",
   "id": "e27efc0316f5fd87"
  },
  {
   "metadata": {
    "ExecuteTime": {
     "end_time": "2024-08-20T07:04:10.560080Z",
     "start_time": "2024-08-20T07:04:08.519024Z"
    }
   },
   "cell_type": "code",
   "source": [
    "import numpy as np\n",
    "import pandas as pd\n",
    "from pathlib import Path\n",
    "import matplotlib.pyplot as plt\n",
    "from sklearn.metrics import multilabel_confusion_matrix"
   ],
   "id": "a88b5477d87a0fc2",
   "outputs": [],
   "execution_count": 1
  },
  {
   "metadata": {
    "ExecuteTime": {
     "end_time": "2024-08-20T07:04:11.315789Z",
     "start_time": "2024-08-20T07:04:10.632535Z"
    }
   },
   "cell_type": "code",
   "source": [
    "import sys\n",
    "\n",
    "PROJECT_PATH = '/home/adiel/full-temporal-relation'\n",
    "if PROJECT_PATH not in sys.path:\n",
    "    sys.path.append(PROJECT_PATH)\n",
    "\n",
    "from full_temporal_relation.visualization.data import plot_relation_bars\n",
    "from full_temporal_relation.data.preprocessing import load_data\n",
    "from full_temporal_relation.metrics import (relation_table, recall, precision, \n",
    "                                            calculate_f1, calculate_micro_f1, \n",
    "                                            calculate_relax_micro_f1, summary_results)"
   ],
   "id": "3df58fe807249200",
   "outputs": [],
   "execution_count": 2
  },
  {
   "metadata": {},
   "cell_type": "markdown",
   "source": "# Data",
   "id": "312b7c729fe6d42c"
  },
  {
   "metadata": {
    "ExecuteTime": {
     "end_time": "2024-08-20T07:04:12.517829Z",
     "start_time": "2024-08-20T07:04:12.514889Z"
    }
   },
   "cell_type": "code",
   "source": [
    "DATA_PATH = Path('../data')\n",
    "TRC_RESULTS_PATH = DATA_PATH / 'TRC' / 'results'"
   ],
   "id": "c902e89f604089c9",
   "outputs": [],
   "execution_count": 3
  },
  {
   "metadata": {
    "ExecuteTime": {
     "end_time": "2024-08-20T07:04:13.650576Z",
     "start_time": "2024-08-20T07:04:13.628891Z"
    }
   },
   "cell_type": "code",
   "source": [
    "gold_df = load_data(DATA_PATH/ 'MATRES' / 'platinum.txt')\n",
    "gold_df"
   ],
   "id": "2c6e804181970b83",
   "outputs": [
    {
     "data": {
      "text/plain": [
       "                docid       verb1     verb2 eiid1 eiid2 relation   label  \\\n",
       "0    WSJ_20130322_159  apologized  happened    e1    e5    VAGUE   VAGUE   \n",
       "1    WSJ_20130322_159  apologized   wrapped    e1    e6   BEFORE  BEFORE   \n",
       "2    WSJ_20130322_159  apologized    seemed    e1   e10   BEFORE  BEFORE   \n",
       "3    WSJ_20130322_159  apologized     yield    e1   e11    VAGUE   VAGUE   \n",
       "4    WSJ_20130322_159    happened   wrapped    e5    e6   BEFORE  BEFORE   \n",
       "..                ...         ...       ...   ...   ...      ...     ...   \n",
       "832  CNN_20130322_248     sparing     begin    e3    e6   BEFORE  BEFORE   \n",
       "833  CNN_20130322_248     sparing      said    e3    e7    EQUAL   EQUAL   \n",
       "834  CNN_20130322_248    expected     begin    e4    e6   BEFORE  BEFORE   \n",
       "835  CNN_20130322_248    expected      said    e4    e7   BEFORE  BEFORE   \n",
       "836  CNN_20130322_248       begin      said    e6    e7   BEFORE   AFTER   \n",
       "\n",
       "    unique_id  \n",
       "0       e1-e5  \n",
       "1       e1-e6  \n",
       "2      e1-e10  \n",
       "3      e1-e11  \n",
       "4       e5-e6  \n",
       "..        ...  \n",
       "832     e3-e6  \n",
       "833     e3-e7  \n",
       "834     e4-e6  \n",
       "835     e4-e7  \n",
       "836     e6-e7  \n",
       "\n",
       "[837 rows x 8 columns]"
      ],
      "text/html": [
       "<div>\n",
       "<style scoped>\n",
       "    .dataframe tbody tr th:only-of-type {\n",
       "        vertical-align: middle;\n",
       "    }\n",
       "\n",
       "    .dataframe tbody tr th {\n",
       "        vertical-align: top;\n",
       "    }\n",
       "\n",
       "    .dataframe thead th {\n",
       "        text-align: right;\n",
       "    }\n",
       "</style>\n",
       "<table border=\"1\" class=\"dataframe\">\n",
       "  <thead>\n",
       "    <tr style=\"text-align: right;\">\n",
       "      <th></th>\n",
       "      <th>docid</th>\n",
       "      <th>verb1</th>\n",
       "      <th>verb2</th>\n",
       "      <th>eiid1</th>\n",
       "      <th>eiid2</th>\n",
       "      <th>relation</th>\n",
       "      <th>label</th>\n",
       "      <th>unique_id</th>\n",
       "    </tr>\n",
       "  </thead>\n",
       "  <tbody>\n",
       "    <tr>\n",
       "      <th>0</th>\n",
       "      <td>WSJ_20130322_159</td>\n",
       "      <td>apologized</td>\n",
       "      <td>happened</td>\n",
       "      <td>e1</td>\n",
       "      <td>e5</td>\n",
       "      <td>VAGUE</td>\n",
       "      <td>VAGUE</td>\n",
       "      <td>e1-e5</td>\n",
       "    </tr>\n",
       "    <tr>\n",
       "      <th>1</th>\n",
       "      <td>WSJ_20130322_159</td>\n",
       "      <td>apologized</td>\n",
       "      <td>wrapped</td>\n",
       "      <td>e1</td>\n",
       "      <td>e6</td>\n",
       "      <td>BEFORE</td>\n",
       "      <td>BEFORE</td>\n",
       "      <td>e1-e6</td>\n",
       "    </tr>\n",
       "    <tr>\n",
       "      <th>2</th>\n",
       "      <td>WSJ_20130322_159</td>\n",
       "      <td>apologized</td>\n",
       "      <td>seemed</td>\n",
       "      <td>e1</td>\n",
       "      <td>e10</td>\n",
       "      <td>BEFORE</td>\n",
       "      <td>BEFORE</td>\n",
       "      <td>e1-e10</td>\n",
       "    </tr>\n",
       "    <tr>\n",
       "      <th>3</th>\n",
       "      <td>WSJ_20130322_159</td>\n",
       "      <td>apologized</td>\n",
       "      <td>yield</td>\n",
       "      <td>e1</td>\n",
       "      <td>e11</td>\n",
       "      <td>VAGUE</td>\n",
       "      <td>VAGUE</td>\n",
       "      <td>e1-e11</td>\n",
       "    </tr>\n",
       "    <tr>\n",
       "      <th>4</th>\n",
       "      <td>WSJ_20130322_159</td>\n",
       "      <td>happened</td>\n",
       "      <td>wrapped</td>\n",
       "      <td>e5</td>\n",
       "      <td>e6</td>\n",
       "      <td>BEFORE</td>\n",
       "      <td>BEFORE</td>\n",
       "      <td>e5-e6</td>\n",
       "    </tr>\n",
       "    <tr>\n",
       "      <th>...</th>\n",
       "      <td>...</td>\n",
       "      <td>...</td>\n",
       "      <td>...</td>\n",
       "      <td>...</td>\n",
       "      <td>...</td>\n",
       "      <td>...</td>\n",
       "      <td>...</td>\n",
       "      <td>...</td>\n",
       "    </tr>\n",
       "    <tr>\n",
       "      <th>832</th>\n",
       "      <td>CNN_20130322_248</td>\n",
       "      <td>sparing</td>\n",
       "      <td>begin</td>\n",
       "      <td>e3</td>\n",
       "      <td>e6</td>\n",
       "      <td>BEFORE</td>\n",
       "      <td>BEFORE</td>\n",
       "      <td>e3-e6</td>\n",
       "    </tr>\n",
       "    <tr>\n",
       "      <th>833</th>\n",
       "      <td>CNN_20130322_248</td>\n",
       "      <td>sparing</td>\n",
       "      <td>said</td>\n",
       "      <td>e3</td>\n",
       "      <td>e7</td>\n",
       "      <td>EQUAL</td>\n",
       "      <td>EQUAL</td>\n",
       "      <td>e3-e7</td>\n",
       "    </tr>\n",
       "    <tr>\n",
       "      <th>834</th>\n",
       "      <td>CNN_20130322_248</td>\n",
       "      <td>expected</td>\n",
       "      <td>begin</td>\n",
       "      <td>e4</td>\n",
       "      <td>e6</td>\n",
       "      <td>BEFORE</td>\n",
       "      <td>BEFORE</td>\n",
       "      <td>e4-e6</td>\n",
       "    </tr>\n",
       "    <tr>\n",
       "      <th>835</th>\n",
       "      <td>CNN_20130322_248</td>\n",
       "      <td>expected</td>\n",
       "      <td>said</td>\n",
       "      <td>e4</td>\n",
       "      <td>e7</td>\n",
       "      <td>BEFORE</td>\n",
       "      <td>BEFORE</td>\n",
       "      <td>e4-e7</td>\n",
       "    </tr>\n",
       "    <tr>\n",
       "      <th>836</th>\n",
       "      <td>CNN_20130322_248</td>\n",
       "      <td>begin</td>\n",
       "      <td>said</td>\n",
       "      <td>e6</td>\n",
       "      <td>e7</td>\n",
       "      <td>BEFORE</td>\n",
       "      <td>AFTER</td>\n",
       "      <td>e6-e7</td>\n",
       "    </tr>\n",
       "  </tbody>\n",
       "</table>\n",
       "<p>837 rows × 8 columns</p>\n",
       "</div>"
      ]
     },
     "execution_count": 4,
     "metadata": {},
     "output_type": "execute_result"
    }
   ],
   "execution_count": 4
  },
  {
   "metadata": {},
   "cell_type": "markdown",
   "source": "# Gemini-1.5-Pro",
   "id": "4ff0c5e791cc3af1"
  },
  {
   "metadata": {
    "ExecuteTime": {
     "end_time": "2024-08-19T18:41:35.211856Z",
     "start_time": "2024-08-19T18:41:35.209025Z"
    }
   },
   "cell_type": "code",
   "source": [
    "model_name = 'gemini-1.5-pro'\n",
    "method = 'zero-shot'"
   ],
   "id": "de515f39d333bb0b",
   "outputs": [],
   "execution_count": 5
  },
  {
   "metadata": {},
   "cell_type": "markdown",
   "source": "## Zero-Shot",
   "id": "2dc9d6d9775ec5b"
  },
  {
   "metadata": {
    "ExecuteTime": {
     "end_time": "2024-08-14T10:31:58.493192Z",
     "start_time": "2024-08-14T10:31:58.462314Z"
    }
   },
   "cell_type": "code",
   "source": [
    "df_results = pd.read_csv(TRC_RESULTS_PATH / method / f'platinum-results-{model_name}-{method}.csv')\n",
    "df_results"
   ],
   "id": "eef6ab7a59c94f9f",
   "outputs": [
    {
     "data": {
      "text/plain": [
       "                              docid     verb1      verb2 eiid1     eiid2  \\\n",
       "0                       AP_20130322    killed     season    e2  e1000028   \n",
       "1                       AP_20130322   started   sparking    e3        e4   \n",
       "2                       AP_20130322  sparking       turn    e4        e5   \n",
       "3                       AP_20130322      turn      ended    e5        e6   \n",
       "4                       AP_20130322     ended  according    e6        e7   \n",
       "...                             ...       ...        ...   ...       ...   \n",
       "4775  nyt_20130322_strange_computer       use       test   e25       e27   \n",
       "4776  nyt_20130322_strange_computer      tell      react   e28       e29   \n",
       "4777  nyt_20130322_strange_computer     react      burst   e29       e30   \n",
       "4778  nyt_20130322_strange_computer     react      pulse   e29       e31   \n",
       "4779  nyt_20130322_strange_computer     burst      pulse   e30       e31   \n",
       "\n",
       "     relation    unique_id      model_name p_label  iter  score  \\\n",
       "0      BEFORE  e1000028-e2  gemini-1.5-pro  BEFORE   0.0      1   \n",
       "1      BEFORE        e3-e4  gemini-1.5-pro  BEFORE   0.0      1   \n",
       "2      BEFORE        e4-e5  gemini-1.5-pro  BEFORE   0.0      1   \n",
       "3      BEFORE        e5-e6  gemini-1.5-pro  BEFORE   0.0      1   \n",
       "4      BEFORE        e6-e7  gemini-1.5-pro  BEFORE   0.0      1   \n",
       "...       ...          ...             ...     ...   ...    ...   \n",
       "4775   BEFORE      e25-e27  gemini-1.5-pro  BEFORE   4.0      1   \n",
       "4776   BEFORE      e28-e29  gemini-1.5-pro  BEFORE   4.0      1   \n",
       "4777   BEFORE      e29-e30  gemini-1.5-pro  BEFORE   4.0      1   \n",
       "4778   BEFORE      e29-e31  gemini-1.5-pro  BEFORE   4.0      1   \n",
       "4779    EQUAL      e30-e31  gemini-1.5-pro   EQUAL   4.0      1   \n",
       "\n",
       "     relation_selected  max_score conflict_rel  n_cycles  min_vote  \n",
       "0               BEFORE        5.0          NaN       NaN         3  \n",
       "1               BEFORE        4.0          NaN       NaN         3  \n",
       "2               BEFORE        4.0          NaN       NaN         3  \n",
       "3                  NaN        NaN          NaN       NaN         3  \n",
       "4               BEFORE        4.0          NaN       NaN         3  \n",
       "...                ...        ...          ...       ...       ...  \n",
       "4775            BEFORE        5.0          NaN       NaN         3  \n",
       "4776            BEFORE        5.0          NaN       NaN         3  \n",
       "4777            BEFORE        5.0          NaN       NaN         3  \n",
       "4778            BEFORE        5.0          NaN       NaN         3  \n",
       "4779             EQUAL        5.0          NaN       NaN         3  \n",
       "\n",
       "[4780 rows x 16 columns]"
      ],
      "text/html": [
       "<div>\n",
       "<style scoped>\n",
       "    .dataframe tbody tr th:only-of-type {\n",
       "        vertical-align: middle;\n",
       "    }\n",
       "\n",
       "    .dataframe tbody tr th {\n",
       "        vertical-align: top;\n",
       "    }\n",
       "\n",
       "    .dataframe thead th {\n",
       "        text-align: right;\n",
       "    }\n",
       "</style>\n",
       "<table border=\"1\" class=\"dataframe\">\n",
       "  <thead>\n",
       "    <tr style=\"text-align: right;\">\n",
       "      <th></th>\n",
       "      <th>docid</th>\n",
       "      <th>verb1</th>\n",
       "      <th>verb2</th>\n",
       "      <th>eiid1</th>\n",
       "      <th>eiid2</th>\n",
       "      <th>relation</th>\n",
       "      <th>unique_id</th>\n",
       "      <th>model_name</th>\n",
       "      <th>p_label</th>\n",
       "      <th>iter</th>\n",
       "      <th>score</th>\n",
       "      <th>relation_selected</th>\n",
       "      <th>max_score</th>\n",
       "      <th>conflict_rel</th>\n",
       "      <th>n_cycles</th>\n",
       "      <th>min_vote</th>\n",
       "    </tr>\n",
       "  </thead>\n",
       "  <tbody>\n",
       "    <tr>\n",
       "      <th>0</th>\n",
       "      <td>AP_20130322</td>\n",
       "      <td>killed</td>\n",
       "      <td>season</td>\n",
       "      <td>e2</td>\n",
       "      <td>e1000028</td>\n",
       "      <td>BEFORE</td>\n",
       "      <td>e1000028-e2</td>\n",
       "      <td>gemini-1.5-pro</td>\n",
       "      <td>BEFORE</td>\n",
       "      <td>0.0</td>\n",
       "      <td>1</td>\n",
       "      <td>BEFORE</td>\n",
       "      <td>5.0</td>\n",
       "      <td>NaN</td>\n",
       "      <td>NaN</td>\n",
       "      <td>3</td>\n",
       "    </tr>\n",
       "    <tr>\n",
       "      <th>1</th>\n",
       "      <td>AP_20130322</td>\n",
       "      <td>started</td>\n",
       "      <td>sparking</td>\n",
       "      <td>e3</td>\n",
       "      <td>e4</td>\n",
       "      <td>BEFORE</td>\n",
       "      <td>e3-e4</td>\n",
       "      <td>gemini-1.5-pro</td>\n",
       "      <td>BEFORE</td>\n",
       "      <td>0.0</td>\n",
       "      <td>1</td>\n",
       "      <td>BEFORE</td>\n",
       "      <td>4.0</td>\n",
       "      <td>NaN</td>\n",
       "      <td>NaN</td>\n",
       "      <td>3</td>\n",
       "    </tr>\n",
       "    <tr>\n",
       "      <th>2</th>\n",
       "      <td>AP_20130322</td>\n",
       "      <td>sparking</td>\n",
       "      <td>turn</td>\n",
       "      <td>e4</td>\n",
       "      <td>e5</td>\n",
       "      <td>BEFORE</td>\n",
       "      <td>e4-e5</td>\n",
       "      <td>gemini-1.5-pro</td>\n",
       "      <td>BEFORE</td>\n",
       "      <td>0.0</td>\n",
       "      <td>1</td>\n",
       "      <td>BEFORE</td>\n",
       "      <td>4.0</td>\n",
       "      <td>NaN</td>\n",
       "      <td>NaN</td>\n",
       "      <td>3</td>\n",
       "    </tr>\n",
       "    <tr>\n",
       "      <th>3</th>\n",
       "      <td>AP_20130322</td>\n",
       "      <td>turn</td>\n",
       "      <td>ended</td>\n",
       "      <td>e5</td>\n",
       "      <td>e6</td>\n",
       "      <td>BEFORE</td>\n",
       "      <td>e5-e6</td>\n",
       "      <td>gemini-1.5-pro</td>\n",
       "      <td>BEFORE</td>\n",
       "      <td>0.0</td>\n",
       "      <td>1</td>\n",
       "      <td>NaN</td>\n",
       "      <td>NaN</td>\n",
       "      <td>NaN</td>\n",
       "      <td>NaN</td>\n",
       "      <td>3</td>\n",
       "    </tr>\n",
       "    <tr>\n",
       "      <th>4</th>\n",
       "      <td>AP_20130322</td>\n",
       "      <td>ended</td>\n",
       "      <td>according</td>\n",
       "      <td>e6</td>\n",
       "      <td>e7</td>\n",
       "      <td>BEFORE</td>\n",
       "      <td>e6-e7</td>\n",
       "      <td>gemini-1.5-pro</td>\n",
       "      <td>BEFORE</td>\n",
       "      <td>0.0</td>\n",
       "      <td>1</td>\n",
       "      <td>BEFORE</td>\n",
       "      <td>4.0</td>\n",
       "      <td>NaN</td>\n",
       "      <td>NaN</td>\n",
       "      <td>3</td>\n",
       "    </tr>\n",
       "    <tr>\n",
       "      <th>...</th>\n",
       "      <td>...</td>\n",
       "      <td>...</td>\n",
       "      <td>...</td>\n",
       "      <td>...</td>\n",
       "      <td>...</td>\n",
       "      <td>...</td>\n",
       "      <td>...</td>\n",
       "      <td>...</td>\n",
       "      <td>...</td>\n",
       "      <td>...</td>\n",
       "      <td>...</td>\n",
       "      <td>...</td>\n",
       "      <td>...</td>\n",
       "      <td>...</td>\n",
       "      <td>...</td>\n",
       "      <td>...</td>\n",
       "    </tr>\n",
       "    <tr>\n",
       "      <th>4775</th>\n",
       "      <td>nyt_20130322_strange_computer</td>\n",
       "      <td>use</td>\n",
       "      <td>test</td>\n",
       "      <td>e25</td>\n",
       "      <td>e27</td>\n",
       "      <td>BEFORE</td>\n",
       "      <td>e25-e27</td>\n",
       "      <td>gemini-1.5-pro</td>\n",
       "      <td>BEFORE</td>\n",
       "      <td>4.0</td>\n",
       "      <td>1</td>\n",
       "      <td>BEFORE</td>\n",
       "      <td>5.0</td>\n",
       "      <td>NaN</td>\n",
       "      <td>NaN</td>\n",
       "      <td>3</td>\n",
       "    </tr>\n",
       "    <tr>\n",
       "      <th>4776</th>\n",
       "      <td>nyt_20130322_strange_computer</td>\n",
       "      <td>tell</td>\n",
       "      <td>react</td>\n",
       "      <td>e28</td>\n",
       "      <td>e29</td>\n",
       "      <td>BEFORE</td>\n",
       "      <td>e28-e29</td>\n",
       "      <td>gemini-1.5-pro</td>\n",
       "      <td>BEFORE</td>\n",
       "      <td>4.0</td>\n",
       "      <td>1</td>\n",
       "      <td>BEFORE</td>\n",
       "      <td>5.0</td>\n",
       "      <td>NaN</td>\n",
       "      <td>NaN</td>\n",
       "      <td>3</td>\n",
       "    </tr>\n",
       "    <tr>\n",
       "      <th>4777</th>\n",
       "      <td>nyt_20130322_strange_computer</td>\n",
       "      <td>react</td>\n",
       "      <td>burst</td>\n",
       "      <td>e29</td>\n",
       "      <td>e30</td>\n",
       "      <td>BEFORE</td>\n",
       "      <td>e29-e30</td>\n",
       "      <td>gemini-1.5-pro</td>\n",
       "      <td>BEFORE</td>\n",
       "      <td>4.0</td>\n",
       "      <td>1</td>\n",
       "      <td>BEFORE</td>\n",
       "      <td>5.0</td>\n",
       "      <td>NaN</td>\n",
       "      <td>NaN</td>\n",
       "      <td>3</td>\n",
       "    </tr>\n",
       "    <tr>\n",
       "      <th>4778</th>\n",
       "      <td>nyt_20130322_strange_computer</td>\n",
       "      <td>react</td>\n",
       "      <td>pulse</td>\n",
       "      <td>e29</td>\n",
       "      <td>e31</td>\n",
       "      <td>BEFORE</td>\n",
       "      <td>e29-e31</td>\n",
       "      <td>gemini-1.5-pro</td>\n",
       "      <td>BEFORE</td>\n",
       "      <td>4.0</td>\n",
       "      <td>1</td>\n",
       "      <td>BEFORE</td>\n",
       "      <td>5.0</td>\n",
       "      <td>NaN</td>\n",
       "      <td>NaN</td>\n",
       "      <td>3</td>\n",
       "    </tr>\n",
       "    <tr>\n",
       "      <th>4779</th>\n",
       "      <td>nyt_20130322_strange_computer</td>\n",
       "      <td>burst</td>\n",
       "      <td>pulse</td>\n",
       "      <td>e30</td>\n",
       "      <td>e31</td>\n",
       "      <td>EQUAL</td>\n",
       "      <td>e30-e31</td>\n",
       "      <td>gemini-1.5-pro</td>\n",
       "      <td>EQUAL</td>\n",
       "      <td>4.0</td>\n",
       "      <td>1</td>\n",
       "      <td>EQUAL</td>\n",
       "      <td>5.0</td>\n",
       "      <td>NaN</td>\n",
       "      <td>NaN</td>\n",
       "      <td>3</td>\n",
       "    </tr>\n",
       "  </tbody>\n",
       "</table>\n",
       "<p>4780 rows × 16 columns</p>\n",
       "</div>"
      ]
     },
     "execution_count": 6,
     "metadata": {},
     "output_type": "execute_result"
    }
   ],
   "execution_count": 6
  },
  {
   "metadata": {
    "ExecuteTime": {
     "end_time": "2024-08-14T10:31:59.440508Z",
     "start_time": "2024-08-14T10:31:59.426908Z"
    }
   },
   "cell_type": "code",
   "source": [
    "preds_df = (df_results[['docid', 'unique_id', 'relation_selected', 'p_label']]\n",
    "            .copy()\n",
    "            .dropna()\n",
    "            .drop_duplicates(['docid', 'unique_id', 'relation_selected'])\n",
    "            .rename({'relation_selected': 'relation'}, axis='columns'))\n",
    "preds_df"
   ],
   "id": "5076cf76f47a6da",
   "outputs": [
    {
     "data": {
      "text/plain": [
       "                              docid    unique_id relation p_label\n",
       "0                       AP_20130322  e1000028-e2   BEFORE  BEFORE\n",
       "1                       AP_20130322        e3-e4   BEFORE  BEFORE\n",
       "2                       AP_20130322        e4-e5   BEFORE  BEFORE\n",
       "4                       AP_20130322        e6-e7   BEFORE  BEFORE\n",
       "5                       AP_20130322        e8-e9   BEFORE  BEFORE\n",
       "...                             ...          ...      ...     ...\n",
       "4674  nyt_20130322_strange_computer      e28-e29   BEFORE  BEFORE\n",
       "4675  nyt_20130322_strange_computer      e29-e30   BEFORE  BEFORE\n",
       "4676  nyt_20130322_strange_computer      e29-e31   BEFORE  BEFORE\n",
       "4677  nyt_20130322_strange_computer      e30-e31    EQUAL   EQUAL\n",
       "4691  nyt_20130322_strange_computer      e20-e23   BEFORE  BEFORE\n",
       "\n",
       "[568 rows x 4 columns]"
      ],
      "text/html": [
       "<div>\n",
       "<style scoped>\n",
       "    .dataframe tbody tr th:only-of-type {\n",
       "        vertical-align: middle;\n",
       "    }\n",
       "\n",
       "    .dataframe tbody tr th {\n",
       "        vertical-align: top;\n",
       "    }\n",
       "\n",
       "    .dataframe thead th {\n",
       "        text-align: right;\n",
       "    }\n",
       "</style>\n",
       "<table border=\"1\" class=\"dataframe\">\n",
       "  <thead>\n",
       "    <tr style=\"text-align: right;\">\n",
       "      <th></th>\n",
       "      <th>docid</th>\n",
       "      <th>unique_id</th>\n",
       "      <th>relation</th>\n",
       "      <th>p_label</th>\n",
       "    </tr>\n",
       "  </thead>\n",
       "  <tbody>\n",
       "    <tr>\n",
       "      <th>0</th>\n",
       "      <td>AP_20130322</td>\n",
       "      <td>e1000028-e2</td>\n",
       "      <td>BEFORE</td>\n",
       "      <td>BEFORE</td>\n",
       "    </tr>\n",
       "    <tr>\n",
       "      <th>1</th>\n",
       "      <td>AP_20130322</td>\n",
       "      <td>e3-e4</td>\n",
       "      <td>BEFORE</td>\n",
       "      <td>BEFORE</td>\n",
       "    </tr>\n",
       "    <tr>\n",
       "      <th>2</th>\n",
       "      <td>AP_20130322</td>\n",
       "      <td>e4-e5</td>\n",
       "      <td>BEFORE</td>\n",
       "      <td>BEFORE</td>\n",
       "    </tr>\n",
       "    <tr>\n",
       "      <th>4</th>\n",
       "      <td>AP_20130322</td>\n",
       "      <td>e6-e7</td>\n",
       "      <td>BEFORE</td>\n",
       "      <td>BEFORE</td>\n",
       "    </tr>\n",
       "    <tr>\n",
       "      <th>5</th>\n",
       "      <td>AP_20130322</td>\n",
       "      <td>e8-e9</td>\n",
       "      <td>BEFORE</td>\n",
       "      <td>BEFORE</td>\n",
       "    </tr>\n",
       "    <tr>\n",
       "      <th>...</th>\n",
       "      <td>...</td>\n",
       "      <td>...</td>\n",
       "      <td>...</td>\n",
       "      <td>...</td>\n",
       "    </tr>\n",
       "    <tr>\n",
       "      <th>4674</th>\n",
       "      <td>nyt_20130322_strange_computer</td>\n",
       "      <td>e28-e29</td>\n",
       "      <td>BEFORE</td>\n",
       "      <td>BEFORE</td>\n",
       "    </tr>\n",
       "    <tr>\n",
       "      <th>4675</th>\n",
       "      <td>nyt_20130322_strange_computer</td>\n",
       "      <td>e29-e30</td>\n",
       "      <td>BEFORE</td>\n",
       "      <td>BEFORE</td>\n",
       "    </tr>\n",
       "    <tr>\n",
       "      <th>4676</th>\n",
       "      <td>nyt_20130322_strange_computer</td>\n",
       "      <td>e29-e31</td>\n",
       "      <td>BEFORE</td>\n",
       "      <td>BEFORE</td>\n",
       "    </tr>\n",
       "    <tr>\n",
       "      <th>4677</th>\n",
       "      <td>nyt_20130322_strange_computer</td>\n",
       "      <td>e30-e31</td>\n",
       "      <td>EQUAL</td>\n",
       "      <td>EQUAL</td>\n",
       "    </tr>\n",
       "    <tr>\n",
       "      <th>4691</th>\n",
       "      <td>nyt_20130322_strange_computer</td>\n",
       "      <td>e20-e23</td>\n",
       "      <td>BEFORE</td>\n",
       "      <td>BEFORE</td>\n",
       "    </tr>\n",
       "  </tbody>\n",
       "</table>\n",
       "<p>568 rows × 4 columns</p>\n",
       "</div>"
      ]
     },
     "execution_count": 7,
     "metadata": {},
     "output_type": "execute_result"
    }
   ],
   "execution_count": 7
  },
  {
   "metadata": {
    "ExecuteTime": {
     "end_time": "2024-08-05T20:33:58.345324Z",
     "start_time": "2024-08-05T20:33:58.338892Z"
    }
   },
   "cell_type": "code",
   "source": [
    "matched_preds = pd.merge(preds_df, gold_df[['docid', 'unique_id']], how='inner', on=['docid', 'unique_id'])\n",
    "gold_covarage = matched_preds.shape[0] / gold_df.shape[0] * 100\n",
    "print(f'the covarage of the model is {gold_covarage:.2f}%')"
   ],
   "id": "18529e12bd5e2f05",
   "outputs": [
    {
     "name": "stdout",
     "output_type": "stream",
     "text": [
      "the covarage of the model is 22.10%\n"
     ]
    }
   ],
   "execution_count": 63
  },
  {
   "metadata": {
    "ExecuteTime": {
     "end_time": "2024-08-14T10:32:03.628569Z",
     "start_time": "2024-08-14T10:32:03.577532Z"
    }
   },
   "cell_type": "code",
   "source": [
    "df = relation_table(gold_df, preds_df, model_name, target_col='label')\n",
    "df"
   ],
   "id": "f9fe2b9ad7acb72d",
   "outputs": [
    {
     "data": {
      "text/plain": [
       "                      gemini-1.5-pro                                        \n",
       "                              BEFORE AFTER EQUAL VAGUE no_predictions    sum\n",
       "gold-labeled BEFORE             94.0   2.0   1.0   2.0          325.0  424.0\n",
       "             AFTER              57.0   1.0   3.0   0.0          208.0  269.0\n",
       "             EQUAL               8.0   0.0   1.0   0.0           22.0   31.0\n",
       "             VAGUE              16.0   0.0   0.0   0.0           97.0  113.0\n",
       "             no_label          354.0   2.0  27.0   0.0            0.0  383.0\n",
       "             sum               529.0   5.0  32.0   2.0          652.0    NaN"
      ],
      "text/html": [
       "<div>\n",
       "<style scoped>\n",
       "    .dataframe tbody tr th:only-of-type {\n",
       "        vertical-align: middle;\n",
       "    }\n",
       "\n",
       "    .dataframe tbody tr th {\n",
       "        vertical-align: top;\n",
       "    }\n",
       "\n",
       "    .dataframe thead tr th {\n",
       "        text-align: left;\n",
       "    }\n",
       "</style>\n",
       "<table border=\"1\" class=\"dataframe\">\n",
       "  <thead>\n",
       "    <tr>\n",
       "      <th></th>\n",
       "      <th></th>\n",
       "      <th colspan=\"6\" halign=\"left\">gemini-1.5-pro</th>\n",
       "    </tr>\n",
       "    <tr>\n",
       "      <th></th>\n",
       "      <th></th>\n",
       "      <th>BEFORE</th>\n",
       "      <th>AFTER</th>\n",
       "      <th>EQUAL</th>\n",
       "      <th>VAGUE</th>\n",
       "      <th>no_predictions</th>\n",
       "      <th>sum</th>\n",
       "    </tr>\n",
       "  </thead>\n",
       "  <tbody>\n",
       "    <tr>\n",
       "      <th rowspan=\"6\" valign=\"top\">gold-labeled</th>\n",
       "      <th>BEFORE</th>\n",
       "      <td>94.0</td>\n",
       "      <td>2.0</td>\n",
       "      <td>1.0</td>\n",
       "      <td>2.0</td>\n",
       "      <td>325.0</td>\n",
       "      <td>424.0</td>\n",
       "    </tr>\n",
       "    <tr>\n",
       "      <th>AFTER</th>\n",
       "      <td>57.0</td>\n",
       "      <td>1.0</td>\n",
       "      <td>3.0</td>\n",
       "      <td>0.0</td>\n",
       "      <td>208.0</td>\n",
       "      <td>269.0</td>\n",
       "    </tr>\n",
       "    <tr>\n",
       "      <th>EQUAL</th>\n",
       "      <td>8.0</td>\n",
       "      <td>0.0</td>\n",
       "      <td>1.0</td>\n",
       "      <td>0.0</td>\n",
       "      <td>22.0</td>\n",
       "      <td>31.0</td>\n",
       "    </tr>\n",
       "    <tr>\n",
       "      <th>VAGUE</th>\n",
       "      <td>16.0</td>\n",
       "      <td>0.0</td>\n",
       "      <td>0.0</td>\n",
       "      <td>0.0</td>\n",
       "      <td>97.0</td>\n",
       "      <td>113.0</td>\n",
       "    </tr>\n",
       "    <tr>\n",
       "      <th>no_label</th>\n",
       "      <td>354.0</td>\n",
       "      <td>2.0</td>\n",
       "      <td>27.0</td>\n",
       "      <td>0.0</td>\n",
       "      <td>0.0</td>\n",
       "      <td>383.0</td>\n",
       "    </tr>\n",
       "    <tr>\n",
       "      <th>sum</th>\n",
       "      <td>529.0</td>\n",
       "      <td>5.0</td>\n",
       "      <td>32.0</td>\n",
       "      <td>2.0</td>\n",
       "      <td>652.0</td>\n",
       "      <td>NaN</td>\n",
       "    </tr>\n",
       "  </tbody>\n",
       "</table>\n",
       "</div>"
      ]
     },
     "execution_count": 8,
     "metadata": {},
     "output_type": "execute_result"
    }
   ],
   "execution_count": 8
  },
  {
   "metadata": {
    "ExecuteTime": {
     "end_time": "2024-08-05T20:34:03.663284Z",
     "start_time": "2024-08-05T20:34:03.644312Z"
    }
   },
   "cell_type": "code",
   "source": "df.to_excel(DATA_PATH / f'models-comp-results-{model_name}-{method}.xlsx')",
   "id": "10cbfb29712c664",
   "outputs": [],
   "execution_count": 65
  },
  {
   "metadata": {
    "ExecuteTime": {
     "end_time": "2024-08-14T10:32:06.865404Z",
     "start_time": "2024-08-14T10:32:06.852710Z"
    }
   },
   "cell_type": "code",
   "source": [
    "recall_df = recall(df)\n",
    "recall_df"
   ],
   "id": "ca1884d3bab5764f",
   "outputs": [
    {
     "data": {
      "text/plain": [
       "     BEFORE     AFTER     EQUAL  VAGUE\n",
       "0  0.221698  0.003717  0.032258    0.0"
      ],
      "text/html": [
       "<div>\n",
       "<style scoped>\n",
       "    .dataframe tbody tr th:only-of-type {\n",
       "        vertical-align: middle;\n",
       "    }\n",
       "\n",
       "    .dataframe tbody tr th {\n",
       "        vertical-align: top;\n",
       "    }\n",
       "\n",
       "    .dataframe thead th {\n",
       "        text-align: right;\n",
       "    }\n",
       "</style>\n",
       "<table border=\"1\" class=\"dataframe\">\n",
       "  <thead>\n",
       "    <tr style=\"text-align: right;\">\n",
       "      <th></th>\n",
       "      <th>BEFORE</th>\n",
       "      <th>AFTER</th>\n",
       "      <th>EQUAL</th>\n",
       "      <th>VAGUE</th>\n",
       "    </tr>\n",
       "  </thead>\n",
       "  <tbody>\n",
       "    <tr>\n",
       "      <th>0</th>\n",
       "      <td>0.221698</td>\n",
       "      <td>0.003717</td>\n",
       "      <td>0.032258</td>\n",
       "      <td>0.0</td>\n",
       "    </tr>\n",
       "  </tbody>\n",
       "</table>\n",
       "</div>"
      ]
     },
     "execution_count": 9,
     "metadata": {},
     "output_type": "execute_result"
    }
   ],
   "execution_count": 9
  },
  {
   "metadata": {
    "ExecuteTime": {
     "end_time": "2024-08-14T10:32:07.644117Z",
     "start_time": "2024-08-14T10:32:07.631156Z"
    }
   },
   "cell_type": "code",
   "source": [
    "precision_df = precision(df)\n",
    "precision_df"
   ],
   "id": "57c22f1b3ff5b8bb",
   "outputs": [
    {
     "data": {
      "text/plain": [
       "     BEFORE  AFTER    EQUAL  VAGUE\n",
       "0  0.177694    0.2  0.03125    0.0"
      ],
      "text/html": [
       "<div>\n",
       "<style scoped>\n",
       "    .dataframe tbody tr th:only-of-type {\n",
       "        vertical-align: middle;\n",
       "    }\n",
       "\n",
       "    .dataframe tbody tr th {\n",
       "        vertical-align: top;\n",
       "    }\n",
       "\n",
       "    .dataframe thead th {\n",
       "        text-align: right;\n",
       "    }\n",
       "</style>\n",
       "<table border=\"1\" class=\"dataframe\">\n",
       "  <thead>\n",
       "    <tr style=\"text-align: right;\">\n",
       "      <th></th>\n",
       "      <th>BEFORE</th>\n",
       "      <th>AFTER</th>\n",
       "      <th>EQUAL</th>\n",
       "      <th>VAGUE</th>\n",
       "    </tr>\n",
       "  </thead>\n",
       "  <tbody>\n",
       "    <tr>\n",
       "      <th>0</th>\n",
       "      <td>0.177694</td>\n",
       "      <td>0.2</td>\n",
       "      <td>0.03125</td>\n",
       "      <td>0.0</td>\n",
       "    </tr>\n",
       "  </tbody>\n",
       "</table>\n",
       "</div>"
      ]
     },
     "execution_count": 10,
     "metadata": {},
     "output_type": "execute_result"
    }
   ],
   "execution_count": 10
  },
  {
   "metadata": {
    "ExecuteTime": {
     "end_time": "2024-08-14T10:27:42.155920Z",
     "start_time": "2024-08-14T10:27:42.151499Z"
    }
   },
   "cell_type": "code",
   "source": "calculate_f1(precision_df.to_numpy()[0], recall_df.to_numpy()[0])",
   "id": "17d2c99967490619",
   "outputs": [
    {
     "data": {
      "text/plain": [
       "array([0.19727177, 0.00729927, 0.03174603, 0.        ])"
      ]
     },
     "execution_count": 18,
     "metadata": {},
     "output_type": "execute_result"
    }
   ],
   "execution_count": 18
  },
  {
   "metadata": {
    "ExecuteTime": {
     "end_time": "2024-08-14T10:27:43.948430Z",
     "start_time": "2024-08-14T10:27:43.943730Z"
    }
   },
   "cell_type": "code",
   "source": "calculate_micro_f1(precision_df.to_numpy()[0], recall_df.to_numpy()[0])",
   "id": "207930c6d3eaf9d",
   "outputs": [
    {
     "data": {
      "text/plain": [
       "0.0076591422878803375"
      ]
     },
     "execution_count": 19,
     "metadata": {},
     "output_type": "execute_result"
    }
   ],
   "execution_count": 19
  },
  {
   "metadata": {
    "ExecuteTime": {
     "end_time": "2024-08-14T10:32:11.847311Z",
     "start_time": "2024-08-14T10:32:11.842359Z"
    }
   },
   "cell_type": "code",
   "source": "calculate_relax_micro_f1(precision_df.to_numpy()[0], recall_df.to_numpy()[0])",
   "id": "7608e211b4f3846b",
   "outputs": [
    {
     "data": {
      "text/plain": [
       "0.0076591422878803375"
      ]
     },
     "execution_count": 11,
     "metadata": {},
     "output_type": "execute_result"
    }
   ],
   "execution_count": 11
  },
  {
   "metadata": {},
   "cell_type": "markdown",
   "source": "### Completion",
   "id": "c6d5b739318045f5"
  },
  {
   "metadata": {
    "ExecuteTime": {
     "end_time": "2024-08-14T10:32:39.231425Z",
     "start_time": "2024-08-14T10:32:39.209755Z"
    }
   },
   "cell_type": "code",
   "source": [
    "df_pro_completion_results = pd.read_csv(TRC_RESULTS_PATH / method / f'platinum-results-{model_name}-{method}-completion.csv')\n",
    "preds_zero_pro_completion_df = (df_pro_completion_results[['docid', 'unique_id', 'relation_selected', 'p_label']]\n",
    "            .copy()\n",
    "            .dropna()\n",
    "            .drop_duplicates(['docid', 'unique_id', 'relation_selected'])\n",
    "            .rename({'relation_selected': 'relation'}, axis='columns'))\n",
    "\n",
    "preds_zero_pro_completion_df"
   ],
   "id": "53184899746991f4",
   "outputs": [
    {
     "data": {
      "text/plain": [
       "                             docid  unique_id relation p_label\n",
       "0                      AP_20130322      e2-e3   BEFORE  BEFORE\n",
       "2                      AP_20130322      e3-e4   BEFORE  BEFORE\n",
       "3                      AP_20130322      e3-e6   BEFORE  BEFORE\n",
       "4                      AP_20130322      e3-e7   BEFORE  BEFORE\n",
       "5                      AP_20130322      e4-e6   BEFORE  BEFORE\n",
       "...                            ...        ...      ...     ...\n",
       "2592  nyt_20130321_china_pollution      e2-e8   BEFORE  BEFORE\n",
       "2601  nyt_20130321_china_pollution     e14-e8   BEFORE  BEFORE\n",
       "2602  nyt_20130321_china_pollution     e15-e8   BEFORE  BEFORE\n",
       "2603  nyt_20130321_china_pollution     e16-e8   BEFORE  BEFORE\n",
       "2774           nyt_20130321_cyprus  UNDEFINED   BEFORE   VAGUE\n",
       "\n",
       "[354 rows x 4 columns]"
      ],
      "text/html": [
       "<div>\n",
       "<style scoped>\n",
       "    .dataframe tbody tr th:only-of-type {\n",
       "        vertical-align: middle;\n",
       "    }\n",
       "\n",
       "    .dataframe tbody tr th {\n",
       "        vertical-align: top;\n",
       "    }\n",
       "\n",
       "    .dataframe thead th {\n",
       "        text-align: right;\n",
       "    }\n",
       "</style>\n",
       "<table border=\"1\" class=\"dataframe\">\n",
       "  <thead>\n",
       "    <tr style=\"text-align: right;\">\n",
       "      <th></th>\n",
       "      <th>docid</th>\n",
       "      <th>unique_id</th>\n",
       "      <th>relation</th>\n",
       "      <th>p_label</th>\n",
       "    </tr>\n",
       "  </thead>\n",
       "  <tbody>\n",
       "    <tr>\n",
       "      <th>0</th>\n",
       "      <td>AP_20130322</td>\n",
       "      <td>e2-e3</td>\n",
       "      <td>BEFORE</td>\n",
       "      <td>BEFORE</td>\n",
       "    </tr>\n",
       "    <tr>\n",
       "      <th>2</th>\n",
       "      <td>AP_20130322</td>\n",
       "      <td>e3-e4</td>\n",
       "      <td>BEFORE</td>\n",
       "      <td>BEFORE</td>\n",
       "    </tr>\n",
       "    <tr>\n",
       "      <th>3</th>\n",
       "      <td>AP_20130322</td>\n",
       "      <td>e3-e6</td>\n",
       "      <td>BEFORE</td>\n",
       "      <td>BEFORE</td>\n",
       "    </tr>\n",
       "    <tr>\n",
       "      <th>4</th>\n",
       "      <td>AP_20130322</td>\n",
       "      <td>e3-e7</td>\n",
       "      <td>BEFORE</td>\n",
       "      <td>BEFORE</td>\n",
       "    </tr>\n",
       "    <tr>\n",
       "      <th>5</th>\n",
       "      <td>AP_20130322</td>\n",
       "      <td>e4-e6</td>\n",
       "      <td>BEFORE</td>\n",
       "      <td>BEFORE</td>\n",
       "    </tr>\n",
       "    <tr>\n",
       "      <th>...</th>\n",
       "      <td>...</td>\n",
       "      <td>...</td>\n",
       "      <td>...</td>\n",
       "      <td>...</td>\n",
       "    </tr>\n",
       "    <tr>\n",
       "      <th>2592</th>\n",
       "      <td>nyt_20130321_china_pollution</td>\n",
       "      <td>e2-e8</td>\n",
       "      <td>BEFORE</td>\n",
       "      <td>BEFORE</td>\n",
       "    </tr>\n",
       "    <tr>\n",
       "      <th>2601</th>\n",
       "      <td>nyt_20130321_china_pollution</td>\n",
       "      <td>e14-e8</td>\n",
       "      <td>BEFORE</td>\n",
       "      <td>BEFORE</td>\n",
       "    </tr>\n",
       "    <tr>\n",
       "      <th>2602</th>\n",
       "      <td>nyt_20130321_china_pollution</td>\n",
       "      <td>e15-e8</td>\n",
       "      <td>BEFORE</td>\n",
       "      <td>BEFORE</td>\n",
       "    </tr>\n",
       "    <tr>\n",
       "      <th>2603</th>\n",
       "      <td>nyt_20130321_china_pollution</td>\n",
       "      <td>e16-e8</td>\n",
       "      <td>BEFORE</td>\n",
       "      <td>BEFORE</td>\n",
       "    </tr>\n",
       "    <tr>\n",
       "      <th>2774</th>\n",
       "      <td>nyt_20130321_cyprus</td>\n",
       "      <td>UNDEFINED</td>\n",
       "      <td>BEFORE</td>\n",
       "      <td>VAGUE</td>\n",
       "    </tr>\n",
       "  </tbody>\n",
       "</table>\n",
       "<p>354 rows × 4 columns</p>\n",
       "</div>"
      ]
     },
     "execution_count": 12,
     "metadata": {},
     "output_type": "execute_result"
    }
   ],
   "execution_count": 12
  },
  {
   "metadata": {
    "ExecuteTime": {
     "end_time": "2024-08-14T10:32:40.440718Z",
     "start_time": "2024-08-14T10:32:40.390613Z"
    }
   },
   "cell_type": "code",
   "source": [
    "df = relation_table(gold_df, preds_zero_pro_completion_df, f'{model_name}-{method}-completion', target_col='label')\n",
    "df"
   ],
   "id": "2852457d8c2a32ae",
   "outputs": [
    {
     "data": {
      "text/plain": [
       "                      gemini-1.5-pro-zero-shot-completion                    \\\n",
       "                                                   BEFORE AFTER EQUAL VAGUE   \n",
       "gold-labeled BEFORE                                 165.0   4.0  12.0   8.0   \n",
       "             AFTER                                   86.0  15.0   7.0   4.0   \n",
       "             EQUAL                                    3.0   1.0   3.0   1.0   \n",
       "             VAGUE                                   30.0   4.0   2.0   3.0   \n",
       "             no_label                                 5.0   0.0   0.0   1.0   \n",
       "             sum                                    289.0  24.0  24.0  17.0   \n",
       "\n",
       "                                             \n",
       "                      no_predictions    sum  \n",
       "gold-labeled BEFORE            235.0  424.0  \n",
       "             AFTER             157.0  269.0  \n",
       "             EQUAL              23.0   31.0  \n",
       "             VAGUE              74.0  113.0  \n",
       "             no_label            0.0    6.0  \n",
       "             sum               489.0    NaN  "
      ],
      "text/html": [
       "<div>\n",
       "<style scoped>\n",
       "    .dataframe tbody tr th:only-of-type {\n",
       "        vertical-align: middle;\n",
       "    }\n",
       "\n",
       "    .dataframe tbody tr th {\n",
       "        vertical-align: top;\n",
       "    }\n",
       "\n",
       "    .dataframe thead tr th {\n",
       "        text-align: left;\n",
       "    }\n",
       "</style>\n",
       "<table border=\"1\" class=\"dataframe\">\n",
       "  <thead>\n",
       "    <tr>\n",
       "      <th></th>\n",
       "      <th></th>\n",
       "      <th colspan=\"6\" halign=\"left\">gemini-1.5-pro-zero-shot-completion</th>\n",
       "    </tr>\n",
       "    <tr>\n",
       "      <th></th>\n",
       "      <th></th>\n",
       "      <th>BEFORE</th>\n",
       "      <th>AFTER</th>\n",
       "      <th>EQUAL</th>\n",
       "      <th>VAGUE</th>\n",
       "      <th>no_predictions</th>\n",
       "      <th>sum</th>\n",
       "    </tr>\n",
       "  </thead>\n",
       "  <tbody>\n",
       "    <tr>\n",
       "      <th rowspan=\"6\" valign=\"top\">gold-labeled</th>\n",
       "      <th>BEFORE</th>\n",
       "      <td>165.0</td>\n",
       "      <td>4.0</td>\n",
       "      <td>12.0</td>\n",
       "      <td>8.0</td>\n",
       "      <td>235.0</td>\n",
       "      <td>424.0</td>\n",
       "    </tr>\n",
       "    <tr>\n",
       "      <th>AFTER</th>\n",
       "      <td>86.0</td>\n",
       "      <td>15.0</td>\n",
       "      <td>7.0</td>\n",
       "      <td>4.0</td>\n",
       "      <td>157.0</td>\n",
       "      <td>269.0</td>\n",
       "    </tr>\n",
       "    <tr>\n",
       "      <th>EQUAL</th>\n",
       "      <td>3.0</td>\n",
       "      <td>1.0</td>\n",
       "      <td>3.0</td>\n",
       "      <td>1.0</td>\n",
       "      <td>23.0</td>\n",
       "      <td>31.0</td>\n",
       "    </tr>\n",
       "    <tr>\n",
       "      <th>VAGUE</th>\n",
       "      <td>30.0</td>\n",
       "      <td>4.0</td>\n",
       "      <td>2.0</td>\n",
       "      <td>3.0</td>\n",
       "      <td>74.0</td>\n",
       "      <td>113.0</td>\n",
       "    </tr>\n",
       "    <tr>\n",
       "      <th>no_label</th>\n",
       "      <td>5.0</td>\n",
       "      <td>0.0</td>\n",
       "      <td>0.0</td>\n",
       "      <td>1.0</td>\n",
       "      <td>0.0</td>\n",
       "      <td>6.0</td>\n",
       "    </tr>\n",
       "    <tr>\n",
       "      <th>sum</th>\n",
       "      <td>289.0</td>\n",
       "      <td>24.0</td>\n",
       "      <td>24.0</td>\n",
       "      <td>17.0</td>\n",
       "      <td>489.0</td>\n",
       "      <td>NaN</td>\n",
       "    </tr>\n",
       "  </tbody>\n",
       "</table>\n",
       "</div>"
      ]
     },
     "execution_count": 13,
     "metadata": {},
     "output_type": "execute_result"
    }
   ],
   "execution_count": 13
  },
  {
   "metadata": {
    "ExecuteTime": {
     "end_time": "2024-08-05T20:34:47.394373Z",
     "start_time": "2024-08-05T20:34:47.387779Z"
    }
   },
   "cell_type": "code",
   "source": [
    "matched_preds = pd.merge(preds_zero_pro_completion_df, gold_df[['docid', 'unique_id']], how='inner', on=['docid', 'unique_id'])\n",
    "gold_covarage = matched_preds.shape[0] / gold_df.shape[0] * 100\n",
    "print(f'the covarage of the model is {gold_covarage:.2f}%')"
   ],
   "id": "f4e62c2aef14970",
   "outputs": [
    {
     "name": "stdout",
     "output_type": "stream",
     "text": [
      "the covarage of the model is 41.58%\n"
     ]
    }
   ],
   "execution_count": 68
  },
  {
   "metadata": {
    "ExecuteTime": {
     "end_time": "2024-08-05T20:34:49.794576Z",
     "start_time": "2024-08-05T20:34:49.788360Z"
    }
   },
   "cell_type": "code",
   "source": [
    "cycles_score = df_pro_completion_results[['docid', 'n_cycles']].drop_duplicates()['n_cycles'].sum() / df_pro_completion_results['docid'].nunique()\n",
    "print(f'there is a {cycles_score * 100}% chance for a cycle')"
   ],
   "id": "2b7fc8e554b1eb06",
   "outputs": [
    {
     "name": "stdout",
     "output_type": "stream",
     "text": [
      "there is a 0.0% chance for a cycle\n"
     ]
    }
   ],
   "execution_count": 69
  },
  {
   "metadata": {
    "ExecuteTime": {
     "end_time": "2024-08-05T20:34:52.681236Z",
     "start_time": "2024-08-05T20:34:52.662042Z"
    }
   },
   "cell_type": "code",
   "source": "df.to_excel(DATA_PATH / f'models-comp-results-{model_name}-{method}-completion.xlsx')",
   "id": "f39e7e33586adcbf",
   "outputs": [],
   "execution_count": 70
  },
  {
   "metadata": {
    "ExecuteTime": {
     "end_time": "2024-08-14T10:32:48.053863Z",
     "start_time": "2024-08-14T10:32:48.040578Z"
    }
   },
   "cell_type": "code",
   "source": [
    "recall_df = recall(df)\n",
    "recall_df"
   ],
   "id": "3b1e321f1f63aa08",
   "outputs": [
    {
     "data": {
      "text/plain": [
       "     BEFORE     AFTER     EQUAL     VAGUE\n",
       "0  0.389151  0.055762  0.096774  0.026549"
      ],
      "text/html": [
       "<div>\n",
       "<style scoped>\n",
       "    .dataframe tbody tr th:only-of-type {\n",
       "        vertical-align: middle;\n",
       "    }\n",
       "\n",
       "    .dataframe tbody tr th {\n",
       "        vertical-align: top;\n",
       "    }\n",
       "\n",
       "    .dataframe thead th {\n",
       "        text-align: right;\n",
       "    }\n",
       "</style>\n",
       "<table border=\"1\" class=\"dataframe\">\n",
       "  <thead>\n",
       "    <tr style=\"text-align: right;\">\n",
       "      <th></th>\n",
       "      <th>BEFORE</th>\n",
       "      <th>AFTER</th>\n",
       "      <th>EQUAL</th>\n",
       "      <th>VAGUE</th>\n",
       "    </tr>\n",
       "  </thead>\n",
       "  <tbody>\n",
       "    <tr>\n",
       "      <th>0</th>\n",
       "      <td>0.389151</td>\n",
       "      <td>0.055762</td>\n",
       "      <td>0.096774</td>\n",
       "      <td>0.026549</td>\n",
       "    </tr>\n",
       "  </tbody>\n",
       "</table>\n",
       "</div>"
      ]
     },
     "execution_count": 14,
     "metadata": {},
     "output_type": "execute_result"
    }
   ],
   "execution_count": 14
  },
  {
   "metadata": {
    "ExecuteTime": {
     "end_time": "2024-08-14T10:32:48.695728Z",
     "start_time": "2024-08-14T10:32:48.682414Z"
    }
   },
   "cell_type": "code",
   "source": [
    "precision_df = precision(df)\n",
    "precision_df"
   ],
   "id": "588eaed048b0bf7c",
   "outputs": [
    {
     "data": {
      "text/plain": [
       "     BEFORE  AFTER  EQUAL     VAGUE\n",
       "0  0.570934  0.625  0.125  0.176471"
      ],
      "text/html": [
       "<div>\n",
       "<style scoped>\n",
       "    .dataframe tbody tr th:only-of-type {\n",
       "        vertical-align: middle;\n",
       "    }\n",
       "\n",
       "    .dataframe tbody tr th {\n",
       "        vertical-align: top;\n",
       "    }\n",
       "\n",
       "    .dataframe thead th {\n",
       "        text-align: right;\n",
       "    }\n",
       "</style>\n",
       "<table border=\"1\" class=\"dataframe\">\n",
       "  <thead>\n",
       "    <tr style=\"text-align: right;\">\n",
       "      <th></th>\n",
       "      <th>BEFORE</th>\n",
       "      <th>AFTER</th>\n",
       "      <th>EQUAL</th>\n",
       "      <th>VAGUE</th>\n",
       "    </tr>\n",
       "  </thead>\n",
       "  <tbody>\n",
       "    <tr>\n",
       "      <th>0</th>\n",
       "      <td>0.570934</td>\n",
       "      <td>0.625</td>\n",
       "      <td>0.125</td>\n",
       "      <td>0.176471</td>\n",
       "    </tr>\n",
       "  </tbody>\n",
       "</table>\n",
       "</div>"
      ]
     },
     "execution_count": 15,
     "metadata": {},
     "output_type": "execute_result"
    }
   ],
   "execution_count": 15
  },
  {
   "metadata": {
    "ExecuteTime": {
     "end_time": "2024-08-14T10:32:49.453643Z",
     "start_time": "2024-08-14T10:32:49.446470Z"
    }
   },
   "cell_type": "code",
   "source": "calculate_f1(precision_df.to_numpy()[0], recall_df.to_numpy()[0])",
   "id": "c5244680e33ca7c5",
   "outputs": [
    {
     "data": {
      "text/plain": [
       "array([0.4628331 , 0.10238908, 0.10909091, 0.04615385])"
      ]
     },
     "execution_count": 16,
     "metadata": {},
     "output_type": "execute_result"
    }
   ],
   "execution_count": 16
  },
  {
   "metadata": {
    "ExecuteTime": {
     "end_time": "2024-08-14T10:32:50.272107Z",
     "start_time": "2024-08-14T10:32:50.267162Z"
    }
   },
   "cell_type": "code",
   "source": "calculate_micro_f1(precision_df.to_numpy()[0], recall_df.to_numpy()[0])",
   "id": "a098407aac94e07e",
   "outputs": [
    {
     "data": {
      "text/plain": [
       "0.03552694661446764"
      ]
     },
     "execution_count": 17,
     "metadata": {},
     "output_type": "execute_result"
    }
   ],
   "execution_count": 17
  },
  {
   "metadata": {
    "ExecuteTime": {
     "end_time": "2024-08-14T10:32:51.057336Z",
     "start_time": "2024-08-14T10:32:51.053686Z"
    }
   },
   "cell_type": "code",
   "source": "calculate_relax_micro_f1(precision_df.to_numpy()[0], recall_df.to_numpy()[0])",
   "id": "4aa11a6c202a7ade",
   "outputs": [
    {
     "data": {
      "text/plain": [
       "0.04639799879613124"
      ]
     },
     "execution_count": 18,
     "metadata": {},
     "output_type": "execute_result"
    }
   ],
   "execution_count": 18
  },
  {
   "metadata": {},
   "cell_type": "markdown",
   "source": "### Explenation",
   "id": "750caa2e959068b3"
  },
  {
   "metadata": {
    "ExecuteTime": {
     "end_time": "2024-08-14T10:34:50.867149Z",
     "start_time": "2024-08-14T10:34:50.843044Z"
    }
   },
   "cell_type": "code",
   "source": [
    "df_pro_completion_explanation_results = pd.read_csv(TRC_RESULTS_PATH / method / f'platinum-results-{model_name}-{method}-completion-explanation.csv')\n",
    "preds_zero_pro_completion_explanation_df = (df_pro_completion_explanation_results[['docid', 'unique_id', 'relation_selected', 'p_label']]\n",
    "            .copy()\n",
    "            .dropna()\n",
    "            .drop_duplicates(['docid', 'unique_id', 'relation_selected'])\n",
    "            .rename({'relation_selected': 'relation'}, axis='columns'))\n",
    "\n",
    "preds_zero_pro_completion_explanation_df"
   ],
   "id": "67a42d5fe998e2b6",
   "outputs": [
    {
     "data": {
      "text/plain": [
       "                              docid unique_id relation p_label\n",
       "0                       AP_20130322     e2-e3   BEFORE  BEFORE\n",
       "2                       AP_20130322     e3-e4   BEFORE  BEFORE\n",
       "3                       AP_20130322     e3-e6   BEFORE  BEFORE\n",
       "4                       AP_20130322     e3-e7   BEFORE  BEFORE\n",
       "7                       AP_20130322     e6-e7   BEFORE  BEFORE\n",
       "...                             ...       ...      ...     ...\n",
       "3783  nyt_20130322_strange_computer   e11-e14   BEFORE  BEFORE\n",
       "3784  nyt_20130322_strange_computer   e11-e16   BEFORE  BEFORE\n",
       "3792  nyt_20130322_strange_computer   e19-e22   BEFORE  BEFORE\n",
       "3793  nyt_20130322_strange_computer   e19-e23   BEFORE  BEFORE\n",
       "3794  nyt_20130322_strange_computer   e22-e23   BEFORE   VAGUE\n",
       "\n",
       "[644 rows x 4 columns]"
      ],
      "text/html": [
       "<div>\n",
       "<style scoped>\n",
       "    .dataframe tbody tr th:only-of-type {\n",
       "        vertical-align: middle;\n",
       "    }\n",
       "\n",
       "    .dataframe tbody tr th {\n",
       "        vertical-align: top;\n",
       "    }\n",
       "\n",
       "    .dataframe thead th {\n",
       "        text-align: right;\n",
       "    }\n",
       "</style>\n",
       "<table border=\"1\" class=\"dataframe\">\n",
       "  <thead>\n",
       "    <tr style=\"text-align: right;\">\n",
       "      <th></th>\n",
       "      <th>docid</th>\n",
       "      <th>unique_id</th>\n",
       "      <th>relation</th>\n",
       "      <th>p_label</th>\n",
       "    </tr>\n",
       "  </thead>\n",
       "  <tbody>\n",
       "    <tr>\n",
       "      <th>0</th>\n",
       "      <td>AP_20130322</td>\n",
       "      <td>e2-e3</td>\n",
       "      <td>BEFORE</td>\n",
       "      <td>BEFORE</td>\n",
       "    </tr>\n",
       "    <tr>\n",
       "      <th>2</th>\n",
       "      <td>AP_20130322</td>\n",
       "      <td>e3-e4</td>\n",
       "      <td>BEFORE</td>\n",
       "      <td>BEFORE</td>\n",
       "    </tr>\n",
       "    <tr>\n",
       "      <th>3</th>\n",
       "      <td>AP_20130322</td>\n",
       "      <td>e3-e6</td>\n",
       "      <td>BEFORE</td>\n",
       "      <td>BEFORE</td>\n",
       "    </tr>\n",
       "    <tr>\n",
       "      <th>4</th>\n",
       "      <td>AP_20130322</td>\n",
       "      <td>e3-e7</td>\n",
       "      <td>BEFORE</td>\n",
       "      <td>BEFORE</td>\n",
       "    </tr>\n",
       "    <tr>\n",
       "      <th>7</th>\n",
       "      <td>AP_20130322</td>\n",
       "      <td>e6-e7</td>\n",
       "      <td>BEFORE</td>\n",
       "      <td>BEFORE</td>\n",
       "    </tr>\n",
       "    <tr>\n",
       "      <th>...</th>\n",
       "      <td>...</td>\n",
       "      <td>...</td>\n",
       "      <td>...</td>\n",
       "      <td>...</td>\n",
       "    </tr>\n",
       "    <tr>\n",
       "      <th>3783</th>\n",
       "      <td>nyt_20130322_strange_computer</td>\n",
       "      <td>e11-e14</td>\n",
       "      <td>BEFORE</td>\n",
       "      <td>BEFORE</td>\n",
       "    </tr>\n",
       "    <tr>\n",
       "      <th>3784</th>\n",
       "      <td>nyt_20130322_strange_computer</td>\n",
       "      <td>e11-e16</td>\n",
       "      <td>BEFORE</td>\n",
       "      <td>BEFORE</td>\n",
       "    </tr>\n",
       "    <tr>\n",
       "      <th>3792</th>\n",
       "      <td>nyt_20130322_strange_computer</td>\n",
       "      <td>e19-e22</td>\n",
       "      <td>BEFORE</td>\n",
       "      <td>BEFORE</td>\n",
       "    </tr>\n",
       "    <tr>\n",
       "      <th>3793</th>\n",
       "      <td>nyt_20130322_strange_computer</td>\n",
       "      <td>e19-e23</td>\n",
       "      <td>BEFORE</td>\n",
       "      <td>BEFORE</td>\n",
       "    </tr>\n",
       "    <tr>\n",
       "      <th>3794</th>\n",
       "      <td>nyt_20130322_strange_computer</td>\n",
       "      <td>e22-e23</td>\n",
       "      <td>BEFORE</td>\n",
       "      <td>VAGUE</td>\n",
       "    </tr>\n",
       "  </tbody>\n",
       "</table>\n",
       "<p>644 rows × 4 columns</p>\n",
       "</div>"
      ]
     },
     "execution_count": 19,
     "metadata": {},
     "output_type": "execute_result"
    }
   ],
   "execution_count": 19
  },
  {
   "metadata": {
    "ExecuteTime": {
     "end_time": "2024-08-14T10:34:51.936502Z",
     "start_time": "2024-08-14T10:34:51.891691Z"
    }
   },
   "cell_type": "code",
   "source": [
    "df = relation_table(gold_df, preds_zero_pro_completion_explanation_df, f'{model_name}-{method}-completion-explanation', target_col='label')\n",
    "df"
   ],
   "id": "cc6aa3c1d1bf4da4",
   "outputs": [
    {
     "data": {
      "text/plain": [
       "                      gemini-1.5-pro-zero-shot-completion-explanation        \\\n",
       "                                                               BEFORE AFTER   \n",
       "gold-labeled BEFORE                                             276.0  11.0   \n",
       "             AFTER                                              141.0  46.0   \n",
       "             EQUAL                                               13.0   5.0   \n",
       "             VAGUE                                               50.0   8.0   \n",
       "             no_label                                             0.0   0.0   \n",
       "             sum                                                480.0  70.0   \n",
       "\n",
       "                                                         \n",
       "                      EQUAL VAGUE no_predictions    sum  \n",
       "gold-labeled BEFORE    10.0  28.0           99.0  424.0  \n",
       "             AFTER      6.0  21.0           55.0  269.0  \n",
       "             EQUAL      4.0   6.0            3.0   31.0  \n",
       "             VAGUE      2.0  17.0           36.0  113.0  \n",
       "             no_label   0.0   0.0            0.0    0.0  \n",
       "             sum       22.0  72.0          193.0    NaN  "
      ],
      "text/html": [
       "<div>\n",
       "<style scoped>\n",
       "    .dataframe tbody tr th:only-of-type {\n",
       "        vertical-align: middle;\n",
       "    }\n",
       "\n",
       "    .dataframe tbody tr th {\n",
       "        vertical-align: top;\n",
       "    }\n",
       "\n",
       "    .dataframe thead tr th {\n",
       "        text-align: left;\n",
       "    }\n",
       "</style>\n",
       "<table border=\"1\" class=\"dataframe\">\n",
       "  <thead>\n",
       "    <tr>\n",
       "      <th></th>\n",
       "      <th></th>\n",
       "      <th colspan=\"6\" halign=\"left\">gemini-1.5-pro-zero-shot-completion-explanation</th>\n",
       "    </tr>\n",
       "    <tr>\n",
       "      <th></th>\n",
       "      <th></th>\n",
       "      <th>BEFORE</th>\n",
       "      <th>AFTER</th>\n",
       "      <th>EQUAL</th>\n",
       "      <th>VAGUE</th>\n",
       "      <th>no_predictions</th>\n",
       "      <th>sum</th>\n",
       "    </tr>\n",
       "  </thead>\n",
       "  <tbody>\n",
       "    <tr>\n",
       "      <th rowspan=\"6\" valign=\"top\">gold-labeled</th>\n",
       "      <th>BEFORE</th>\n",
       "      <td>276.0</td>\n",
       "      <td>11.0</td>\n",
       "      <td>10.0</td>\n",
       "      <td>28.0</td>\n",
       "      <td>99.0</td>\n",
       "      <td>424.0</td>\n",
       "    </tr>\n",
       "    <tr>\n",
       "      <th>AFTER</th>\n",
       "      <td>141.0</td>\n",
       "      <td>46.0</td>\n",
       "      <td>6.0</td>\n",
       "      <td>21.0</td>\n",
       "      <td>55.0</td>\n",
       "      <td>269.0</td>\n",
       "    </tr>\n",
       "    <tr>\n",
       "      <th>EQUAL</th>\n",
       "      <td>13.0</td>\n",
       "      <td>5.0</td>\n",
       "      <td>4.0</td>\n",
       "      <td>6.0</td>\n",
       "      <td>3.0</td>\n",
       "      <td>31.0</td>\n",
       "    </tr>\n",
       "    <tr>\n",
       "      <th>VAGUE</th>\n",
       "      <td>50.0</td>\n",
       "      <td>8.0</td>\n",
       "      <td>2.0</td>\n",
       "      <td>17.0</td>\n",
       "      <td>36.0</td>\n",
       "      <td>113.0</td>\n",
       "    </tr>\n",
       "    <tr>\n",
       "      <th>no_label</th>\n",
       "      <td>0.0</td>\n",
       "      <td>0.0</td>\n",
       "      <td>0.0</td>\n",
       "      <td>0.0</td>\n",
       "      <td>0.0</td>\n",
       "      <td>0.0</td>\n",
       "    </tr>\n",
       "    <tr>\n",
       "      <th>sum</th>\n",
       "      <td>480.0</td>\n",
       "      <td>70.0</td>\n",
       "      <td>22.0</td>\n",
       "      <td>72.0</td>\n",
       "      <td>193.0</td>\n",
       "      <td>NaN</td>\n",
       "    </tr>\n",
       "  </tbody>\n",
       "</table>\n",
       "</div>"
      ]
     },
     "execution_count": 20,
     "metadata": {},
     "output_type": "execute_result"
    }
   ],
   "execution_count": 20
  },
  {
   "metadata": {
    "ExecuteTime": {
     "end_time": "2024-08-14T07:23:48.008591Z",
     "start_time": "2024-08-14T07:23:47.999908Z"
    }
   },
   "cell_type": "code",
   "source": [
    "matched_preds = pd.merge(preds_zero_pro_completion_explanation_df, gold_df[['docid', 'unique_id']], how='inner', on=['docid', 'unique_id'])\n",
    "gold_covarage = matched_preds.shape[0] / gold_df.shape[0] * 100\n",
    "print(f'the covarage of the model is {gold_covarage:.2f}%')"
   ],
   "id": "f86505bf3d362bb8",
   "outputs": [
    {
     "name": "stdout",
     "output_type": "stream",
     "text": [
      "the covarage of the model is 76.94%\n"
     ]
    }
   ],
   "execution_count": 49
  },
  {
   "metadata": {
    "ExecuteTime": {
     "end_time": "2024-08-14T07:24:31.014442Z",
     "start_time": "2024-08-14T07:24:31.007892Z"
    }
   },
   "cell_type": "code",
   "source": [
    "cycles_score = df_pro_completion_explanation_results[['docid', 'n_cycles']].drop_duplicates()['n_cycles'].sum() / df_pro_completion_explanation_results['docid'].nunique()\n",
    "print(f'there is a {cycles_score * 100}% chance for a cycle')"
   ],
   "id": "24ea3935d02df03e",
   "outputs": [
    {
     "name": "stdout",
     "output_type": "stream",
     "text": [
      "there is a 10.0% chance for a cycle\n"
     ]
    }
   ],
   "execution_count": 51
  },
  {
   "metadata": {
    "ExecuteTime": {
     "end_time": "2024-08-14T07:24:52.561206Z",
     "start_time": "2024-08-14T07:24:52.484259Z"
    }
   },
   "cell_type": "code",
   "source": "df.to_excel(DATA_PATH / f'models-comp-results-{model_name}-{method}-completion-explanation.xlsx')",
   "id": "f188d05dde4f0d3f",
   "outputs": [],
   "execution_count": 52
  },
  {
   "metadata": {
    "ExecuteTime": {
     "end_time": "2024-08-14T10:34:57.607530Z",
     "start_time": "2024-08-14T10:34:57.595156Z"
    }
   },
   "cell_type": "code",
   "source": [
    "recall_df = recall(df)\n",
    "recall_df"
   ],
   "id": "bef56ab5513c3c83",
   "outputs": [
    {
     "data": {
      "text/plain": [
       "     BEFORE     AFTER     EQUAL     VAGUE\n",
       "0  0.650943  0.171004  0.129032  0.150442"
      ],
      "text/html": [
       "<div>\n",
       "<style scoped>\n",
       "    .dataframe tbody tr th:only-of-type {\n",
       "        vertical-align: middle;\n",
       "    }\n",
       "\n",
       "    .dataframe tbody tr th {\n",
       "        vertical-align: top;\n",
       "    }\n",
       "\n",
       "    .dataframe thead th {\n",
       "        text-align: right;\n",
       "    }\n",
       "</style>\n",
       "<table border=\"1\" class=\"dataframe\">\n",
       "  <thead>\n",
       "    <tr style=\"text-align: right;\">\n",
       "      <th></th>\n",
       "      <th>BEFORE</th>\n",
       "      <th>AFTER</th>\n",
       "      <th>EQUAL</th>\n",
       "      <th>VAGUE</th>\n",
       "    </tr>\n",
       "  </thead>\n",
       "  <tbody>\n",
       "    <tr>\n",
       "      <th>0</th>\n",
       "      <td>0.650943</td>\n",
       "      <td>0.171004</td>\n",
       "      <td>0.129032</td>\n",
       "      <td>0.150442</td>\n",
       "    </tr>\n",
       "  </tbody>\n",
       "</table>\n",
       "</div>"
      ]
     },
     "execution_count": 21,
     "metadata": {},
     "output_type": "execute_result"
    }
   ],
   "execution_count": 21
  },
  {
   "metadata": {
    "ExecuteTime": {
     "end_time": "2024-08-14T10:34:58.394370Z",
     "start_time": "2024-08-14T10:34:58.382033Z"
    }
   },
   "cell_type": "code",
   "source": [
    "precision_df = precision(df)\n",
    "precision_df"
   ],
   "id": "1ed0f058a3396ef1",
   "outputs": [
    {
     "data": {
      "text/plain": [
       "   BEFORE     AFTER     EQUAL     VAGUE\n",
       "0   0.575  0.657143  0.181818  0.236111"
      ],
      "text/html": [
       "<div>\n",
       "<style scoped>\n",
       "    .dataframe tbody tr th:only-of-type {\n",
       "        vertical-align: middle;\n",
       "    }\n",
       "\n",
       "    .dataframe tbody tr th {\n",
       "        vertical-align: top;\n",
       "    }\n",
       "\n",
       "    .dataframe thead th {\n",
       "        text-align: right;\n",
       "    }\n",
       "</style>\n",
       "<table border=\"1\" class=\"dataframe\">\n",
       "  <thead>\n",
       "    <tr style=\"text-align: right;\">\n",
       "      <th></th>\n",
       "      <th>BEFORE</th>\n",
       "      <th>AFTER</th>\n",
       "      <th>EQUAL</th>\n",
       "      <th>VAGUE</th>\n",
       "    </tr>\n",
       "  </thead>\n",
       "  <tbody>\n",
       "    <tr>\n",
       "      <th>0</th>\n",
       "      <td>0.575</td>\n",
       "      <td>0.657143</td>\n",
       "      <td>0.181818</td>\n",
       "      <td>0.236111</td>\n",
       "    </tr>\n",
       "  </tbody>\n",
       "</table>\n",
       "</div>"
      ]
     },
     "execution_count": 22,
     "metadata": {},
     "output_type": "execute_result"
    }
   ],
   "execution_count": 22
  },
  {
   "metadata": {
    "ExecuteTime": {
     "end_time": "2024-08-14T10:14:22.747850Z",
     "start_time": "2024-08-14T10:14:22.742104Z"
    }
   },
   "cell_type": "code",
   "source": "calculate_f1(precision_df.to_numpy()[0], recall_df.to_numpy()[0])",
   "id": "1e669f6f66fe9f63",
   "outputs": [
    {
     "data": {
      "text/plain": [
       "array([0.61061947, 0.27138643, 0.1509434 , 0.18378378])"
      ]
     },
     "execution_count": 10,
     "metadata": {},
     "output_type": "execute_result"
    }
   ],
   "execution_count": 10
  },
  {
   "metadata": {
    "ExecuteTime": {
     "end_time": "2024-08-14T10:26:48.390260Z",
     "start_time": "2024-08-14T10:25:47.137747Z"
    }
   },
   "cell_type": "code",
   "source": "calculate_micro_f1(precision_df.to_numpy()[0], recall_df.to_numpy()[0])",
   "id": "f2fc96784af5220b",
   "outputs": [
    {
     "data": {
      "text/plain": [
       "0.1032992638797949"
      ]
     },
     "execution_count": 12,
     "metadata": {},
     "output_type": "execute_result"
    }
   ],
   "execution_count": 12
  },
  {
   "metadata": {
    "ExecuteTime": {
     "end_time": "2024-08-14T10:35:05.020036Z",
     "start_time": "2024-08-14T10:35:05.015780Z"
    }
   },
   "cell_type": "code",
   "source": "calculate_relax_micro_f1(precision_df.to_numpy()[0], recall_df.to_numpy()[0])",
   "id": "ae7e6883122107aa",
   "outputs": [
    {
     "data": {
      "text/plain": [
       "0.13279603692662253"
      ]
     },
     "execution_count": 23,
     "metadata": {},
     "output_type": "execute_result"
    }
   ],
   "execution_count": 23
  },
  {
   "metadata": {},
   "cell_type": "markdown",
   "source": "## Few-Shot",
   "id": "18c829a2ba71b919"
  },
  {
   "metadata": {
    "ExecuteTime": {
     "end_time": "2024-08-19T18:42:21.575979Z",
     "start_time": "2024-08-19T18:42:21.566910Z"
    }
   },
   "cell_type": "code",
   "source": "method = 'few-shot'",
   "id": "5e980d7e24484889",
   "outputs": [],
   "execution_count": 6
  },
  {
   "metadata": {
    "ExecuteTime": {
     "end_time": "2024-08-14T10:35:37.504168Z",
     "start_time": "2024-08-14T10:35:37.431370Z"
    }
   },
   "cell_type": "code",
   "source": [
    "df_pro_few_results = pd.read_csv(TRC_RESULTS_PATH / method / f'platinum-results-{model_name}-{method}.csv')\n",
    "preds_few_pro_df = (df_pro_few_results[['docid', 'unique_id', 'relation_selected', 'p_label']]\n",
    "            .copy()\n",
    "            .dropna()\n",
    "            .drop_duplicates(['docid', 'unique_id', 'relation_selected'])\n",
    "            .rename({'relation_selected': 'relation'}, axis='columns'))\n",
    "\n",
    "\n",
    "df = relation_table(gold_df, preds_few_pro_df, model_name, target_col='label')\n",
    "df"
   ],
   "id": "8c97ccca15aa0fae",
   "outputs": [
    {
     "data": {
      "text/plain": [
       "                      gemini-1.5-pro                                        \n",
       "                              BEFORE AFTER EQUAL VAGUE no_predictions    sum\n",
       "gold-labeled BEFORE            151.0   0.0   0.0   4.0          269.0  424.0\n",
       "             AFTER              91.0   2.0   0.0   3.0          173.0  269.0\n",
       "             EQUAL               8.0   0.0   2.0   0.0           21.0   31.0\n",
       "             VAGUE              26.0   3.0   0.0   3.0           81.0  113.0\n",
       "             no_label          479.0  13.0   5.0  23.0            0.0  520.0\n",
       "             sum               755.0  18.0   7.0  33.0          544.0    NaN"
      ],
      "text/html": [
       "<div>\n",
       "<style scoped>\n",
       "    .dataframe tbody tr th:only-of-type {\n",
       "        vertical-align: middle;\n",
       "    }\n",
       "\n",
       "    .dataframe tbody tr th {\n",
       "        vertical-align: top;\n",
       "    }\n",
       "\n",
       "    .dataframe thead tr th {\n",
       "        text-align: left;\n",
       "    }\n",
       "</style>\n",
       "<table border=\"1\" class=\"dataframe\">\n",
       "  <thead>\n",
       "    <tr>\n",
       "      <th></th>\n",
       "      <th></th>\n",
       "      <th colspan=\"6\" halign=\"left\">gemini-1.5-pro</th>\n",
       "    </tr>\n",
       "    <tr>\n",
       "      <th></th>\n",
       "      <th></th>\n",
       "      <th>BEFORE</th>\n",
       "      <th>AFTER</th>\n",
       "      <th>EQUAL</th>\n",
       "      <th>VAGUE</th>\n",
       "      <th>no_predictions</th>\n",
       "      <th>sum</th>\n",
       "    </tr>\n",
       "  </thead>\n",
       "  <tbody>\n",
       "    <tr>\n",
       "      <th rowspan=\"6\" valign=\"top\">gold-labeled</th>\n",
       "      <th>BEFORE</th>\n",
       "      <td>151.0</td>\n",
       "      <td>0.0</td>\n",
       "      <td>0.0</td>\n",
       "      <td>4.0</td>\n",
       "      <td>269.0</td>\n",
       "      <td>424.0</td>\n",
       "    </tr>\n",
       "    <tr>\n",
       "      <th>AFTER</th>\n",
       "      <td>91.0</td>\n",
       "      <td>2.0</td>\n",
       "      <td>0.0</td>\n",
       "      <td>3.0</td>\n",
       "      <td>173.0</td>\n",
       "      <td>269.0</td>\n",
       "    </tr>\n",
       "    <tr>\n",
       "      <th>EQUAL</th>\n",
       "      <td>8.0</td>\n",
       "      <td>0.0</td>\n",
       "      <td>2.0</td>\n",
       "      <td>0.0</td>\n",
       "      <td>21.0</td>\n",
       "      <td>31.0</td>\n",
       "    </tr>\n",
       "    <tr>\n",
       "      <th>VAGUE</th>\n",
       "      <td>26.0</td>\n",
       "      <td>3.0</td>\n",
       "      <td>0.0</td>\n",
       "      <td>3.0</td>\n",
       "      <td>81.0</td>\n",
       "      <td>113.0</td>\n",
       "    </tr>\n",
       "    <tr>\n",
       "      <th>no_label</th>\n",
       "      <td>479.0</td>\n",
       "      <td>13.0</td>\n",
       "      <td>5.0</td>\n",
       "      <td>23.0</td>\n",
       "      <td>0.0</td>\n",
       "      <td>520.0</td>\n",
       "    </tr>\n",
       "    <tr>\n",
       "      <th>sum</th>\n",
       "      <td>755.0</td>\n",
       "      <td>18.0</td>\n",
       "      <td>7.0</td>\n",
       "      <td>33.0</td>\n",
       "      <td>544.0</td>\n",
       "      <td>NaN</td>\n",
       "    </tr>\n",
       "  </tbody>\n",
       "</table>\n",
       "</div>"
      ]
     },
     "execution_count": 25,
     "metadata": {},
     "output_type": "execute_result"
    }
   ],
   "execution_count": 25
  },
  {
   "metadata": {
    "ExecuteTime": {
     "end_time": "2024-08-03T16:51:10.922124Z",
     "start_time": "2024-08-03T16:51:10.882100Z"
    }
   },
   "cell_type": "code",
   "source": "relation_table(gold_df, preds_few_pro_df, model_name)",
   "id": "7d21f677ab8c58cb",
   "outputs": [
    {
     "data": {
      "text/plain": [
       "                      gemini-1.5-pro                                        \n",
       "                              BEFORE AFTER EQUAL VAGUE no_predictions    sum\n",
       "gold-labeled BEFORE            247.0   0.0   0.0   4.0          442.0  693.0\n",
       "             AFTER               0.0   0.0   0.0   0.0            0.0    0.0\n",
       "             EQUAL               8.0   0.0   2.0   0.0           21.0   31.0\n",
       "             VAGUE              31.0   0.0   0.0   1.0           81.0  113.0\n",
       "             no_label          505.0   0.0   5.0  10.0            0.0  520.0\n",
       "             sum               791.0   0.0   7.0  15.0          544.0    NaN"
      ],
      "text/html": [
       "<div>\n",
       "<style scoped>\n",
       "    .dataframe tbody tr th:only-of-type {\n",
       "        vertical-align: middle;\n",
       "    }\n",
       "\n",
       "    .dataframe tbody tr th {\n",
       "        vertical-align: top;\n",
       "    }\n",
       "\n",
       "    .dataframe thead tr th {\n",
       "        text-align: left;\n",
       "    }\n",
       "</style>\n",
       "<table border=\"1\" class=\"dataframe\">\n",
       "  <thead>\n",
       "    <tr>\n",
       "      <th></th>\n",
       "      <th></th>\n",
       "      <th colspan=\"6\" halign=\"left\">gemini-1.5-pro</th>\n",
       "    </tr>\n",
       "    <tr>\n",
       "      <th></th>\n",
       "      <th></th>\n",
       "      <th>BEFORE</th>\n",
       "      <th>AFTER</th>\n",
       "      <th>EQUAL</th>\n",
       "      <th>VAGUE</th>\n",
       "      <th>no_predictions</th>\n",
       "      <th>sum</th>\n",
       "    </tr>\n",
       "  </thead>\n",
       "  <tbody>\n",
       "    <tr>\n",
       "      <th rowspan=\"6\" valign=\"top\">gold-labeled</th>\n",
       "      <th>BEFORE</th>\n",
       "      <td>247.0</td>\n",
       "      <td>0.0</td>\n",
       "      <td>0.0</td>\n",
       "      <td>4.0</td>\n",
       "      <td>442.0</td>\n",
       "      <td>693.0</td>\n",
       "    </tr>\n",
       "    <tr>\n",
       "      <th>AFTER</th>\n",
       "      <td>0.0</td>\n",
       "      <td>0.0</td>\n",
       "      <td>0.0</td>\n",
       "      <td>0.0</td>\n",
       "      <td>0.0</td>\n",
       "      <td>0.0</td>\n",
       "    </tr>\n",
       "    <tr>\n",
       "      <th>EQUAL</th>\n",
       "      <td>8.0</td>\n",
       "      <td>0.0</td>\n",
       "      <td>2.0</td>\n",
       "      <td>0.0</td>\n",
       "      <td>21.0</td>\n",
       "      <td>31.0</td>\n",
       "    </tr>\n",
       "    <tr>\n",
       "      <th>VAGUE</th>\n",
       "      <td>31.0</td>\n",
       "      <td>0.0</td>\n",
       "      <td>0.0</td>\n",
       "      <td>1.0</td>\n",
       "      <td>81.0</td>\n",
       "      <td>113.0</td>\n",
       "    </tr>\n",
       "    <tr>\n",
       "      <th>no_label</th>\n",
       "      <td>505.0</td>\n",
       "      <td>0.0</td>\n",
       "      <td>5.0</td>\n",
       "      <td>10.0</td>\n",
       "      <td>0.0</td>\n",
       "      <td>520.0</td>\n",
       "    </tr>\n",
       "    <tr>\n",
       "      <th>sum</th>\n",
       "      <td>791.0</td>\n",
       "      <td>0.0</td>\n",
       "      <td>7.0</td>\n",
       "      <td>15.0</td>\n",
       "      <td>544.0</td>\n",
       "      <td>NaN</td>\n",
       "    </tr>\n",
       "  </tbody>\n",
       "</table>\n",
       "</div>"
      ]
     },
     "execution_count": 18,
     "metadata": {},
     "output_type": "execute_result"
    }
   ],
   "execution_count": 18
  },
  {
   "metadata": {
    "ExecuteTime": {
     "end_time": "2024-08-05T20:35:35.914213Z",
     "start_time": "2024-08-05T20:35:35.906393Z"
    }
   },
   "cell_type": "code",
   "source": [
    "matched_preds = pd.merge(preds_few_pro_df, gold_df[['docid', 'unique_id']], how='inner', on=['docid', 'unique_id'])\n",
    "gold_covarage = matched_preds.shape[0] / gold_df.shape[0] * 100\n",
    "print(f'the covarage of the model is {gold_covarage:.2f}%')"
   ],
   "id": "aff54f8fcdfdddde",
   "outputs": [
    {
     "name": "stdout",
     "output_type": "stream",
     "text": [
      "the covarage of the model is 35.01%\n"
     ]
    }
   ],
   "execution_count": 73
  },
  {
   "metadata": {
    "ExecuteTime": {
     "end_time": "2024-08-05T20:35:37.707511Z",
     "start_time": "2024-08-05T20:35:37.700802Z"
    }
   },
   "cell_type": "code",
   "source": [
    "cycles_score = df_pro_few_results[['docid', 'n_cycles']].drop_duplicates()['n_cycles'].sum() / df_pro_few_results['docid'].nunique()\n",
    "print(f'there is a {cycles_score * 100}% chance for a cycle')"
   ],
   "id": "e15fbe9d584aa4e5",
   "outputs": [
    {
     "name": "stdout",
     "output_type": "stream",
     "text": [
      "there is a 5.0% chance for a cycle\n"
     ]
    }
   ],
   "execution_count": 74
  },
  {
   "metadata": {
    "ExecuteTime": {
     "end_time": "2024-08-05T20:35:41.005979Z",
     "start_time": "2024-08-05T20:35:40.987519Z"
    }
   },
   "cell_type": "code",
   "source": "df.to_excel(DATA_PATH / f'models-comp-results-{model_name}-{method}.xlsx')",
   "id": "4c252b6e1854eadc",
   "outputs": [],
   "execution_count": 75
  },
  {
   "metadata": {
    "ExecuteTime": {
     "end_time": "2024-08-14T10:35:48.328627Z",
     "start_time": "2024-08-14T10:35:48.315786Z"
    }
   },
   "cell_type": "code",
   "source": [
    "recall_df = recall(df)\n",
    "recall_df"
   ],
   "id": "bcce8691cc4b733c",
   "outputs": [
    {
     "data": {
      "text/plain": [
       "     BEFORE     AFTER     EQUAL     VAGUE\n",
       "0  0.356132  0.007435  0.064516  0.026549"
      ],
      "text/html": [
       "<div>\n",
       "<style scoped>\n",
       "    .dataframe tbody tr th:only-of-type {\n",
       "        vertical-align: middle;\n",
       "    }\n",
       "\n",
       "    .dataframe tbody tr th {\n",
       "        vertical-align: top;\n",
       "    }\n",
       "\n",
       "    .dataframe thead th {\n",
       "        text-align: right;\n",
       "    }\n",
       "</style>\n",
       "<table border=\"1\" class=\"dataframe\">\n",
       "  <thead>\n",
       "    <tr style=\"text-align: right;\">\n",
       "      <th></th>\n",
       "      <th>BEFORE</th>\n",
       "      <th>AFTER</th>\n",
       "      <th>EQUAL</th>\n",
       "      <th>VAGUE</th>\n",
       "    </tr>\n",
       "  </thead>\n",
       "  <tbody>\n",
       "    <tr>\n",
       "      <th>0</th>\n",
       "      <td>0.356132</td>\n",
       "      <td>0.007435</td>\n",
       "      <td>0.064516</td>\n",
       "      <td>0.026549</td>\n",
       "    </tr>\n",
       "  </tbody>\n",
       "</table>\n",
       "</div>"
      ]
     },
     "execution_count": 26,
     "metadata": {},
     "output_type": "execute_result"
    }
   ],
   "execution_count": 26
  },
  {
   "metadata": {
    "ExecuteTime": {
     "end_time": "2024-08-14T10:35:49.273528Z",
     "start_time": "2024-08-14T10:35:49.261910Z"
    }
   },
   "cell_type": "code",
   "source": [
    "precision_df = precision(df)\n",
    "precision_df"
   ],
   "id": "585dcedb6e401b84",
   "outputs": [
    {
     "data": {
      "text/plain": [
       "   BEFORE     AFTER     EQUAL     VAGUE\n",
       "0     0.2  0.111111  0.285714  0.090909"
      ],
      "text/html": [
       "<div>\n",
       "<style scoped>\n",
       "    .dataframe tbody tr th:only-of-type {\n",
       "        vertical-align: middle;\n",
       "    }\n",
       "\n",
       "    .dataframe tbody tr th {\n",
       "        vertical-align: top;\n",
       "    }\n",
       "\n",
       "    .dataframe thead th {\n",
       "        text-align: right;\n",
       "    }\n",
       "</style>\n",
       "<table border=\"1\" class=\"dataframe\">\n",
       "  <thead>\n",
       "    <tr style=\"text-align: right;\">\n",
       "      <th></th>\n",
       "      <th>BEFORE</th>\n",
       "      <th>AFTER</th>\n",
       "      <th>EQUAL</th>\n",
       "      <th>VAGUE</th>\n",
       "    </tr>\n",
       "  </thead>\n",
       "  <tbody>\n",
       "    <tr>\n",
       "      <th>0</th>\n",
       "      <td>0.2</td>\n",
       "      <td>0.111111</td>\n",
       "      <td>0.285714</td>\n",
       "      <td>0.090909</td>\n",
       "    </tr>\n",
       "  </tbody>\n",
       "</table>\n",
       "</div>"
      ]
     },
     "execution_count": 27,
     "metadata": {},
     "output_type": "execute_result"
    }
   ],
   "execution_count": 27
  },
  {
   "metadata": {
    "ExecuteTime": {
     "end_time": "2024-08-14T10:35:50.056090Z",
     "start_time": "2024-08-14T10:35:50.050897Z"
    }
   },
   "cell_type": "code",
   "source": "calculate_f1(precision_df.to_numpy()[0], recall_df.to_numpy()[0])",
   "id": "bc4c9fec5cb0e1bc",
   "outputs": [
    {
     "data": {
      "text/plain": [
       "array([0.25614928, 0.01393728, 0.10526316, 0.04109589])"
      ]
     },
     "execution_count": 28,
     "metadata": {},
     "output_type": "execute_result"
    }
   ],
   "execution_count": 28
  },
  {
   "metadata": {
    "ExecuteTime": {
     "end_time": "2024-08-14T10:35:51.550737Z",
     "start_time": "2024-08-14T10:35:51.546168Z"
    }
   },
   "cell_type": "code",
   "source": "calculate_micro_f1(precision_df.to_numpy()[0], recall_df.to_numpy()[0])",
   "id": "b85b1c2524f0b66c",
   "outputs": [
    {
     "data": {
      "text/plain": [
       "0.04682637699492519"
      ]
     },
     "execution_count": 29,
     "metadata": {},
     "output_type": "execute_result"
    }
   ],
   "execution_count": 29
  },
  {
   "metadata": {
    "ExecuteTime": {
     "end_time": "2024-08-14T10:35:52.987180Z",
     "start_time": "2024-08-14T10:35:52.981655Z"
    }
   },
   "cell_type": "code",
   "source": "calculate_relax_micro_f1(precision_df.to_numpy()[0], recall_df.to_numpy()[0])",
   "id": "6313e98d3e9bcb63",
   "outputs": [
    {
     "data": {
      "text/plain": [
       "0.056547534434606105"
      ]
     },
     "execution_count": 30,
     "metadata": {},
     "output_type": "execute_result"
    }
   ],
   "execution_count": 30
  },
  {
   "metadata": {},
   "cell_type": "markdown",
   "source": [
    "\n",
    "### Completion"
   ],
   "id": "3e3ccadb5b6c009c"
  },
  {
   "metadata": {
    "ExecuteTime": {
     "end_time": "2024-08-03T16:39:05.378894Z",
     "start_time": "2024-08-03T16:39:05.374344Z"
    }
   },
   "cell_type": "code",
   "source": "f'platinum-results-{model_name}-{method}-completion.csv'",
   "id": "b931c98f792d4fb5",
   "outputs": [
    {
     "data": {
      "text/plain": [
       "'platinum-results-gemini-1.5-pro-few-shot-completion.csv'"
      ]
     },
     "execution_count": 14,
     "metadata": {},
     "output_type": "execute_result"
    }
   ],
   "execution_count": 14
  },
  {
   "metadata": {
    "ExecuteTime": {
     "end_time": "2024-08-14T10:37:58.369286Z",
     "start_time": "2024-08-14T10:37:58.345888Z"
    }
   },
   "cell_type": "code",
   "source": [
    "df_pro_completion_results = pd.read_csv(TRC_RESULTS_PATH / method / f'platinum-results-{model_name}-{method}-completion.csv')\n",
    "preds_few_pro_completion_df = (df_pro_completion_results[['docid', 'unique_id', 'relation_selected', 'p_label']]\n",
    "            .copy()\n",
    "            .dropna()\n",
    "            .drop_duplicates(['docid', 'unique_id', 'relation_selected'])\n",
    "            .rename({'relation_selected': 'relation'}, axis='columns'))\n",
    "\n",
    "preds_few_pro_completion_df"
   ],
   "id": "2ea3318fa1acf355",
   "outputs": [
    {
     "data": {
      "text/plain": [
       "                              docid unique_id relation p_label\n",
       "0                       AP_20130322     e2-e3   BEFORE  BEFORE\n",
       "1                       AP_20130322     e2-e4   BEFORE  BEFORE\n",
       "2                       AP_20130322     e3-e4   BEFORE  BEFORE\n",
       "3                       AP_20130322     e3-e6   BEFORE  BEFORE\n",
       "4                       AP_20130322     e3-e7   BEFORE  BEFORE\n",
       "...                             ...       ...      ...     ...\n",
       "4067  nyt_20130322_strange_computer   e19-e23   BEFORE  BEFORE\n",
       "4068  nyt_20130322_strange_computer   e22-e23   BEFORE  BEFORE\n",
       "4069  nyt_20130322_strange_computer   e19-e24   BEFORE  BEFORE\n",
       "4070  nyt_20130322_strange_computer   e22-e24   BEFORE  BEFORE\n",
       "4071  nyt_20130322_strange_computer   e23-e24   BEFORE  BEFORE\n",
       "\n",
       "[801 rows x 4 columns]"
      ],
      "text/html": [
       "<div>\n",
       "<style scoped>\n",
       "    .dataframe tbody tr th:only-of-type {\n",
       "        vertical-align: middle;\n",
       "    }\n",
       "\n",
       "    .dataframe tbody tr th {\n",
       "        vertical-align: top;\n",
       "    }\n",
       "\n",
       "    .dataframe thead th {\n",
       "        text-align: right;\n",
       "    }\n",
       "</style>\n",
       "<table border=\"1\" class=\"dataframe\">\n",
       "  <thead>\n",
       "    <tr style=\"text-align: right;\">\n",
       "      <th></th>\n",
       "      <th>docid</th>\n",
       "      <th>unique_id</th>\n",
       "      <th>relation</th>\n",
       "      <th>p_label</th>\n",
       "    </tr>\n",
       "  </thead>\n",
       "  <tbody>\n",
       "    <tr>\n",
       "      <th>0</th>\n",
       "      <td>AP_20130322</td>\n",
       "      <td>e2-e3</td>\n",
       "      <td>BEFORE</td>\n",
       "      <td>BEFORE</td>\n",
       "    </tr>\n",
       "    <tr>\n",
       "      <th>1</th>\n",
       "      <td>AP_20130322</td>\n",
       "      <td>e2-e4</td>\n",
       "      <td>BEFORE</td>\n",
       "      <td>BEFORE</td>\n",
       "    </tr>\n",
       "    <tr>\n",
       "      <th>2</th>\n",
       "      <td>AP_20130322</td>\n",
       "      <td>e3-e4</td>\n",
       "      <td>BEFORE</td>\n",
       "      <td>BEFORE</td>\n",
       "    </tr>\n",
       "    <tr>\n",
       "      <th>3</th>\n",
       "      <td>AP_20130322</td>\n",
       "      <td>e3-e6</td>\n",
       "      <td>BEFORE</td>\n",
       "      <td>BEFORE</td>\n",
       "    </tr>\n",
       "    <tr>\n",
       "      <th>4</th>\n",
       "      <td>AP_20130322</td>\n",
       "      <td>e3-e7</td>\n",
       "      <td>BEFORE</td>\n",
       "      <td>BEFORE</td>\n",
       "    </tr>\n",
       "    <tr>\n",
       "      <th>...</th>\n",
       "      <td>...</td>\n",
       "      <td>...</td>\n",
       "      <td>...</td>\n",
       "      <td>...</td>\n",
       "    </tr>\n",
       "    <tr>\n",
       "      <th>4067</th>\n",
       "      <td>nyt_20130322_strange_computer</td>\n",
       "      <td>e19-e23</td>\n",
       "      <td>BEFORE</td>\n",
       "      <td>BEFORE</td>\n",
       "    </tr>\n",
       "    <tr>\n",
       "      <th>4068</th>\n",
       "      <td>nyt_20130322_strange_computer</td>\n",
       "      <td>e22-e23</td>\n",
       "      <td>BEFORE</td>\n",
       "      <td>BEFORE</td>\n",
       "    </tr>\n",
       "    <tr>\n",
       "      <th>4069</th>\n",
       "      <td>nyt_20130322_strange_computer</td>\n",
       "      <td>e19-e24</td>\n",
       "      <td>BEFORE</td>\n",
       "      <td>BEFORE</td>\n",
       "    </tr>\n",
       "    <tr>\n",
       "      <th>4070</th>\n",
       "      <td>nyt_20130322_strange_computer</td>\n",
       "      <td>e22-e24</td>\n",
       "      <td>BEFORE</td>\n",
       "      <td>BEFORE</td>\n",
       "    </tr>\n",
       "    <tr>\n",
       "      <th>4071</th>\n",
       "      <td>nyt_20130322_strange_computer</td>\n",
       "      <td>e23-e24</td>\n",
       "      <td>BEFORE</td>\n",
       "      <td>BEFORE</td>\n",
       "    </tr>\n",
       "  </tbody>\n",
       "</table>\n",
       "<p>801 rows × 4 columns</p>\n",
       "</div>"
      ]
     },
     "execution_count": 31,
     "metadata": {},
     "output_type": "execute_result"
    }
   ],
   "execution_count": 31
  },
  {
   "metadata": {
    "ExecuteTime": {
     "end_time": "2024-08-14T10:37:59.903219Z",
     "start_time": "2024-08-14T10:37:59.855746Z"
    }
   },
   "cell_type": "code",
   "source": [
    "df = relation_table(gold_df, preds_few_pro_completion_df, f'{model_name}-{method}-completion', target_col='label')\n",
    "df"
   ],
   "id": "36f70b9de8977b1b",
   "outputs": [
    {
     "data": {
      "text/plain": [
       "                      gemini-1.5-pro-few-shot-completion                    \\\n",
       "                                                  BEFORE AFTER EQUAL VAGUE   \n",
       "gold-labeled BEFORE                                372.0   2.0   4.0  27.0   \n",
       "             AFTER                                 219.0  22.0   2.0  13.0   \n",
       "             EQUAL                                  24.0   2.0   0.0   4.0   \n",
       "             VAGUE                                  90.0   7.0   1.0  12.0   \n",
       "             no_label                                0.0   0.0   0.0   0.0   \n",
       "             sum                                   705.0  33.0   7.0  56.0   \n",
       "\n",
       "                                             \n",
       "                      no_predictions    sum  \n",
       "gold-labeled BEFORE             19.0  424.0  \n",
       "             AFTER              13.0  269.0  \n",
       "             EQUAL               1.0   31.0  \n",
       "             VAGUE               3.0  113.0  \n",
       "             no_label            0.0    0.0  \n",
       "             sum                36.0    NaN  "
      ],
      "text/html": [
       "<div>\n",
       "<style scoped>\n",
       "    .dataframe tbody tr th:only-of-type {\n",
       "        vertical-align: middle;\n",
       "    }\n",
       "\n",
       "    .dataframe tbody tr th {\n",
       "        vertical-align: top;\n",
       "    }\n",
       "\n",
       "    .dataframe thead tr th {\n",
       "        text-align: left;\n",
       "    }\n",
       "</style>\n",
       "<table border=\"1\" class=\"dataframe\">\n",
       "  <thead>\n",
       "    <tr>\n",
       "      <th></th>\n",
       "      <th></th>\n",
       "      <th colspan=\"6\" halign=\"left\">gemini-1.5-pro-few-shot-completion</th>\n",
       "    </tr>\n",
       "    <tr>\n",
       "      <th></th>\n",
       "      <th></th>\n",
       "      <th>BEFORE</th>\n",
       "      <th>AFTER</th>\n",
       "      <th>EQUAL</th>\n",
       "      <th>VAGUE</th>\n",
       "      <th>no_predictions</th>\n",
       "      <th>sum</th>\n",
       "    </tr>\n",
       "  </thead>\n",
       "  <tbody>\n",
       "    <tr>\n",
       "      <th rowspan=\"6\" valign=\"top\">gold-labeled</th>\n",
       "      <th>BEFORE</th>\n",
       "      <td>372.0</td>\n",
       "      <td>2.0</td>\n",
       "      <td>4.0</td>\n",
       "      <td>27.0</td>\n",
       "      <td>19.0</td>\n",
       "      <td>424.0</td>\n",
       "    </tr>\n",
       "    <tr>\n",
       "      <th>AFTER</th>\n",
       "      <td>219.0</td>\n",
       "      <td>22.0</td>\n",
       "      <td>2.0</td>\n",
       "      <td>13.0</td>\n",
       "      <td>13.0</td>\n",
       "      <td>269.0</td>\n",
       "    </tr>\n",
       "    <tr>\n",
       "      <th>EQUAL</th>\n",
       "      <td>24.0</td>\n",
       "      <td>2.0</td>\n",
       "      <td>0.0</td>\n",
       "      <td>4.0</td>\n",
       "      <td>1.0</td>\n",
       "      <td>31.0</td>\n",
       "    </tr>\n",
       "    <tr>\n",
       "      <th>VAGUE</th>\n",
       "      <td>90.0</td>\n",
       "      <td>7.0</td>\n",
       "      <td>1.0</td>\n",
       "      <td>12.0</td>\n",
       "      <td>3.0</td>\n",
       "      <td>113.0</td>\n",
       "    </tr>\n",
       "    <tr>\n",
       "      <th>no_label</th>\n",
       "      <td>0.0</td>\n",
       "      <td>0.0</td>\n",
       "      <td>0.0</td>\n",
       "      <td>0.0</td>\n",
       "      <td>0.0</td>\n",
       "      <td>0.0</td>\n",
       "    </tr>\n",
       "    <tr>\n",
       "      <th>sum</th>\n",
       "      <td>705.0</td>\n",
       "      <td>33.0</td>\n",
       "      <td>7.0</td>\n",
       "      <td>56.0</td>\n",
       "      <td>36.0</td>\n",
       "      <td>NaN</td>\n",
       "    </tr>\n",
       "  </tbody>\n",
       "</table>\n",
       "</div>"
      ]
     },
     "execution_count": 32,
     "metadata": {},
     "output_type": "execute_result"
    }
   ],
   "execution_count": 32
  },
  {
   "metadata": {
    "ExecuteTime": {
     "end_time": "2024-08-03T16:40:52.847899Z",
     "start_time": "2024-08-03T16:40:52.797093Z"
    }
   },
   "cell_type": "code",
   "source": [
    "df = relation_table(gold_df, preds_few_pro_completion_df, f'{model_name}-{method}-completion', target_col='label')\n",
    "df"
   ],
   "id": "48fe90869e1f146",
   "outputs": [
    {
     "data": {
      "text/plain": [
       "                      gemini-1.5-pro-few-shot-completion                      \\\n",
       "                                                  BEFORE  AFTER EQUAL  VAGUE   \n",
       "gold-labeled BEFORE                                405.0    0.0   0.0    0.0   \n",
       "             AFTER                                   0.0  256.0   0.0    0.0   \n",
       "             EQUAL                                   0.0    0.0  30.0    0.0   \n",
       "             VAGUE                                   0.0    0.0   0.0  110.0   \n",
       "             no_label                                0.0    0.0   0.0    0.0   \n",
       "             sum                                   405.0  256.0  30.0  110.0   \n",
       "\n",
       "                                             \n",
       "                      no_predictions    sum  \n",
       "gold-labeled BEFORE             19.0  424.0  \n",
       "             AFTER              13.0  269.0  \n",
       "             EQUAL               1.0   31.0  \n",
       "             VAGUE               3.0  113.0  \n",
       "             no_label            0.0    0.0  \n",
       "             sum                36.0    NaN  "
      ],
      "text/html": [
       "<div>\n",
       "<style scoped>\n",
       "    .dataframe tbody tr th:only-of-type {\n",
       "        vertical-align: middle;\n",
       "    }\n",
       "\n",
       "    .dataframe tbody tr th {\n",
       "        vertical-align: top;\n",
       "    }\n",
       "\n",
       "    .dataframe thead tr th {\n",
       "        text-align: left;\n",
       "    }\n",
       "</style>\n",
       "<table border=\"1\" class=\"dataframe\">\n",
       "  <thead>\n",
       "    <tr>\n",
       "      <th></th>\n",
       "      <th></th>\n",
       "      <th colspan=\"6\" halign=\"left\">gemini-1.5-pro-few-shot-completion</th>\n",
       "    </tr>\n",
       "    <tr>\n",
       "      <th></th>\n",
       "      <th></th>\n",
       "      <th>BEFORE</th>\n",
       "      <th>AFTER</th>\n",
       "      <th>EQUAL</th>\n",
       "      <th>VAGUE</th>\n",
       "      <th>no_predictions</th>\n",
       "      <th>sum</th>\n",
       "    </tr>\n",
       "  </thead>\n",
       "  <tbody>\n",
       "    <tr>\n",
       "      <th rowspan=\"6\" valign=\"top\">gold-labeled</th>\n",
       "      <th>BEFORE</th>\n",
       "      <td>405.0</td>\n",
       "      <td>0.0</td>\n",
       "      <td>0.0</td>\n",
       "      <td>0.0</td>\n",
       "      <td>19.0</td>\n",
       "      <td>424.0</td>\n",
       "    </tr>\n",
       "    <tr>\n",
       "      <th>AFTER</th>\n",
       "      <td>0.0</td>\n",
       "      <td>256.0</td>\n",
       "      <td>0.0</td>\n",
       "      <td>0.0</td>\n",
       "      <td>13.0</td>\n",
       "      <td>269.0</td>\n",
       "    </tr>\n",
       "    <tr>\n",
       "      <th>EQUAL</th>\n",
       "      <td>0.0</td>\n",
       "      <td>0.0</td>\n",
       "      <td>30.0</td>\n",
       "      <td>0.0</td>\n",
       "      <td>1.0</td>\n",
       "      <td>31.0</td>\n",
       "    </tr>\n",
       "    <tr>\n",
       "      <th>VAGUE</th>\n",
       "      <td>0.0</td>\n",
       "      <td>0.0</td>\n",
       "      <td>0.0</td>\n",
       "      <td>110.0</td>\n",
       "      <td>3.0</td>\n",
       "      <td>113.0</td>\n",
       "    </tr>\n",
       "    <tr>\n",
       "      <th>no_label</th>\n",
       "      <td>0.0</td>\n",
       "      <td>0.0</td>\n",
       "      <td>0.0</td>\n",
       "      <td>0.0</td>\n",
       "      <td>0.0</td>\n",
       "      <td>0.0</td>\n",
       "    </tr>\n",
       "    <tr>\n",
       "      <th>sum</th>\n",
       "      <td>405.0</td>\n",
       "      <td>256.0</td>\n",
       "      <td>30.0</td>\n",
       "      <td>110.0</td>\n",
       "      <td>36.0</td>\n",
       "      <td>NaN</td>\n",
       "    </tr>\n",
       "  </tbody>\n",
       "</table>\n",
       "</div>"
      ]
     },
     "execution_count": 16,
     "metadata": {},
     "output_type": "execute_result"
    }
   ],
   "execution_count": 16
  },
  {
   "metadata": {
    "ExecuteTime": {
     "end_time": "2024-08-05T20:36:56.327916Z",
     "start_time": "2024-08-05T20:36:56.320797Z"
    }
   },
   "cell_type": "code",
   "source": [
    "matched_preds = pd.merge(preds_few_pro_completion_df, gold_df[['docid', 'unique_id']], how='inner', on=['docid', 'unique_id'])\n",
    "gold_covarage = matched_preds.shape[0] / gold_df.shape[0] * 100\n",
    "print(f'the covarage of the model is {gold_covarage:.2f}%')"
   ],
   "id": "eb1ad252ddbffe38",
   "outputs": [
    {
     "name": "stdout",
     "output_type": "stream",
     "text": [
      "the covarage of the model is 95.70%\n"
     ]
    }
   ],
   "execution_count": 78
  },
  {
   "metadata": {
    "ExecuteTime": {
     "end_time": "2024-08-05T20:36:59.274009Z",
     "start_time": "2024-08-05T20:36:59.264823Z"
    }
   },
   "cell_type": "code",
   "source": [
    "cycles_score = df_pro_completion_results[['docid', 'n_cycles']].drop_duplicates()['n_cycles'].sum() / df_pro_completion_results['docid'].nunique()\n",
    "print(f'there is a {cycles_score * 100}% chance for a cycle')"
   ],
   "id": "8bfb5c595b133a98",
   "outputs": [
    {
     "name": "stdout",
     "output_type": "stream",
     "text": [
      "there is a 0.0% chance for a cycle\n"
     ]
    }
   ],
   "execution_count": 79
  },
  {
   "metadata": {
    "ExecuteTime": {
     "end_time": "2024-08-05T20:37:01.658090Z",
     "start_time": "2024-08-05T20:37:01.640296Z"
    }
   },
   "cell_type": "code",
   "source": "df.to_excel(DATA_PATH / f'models-comp-results-{model_name}-{method}-completion-2.xlsx')",
   "id": "fe2bc56908dbb060",
   "outputs": [],
   "execution_count": 80
  },
  {
   "metadata": {
    "ExecuteTime": {
     "end_time": "2024-08-14T10:38:18.949959Z",
     "start_time": "2024-08-14T10:38:18.936827Z"
    }
   },
   "cell_type": "code",
   "source": [
    "recall_df = recall(df)\n",
    "recall_df"
   ],
   "id": "1f94b524d96ed461",
   "outputs": [
    {
     "data": {
      "text/plain": [
       "     BEFORE     AFTER  EQUAL     VAGUE\n",
       "0  0.877358  0.081784    0.0  0.106195"
      ],
      "text/html": [
       "<div>\n",
       "<style scoped>\n",
       "    .dataframe tbody tr th:only-of-type {\n",
       "        vertical-align: middle;\n",
       "    }\n",
       "\n",
       "    .dataframe tbody tr th {\n",
       "        vertical-align: top;\n",
       "    }\n",
       "\n",
       "    .dataframe thead th {\n",
       "        text-align: right;\n",
       "    }\n",
       "</style>\n",
       "<table border=\"1\" class=\"dataframe\">\n",
       "  <thead>\n",
       "    <tr style=\"text-align: right;\">\n",
       "      <th></th>\n",
       "      <th>BEFORE</th>\n",
       "      <th>AFTER</th>\n",
       "      <th>EQUAL</th>\n",
       "      <th>VAGUE</th>\n",
       "    </tr>\n",
       "  </thead>\n",
       "  <tbody>\n",
       "    <tr>\n",
       "      <th>0</th>\n",
       "      <td>0.877358</td>\n",
       "      <td>0.081784</td>\n",
       "      <td>0.0</td>\n",
       "      <td>0.106195</td>\n",
       "    </tr>\n",
       "  </tbody>\n",
       "</table>\n",
       "</div>"
      ]
     },
     "execution_count": 33,
     "metadata": {},
     "output_type": "execute_result"
    }
   ],
   "execution_count": 33
  },
  {
   "metadata": {
    "ExecuteTime": {
     "end_time": "2024-08-14T10:38:19.931235Z",
     "start_time": "2024-08-14T10:38:19.917897Z"
    }
   },
   "cell_type": "code",
   "source": [
    "precision_df = precision(df)\n",
    "precision_df"
   ],
   "id": "3fdef4cf679377b3",
   "outputs": [
    {
     "data": {
      "text/plain": [
       "    BEFORE     AFTER  EQUAL     VAGUE\n",
       "0  0.52766  0.666667    0.0  0.214286"
      ],
      "text/html": [
       "<div>\n",
       "<style scoped>\n",
       "    .dataframe tbody tr th:only-of-type {\n",
       "        vertical-align: middle;\n",
       "    }\n",
       "\n",
       "    .dataframe tbody tr th {\n",
       "        vertical-align: top;\n",
       "    }\n",
       "\n",
       "    .dataframe thead th {\n",
       "        text-align: right;\n",
       "    }\n",
       "</style>\n",
       "<table border=\"1\" class=\"dataframe\">\n",
       "  <thead>\n",
       "    <tr style=\"text-align: right;\">\n",
       "      <th></th>\n",
       "      <th>BEFORE</th>\n",
       "      <th>AFTER</th>\n",
       "      <th>EQUAL</th>\n",
       "      <th>VAGUE</th>\n",
       "    </tr>\n",
       "  </thead>\n",
       "  <tbody>\n",
       "    <tr>\n",
       "      <th>0</th>\n",
       "      <td>0.52766</td>\n",
       "      <td>0.666667</td>\n",
       "      <td>0.0</td>\n",
       "      <td>0.214286</td>\n",
       "    </tr>\n",
       "  </tbody>\n",
       "</table>\n",
       "</div>"
      ]
     },
     "execution_count": 34,
     "metadata": {},
     "output_type": "execute_result"
    }
   ],
   "execution_count": 34
  },
  {
   "metadata": {
    "ExecuteTime": {
     "end_time": "2024-08-14T10:38:20.965142Z",
     "start_time": "2024-08-14T10:38:20.960763Z"
    }
   },
   "cell_type": "code",
   "source": "calculate_f1(precision_df.to_numpy()[0], recall_df.to_numpy()[0])",
   "id": "14385695fa20be85",
   "outputs": [
    {
     "data": {
      "text/plain": [
       "array([0.65899026, 0.14569536, 0.        , 0.14201183])"
      ]
     },
     "execution_count": 35,
     "metadata": {},
     "output_type": "execute_result"
    }
   ],
   "execution_count": 35
  },
  {
   "metadata": {
    "ExecuteTime": {
     "end_time": "2024-08-14T10:38:21.346062Z",
     "start_time": "2024-08-14T10:38:21.341087Z"
    }
   },
   "cell_type": "code",
   "source": "calculate_micro_f1(precision_df.to_numpy()[0], recall_df.to_numpy()[0])",
   "id": "7ca4c7e3d7a46de",
   "outputs": [
    {
     "data": {
      "text/plain": [
       "0.2852412759693945"
      ]
     },
     "execution_count": 36,
     "metadata": {},
     "output_type": "execute_result"
    }
   ],
   "execution_count": 36
  },
  {
   "metadata": {
    "ExecuteTime": {
     "end_time": "2024-08-14T10:38:21.795261Z",
     "start_time": "2024-08-14T10:38:21.790757Z"
    }
   },
   "cell_type": "code",
   "source": "calculate_relax_micro_f1(precision_df.to_numpy()[0], recall_df.to_numpy()[0])",
   "id": "8db65341c0d6a9a3",
   "outputs": [
    {
     "data": {
      "text/plain": [
       "0.4121016555547362"
      ]
     },
     "execution_count": 37,
     "metadata": {},
     "output_type": "execute_result"
    }
   ],
   "execution_count": 37
  },
  {
   "metadata": {},
   "cell_type": "markdown",
   "source": "### Explenation",
   "id": "bf86d5656744e870"
  },
  {
   "metadata": {
    "ExecuteTime": {
     "end_time": "2024-08-19T18:42:48.693369Z",
     "start_time": "2024-08-19T18:42:48.649052Z"
    }
   },
   "cell_type": "code",
   "source": [
    "df_pro_completion_explanation_results = pd.read_csv(TRC_RESULTS_PATH / method / f'platinum-results-{model_name}-{method}-completion-explanation.csv')\n",
    "preds_few_pro_completion_explanation_df = (df_pro_completion_explanation_results[['docid', 'unique_id', 'relation_selected', 'p_label']]\n",
    "            .copy()\n",
    "            .dropna()\n",
    "            .drop_duplicates(['docid', 'unique_id', 'relation_selected'])\n",
    "            .rename({'relation_selected': 'relation'}, axis='columns'))\n",
    "\n",
    "preds_few_pro_completion_explanation_df"
   ],
   "id": "d69de785ae9b2698",
   "outputs": [
    {
     "data": {
      "text/plain": [
       "                              docid unique_id relation p_label\n",
       "0                       AP_20130322     e2-e3   BEFORE  BEFORE\n",
       "1                       AP_20130322     e2-e4   BEFORE  BEFORE\n",
       "2                       AP_20130322     e3-e4   BEFORE  BEFORE\n",
       "3                       AP_20130322     e3-e6   BEFORE  BEFORE\n",
       "4                       AP_20130322     e3-e7   BEFORE  BEFORE\n",
       "...                             ...       ...      ...     ...\n",
       "3917  nyt_20130322_strange_computer   e16-e19    VAGUE   VAGUE\n",
       "3920  nyt_20130322_strange_computer   e19-e22   BEFORE  BEFORE\n",
       "3921  nyt_20130322_strange_computer   e19-e23   BEFORE  BEFORE\n",
       "3922  nyt_20130322_strange_computer   e22-e23   BEFORE  BEFORE\n",
       "3923  nyt_20130322_strange_computer   e19-e24    VAGUE   VAGUE\n",
       "\n",
       "[724 rows x 4 columns]"
      ],
      "text/html": [
       "<div>\n",
       "<style scoped>\n",
       "    .dataframe tbody tr th:only-of-type {\n",
       "        vertical-align: middle;\n",
       "    }\n",
       "\n",
       "    .dataframe tbody tr th {\n",
       "        vertical-align: top;\n",
       "    }\n",
       "\n",
       "    .dataframe thead th {\n",
       "        text-align: right;\n",
       "    }\n",
       "</style>\n",
       "<table border=\"1\" class=\"dataframe\">\n",
       "  <thead>\n",
       "    <tr style=\"text-align: right;\">\n",
       "      <th></th>\n",
       "      <th>docid</th>\n",
       "      <th>unique_id</th>\n",
       "      <th>relation</th>\n",
       "      <th>p_label</th>\n",
       "    </tr>\n",
       "  </thead>\n",
       "  <tbody>\n",
       "    <tr>\n",
       "      <th>0</th>\n",
       "      <td>AP_20130322</td>\n",
       "      <td>e2-e3</td>\n",
       "      <td>BEFORE</td>\n",
       "      <td>BEFORE</td>\n",
       "    </tr>\n",
       "    <tr>\n",
       "      <th>1</th>\n",
       "      <td>AP_20130322</td>\n",
       "      <td>e2-e4</td>\n",
       "      <td>BEFORE</td>\n",
       "      <td>BEFORE</td>\n",
       "    </tr>\n",
       "    <tr>\n",
       "      <th>2</th>\n",
       "      <td>AP_20130322</td>\n",
       "      <td>e3-e4</td>\n",
       "      <td>BEFORE</td>\n",
       "      <td>BEFORE</td>\n",
       "    </tr>\n",
       "    <tr>\n",
       "      <th>3</th>\n",
       "      <td>AP_20130322</td>\n",
       "      <td>e3-e6</td>\n",
       "      <td>BEFORE</td>\n",
       "      <td>BEFORE</td>\n",
       "    </tr>\n",
       "    <tr>\n",
       "      <th>4</th>\n",
       "      <td>AP_20130322</td>\n",
       "      <td>e3-e7</td>\n",
       "      <td>BEFORE</td>\n",
       "      <td>BEFORE</td>\n",
       "    </tr>\n",
       "    <tr>\n",
       "      <th>...</th>\n",
       "      <td>...</td>\n",
       "      <td>...</td>\n",
       "      <td>...</td>\n",
       "      <td>...</td>\n",
       "    </tr>\n",
       "    <tr>\n",
       "      <th>3917</th>\n",
       "      <td>nyt_20130322_strange_computer</td>\n",
       "      <td>e16-e19</td>\n",
       "      <td>VAGUE</td>\n",
       "      <td>VAGUE</td>\n",
       "    </tr>\n",
       "    <tr>\n",
       "      <th>3920</th>\n",
       "      <td>nyt_20130322_strange_computer</td>\n",
       "      <td>e19-e22</td>\n",
       "      <td>BEFORE</td>\n",
       "      <td>BEFORE</td>\n",
       "    </tr>\n",
       "    <tr>\n",
       "      <th>3921</th>\n",
       "      <td>nyt_20130322_strange_computer</td>\n",
       "      <td>e19-e23</td>\n",
       "      <td>BEFORE</td>\n",
       "      <td>BEFORE</td>\n",
       "    </tr>\n",
       "    <tr>\n",
       "      <th>3922</th>\n",
       "      <td>nyt_20130322_strange_computer</td>\n",
       "      <td>e22-e23</td>\n",
       "      <td>BEFORE</td>\n",
       "      <td>BEFORE</td>\n",
       "    </tr>\n",
       "    <tr>\n",
       "      <th>3923</th>\n",
       "      <td>nyt_20130322_strange_computer</td>\n",
       "      <td>e19-e24</td>\n",
       "      <td>VAGUE</td>\n",
       "      <td>VAGUE</td>\n",
       "    </tr>\n",
       "  </tbody>\n",
       "</table>\n",
       "<p>724 rows × 4 columns</p>\n",
       "</div>"
      ]
     },
     "execution_count": 7,
     "metadata": {},
     "output_type": "execute_result"
    }
   ],
   "execution_count": 7
  },
  {
   "metadata": {
    "ExecuteTime": {
     "end_time": "2024-08-19T18:42:54.423591Z",
     "start_time": "2024-08-19T18:42:54.359267Z"
    }
   },
   "cell_type": "code",
   "source": [
    "df = relation_table(gold_df, preds_few_pro_completion_explanation_df, f'{model_name}-{method}-completion-explanation', target_col='label')\n",
    "df"
   ],
   "id": "fc60588055ba0b5",
   "outputs": [
    {
     "data": {
      "text/plain": [
       "                      gemini-1.5-pro-few-shot-completion-explanation        \\\n",
       "                                                              BEFORE AFTER   \n",
       "gold-labeled BEFORE                                            327.0   5.0   \n",
       "             AFTER                                             206.0  24.0   \n",
       "             EQUAL                                              22.0   2.0   \n",
       "             VAGUE                                              83.0   0.0   \n",
       "             no_label                                            0.0   0.0   \n",
       "             sum                                               638.0  31.0   \n",
       "\n",
       "                                                         \n",
       "                      EQUAL VAGUE no_predictions    sum  \n",
       "gold-labeled BEFORE     4.0  31.0           57.0  424.0  \n",
       "             AFTER      0.0  11.0           28.0  269.0  \n",
       "             EQUAL      1.0   1.0            5.0   31.0  \n",
       "             VAGUE      0.0   7.0           23.0  113.0  \n",
       "             no_label   0.0   0.0            0.0    0.0  \n",
       "             sum        5.0  50.0          113.0    NaN  "
      ],
      "text/html": [
       "<div>\n",
       "<style scoped>\n",
       "    .dataframe tbody tr th:only-of-type {\n",
       "        vertical-align: middle;\n",
       "    }\n",
       "\n",
       "    .dataframe tbody tr th {\n",
       "        vertical-align: top;\n",
       "    }\n",
       "\n",
       "    .dataframe thead tr th {\n",
       "        text-align: left;\n",
       "    }\n",
       "</style>\n",
       "<table border=\"1\" class=\"dataframe\">\n",
       "  <thead>\n",
       "    <tr>\n",
       "      <th></th>\n",
       "      <th></th>\n",
       "      <th colspan=\"6\" halign=\"left\">gemini-1.5-pro-few-shot-completion-explanation</th>\n",
       "    </tr>\n",
       "    <tr>\n",
       "      <th></th>\n",
       "      <th></th>\n",
       "      <th>BEFORE</th>\n",
       "      <th>AFTER</th>\n",
       "      <th>EQUAL</th>\n",
       "      <th>VAGUE</th>\n",
       "      <th>no_predictions</th>\n",
       "      <th>sum</th>\n",
       "    </tr>\n",
       "  </thead>\n",
       "  <tbody>\n",
       "    <tr>\n",
       "      <th rowspan=\"6\" valign=\"top\">gold-labeled</th>\n",
       "      <th>BEFORE</th>\n",
       "      <td>327.0</td>\n",
       "      <td>5.0</td>\n",
       "      <td>4.0</td>\n",
       "      <td>31.0</td>\n",
       "      <td>57.0</td>\n",
       "      <td>424.0</td>\n",
       "    </tr>\n",
       "    <tr>\n",
       "      <th>AFTER</th>\n",
       "      <td>206.0</td>\n",
       "      <td>24.0</td>\n",
       "      <td>0.0</td>\n",
       "      <td>11.0</td>\n",
       "      <td>28.0</td>\n",
       "      <td>269.0</td>\n",
       "    </tr>\n",
       "    <tr>\n",
       "      <th>EQUAL</th>\n",
       "      <td>22.0</td>\n",
       "      <td>2.0</td>\n",
       "      <td>1.0</td>\n",
       "      <td>1.0</td>\n",
       "      <td>5.0</td>\n",
       "      <td>31.0</td>\n",
       "    </tr>\n",
       "    <tr>\n",
       "      <th>VAGUE</th>\n",
       "      <td>83.0</td>\n",
       "      <td>0.0</td>\n",
       "      <td>0.0</td>\n",
       "      <td>7.0</td>\n",
       "      <td>23.0</td>\n",
       "      <td>113.0</td>\n",
       "    </tr>\n",
       "    <tr>\n",
       "      <th>no_label</th>\n",
       "      <td>0.0</td>\n",
       "      <td>0.0</td>\n",
       "      <td>0.0</td>\n",
       "      <td>0.0</td>\n",
       "      <td>0.0</td>\n",
       "      <td>0.0</td>\n",
       "    </tr>\n",
       "    <tr>\n",
       "      <th>sum</th>\n",
       "      <td>638.0</td>\n",
       "      <td>31.0</td>\n",
       "      <td>5.0</td>\n",
       "      <td>50.0</td>\n",
       "      <td>113.0</td>\n",
       "      <td>NaN</td>\n",
       "    </tr>\n",
       "  </tbody>\n",
       "</table>\n",
       "</div>"
      ]
     },
     "execution_count": 8,
     "metadata": {},
     "output_type": "execute_result"
    }
   ],
   "execution_count": 8
  },
  {
   "metadata": {
    "ExecuteTime": {
     "end_time": "2024-08-19T18:43:05.944289Z",
     "start_time": "2024-08-19T18:43:05.935738Z"
    }
   },
   "cell_type": "code",
   "source": [
    "matched_preds = pd.merge(preds_few_pro_completion_explanation_df, gold_df[['docid', 'unique_id']], how='inner', on=['docid', 'unique_id'])\n",
    "gold_covarage = matched_preds.shape[0] / gold_df.shape[0] * 100\n",
    "print(f'the covarage of the model is {gold_covarage:.2f}%')"
   ],
   "id": "9cac16fb4438cda7",
   "outputs": [
    {
     "name": "stdout",
     "output_type": "stream",
     "text": [
      "the covarage of the model is 86.50%\n"
     ]
    }
   ],
   "execution_count": 9
  },
  {
   "metadata": {
    "ExecuteTime": {
     "end_time": "2024-08-19T18:43:21.754275Z",
     "start_time": "2024-08-19T18:43:21.743390Z"
    }
   },
   "cell_type": "code",
   "source": [
    "cycles_score = df_pro_completion_explanation_results[['docid', 'n_cycles']].drop_duplicates()['n_cycles'].sum() / df_pro_completion_explanation_results['docid'].nunique()\n",
    "print(f'there is a {cycles_score * 100}% chance for a cycle')"
   ],
   "id": "1ab8ca66c7bcfc62",
   "outputs": [
    {
     "name": "stdout",
     "output_type": "stream",
     "text": [
      "there is a 0.0% chance for a cycle\n"
     ]
    }
   ],
   "execution_count": 10
  },
  {
   "metadata": {
    "ExecuteTime": {
     "end_time": "2024-08-19T18:43:28.442244Z",
     "start_time": "2024-08-19T18:43:28.206913Z"
    }
   },
   "cell_type": "code",
   "source": "df.to_excel(DATA_PATH / f'models-comp-results-{model_name}-{method}-completion-explanation.xlsx')",
   "id": "89e421a9985c9175",
   "outputs": [],
   "execution_count": 11
  },
  {
   "metadata": {
    "ExecuteTime": {
     "end_time": "2024-08-19T18:43:29.584143Z",
     "start_time": "2024-08-19T18:43:29.566200Z"
    }
   },
   "cell_type": "code",
   "source": [
    "recall_df = recall(df)\n",
    "recall_df"
   ],
   "id": "6666e822308fc6cf",
   "outputs": [
    {
     "data": {
      "text/plain": [
       "     BEFORE     AFTER     EQUAL     VAGUE\n",
       "0  0.771226  0.089219  0.032258  0.061947"
      ],
      "text/html": [
       "<div>\n",
       "<style scoped>\n",
       "    .dataframe tbody tr th:only-of-type {\n",
       "        vertical-align: middle;\n",
       "    }\n",
       "\n",
       "    .dataframe tbody tr th {\n",
       "        vertical-align: top;\n",
       "    }\n",
       "\n",
       "    .dataframe thead th {\n",
       "        text-align: right;\n",
       "    }\n",
       "</style>\n",
       "<table border=\"1\" class=\"dataframe\">\n",
       "  <thead>\n",
       "    <tr style=\"text-align: right;\">\n",
       "      <th></th>\n",
       "      <th>BEFORE</th>\n",
       "      <th>AFTER</th>\n",
       "      <th>EQUAL</th>\n",
       "      <th>VAGUE</th>\n",
       "    </tr>\n",
       "  </thead>\n",
       "  <tbody>\n",
       "    <tr>\n",
       "      <th>0</th>\n",
       "      <td>0.771226</td>\n",
       "      <td>0.089219</td>\n",
       "      <td>0.032258</td>\n",
       "      <td>0.061947</td>\n",
       "    </tr>\n",
       "  </tbody>\n",
       "</table>\n",
       "</div>"
      ]
     },
     "execution_count": 12,
     "metadata": {},
     "output_type": "execute_result"
    }
   ],
   "execution_count": 12
  },
  {
   "metadata": {
    "ExecuteTime": {
     "end_time": "2024-08-19T18:43:30.604403Z",
     "start_time": "2024-08-19T18:43:30.583924Z"
    }
   },
   "cell_type": "code",
   "source": [
    "precision_df = precision(df)\n",
    "precision_df"
   ],
   "id": "5e6c2b0b84c181f7",
   "outputs": [
    {
     "data": {
      "text/plain": [
       "     BEFORE     AFTER  EQUAL  VAGUE\n",
       "0  0.512539  0.774194    0.2   0.14"
      ],
      "text/html": [
       "<div>\n",
       "<style scoped>\n",
       "    .dataframe tbody tr th:only-of-type {\n",
       "        vertical-align: middle;\n",
       "    }\n",
       "\n",
       "    .dataframe tbody tr th {\n",
       "        vertical-align: top;\n",
       "    }\n",
       "\n",
       "    .dataframe thead th {\n",
       "        text-align: right;\n",
       "    }\n",
       "</style>\n",
       "<table border=\"1\" class=\"dataframe\">\n",
       "  <thead>\n",
       "    <tr style=\"text-align: right;\">\n",
       "      <th></th>\n",
       "      <th>BEFORE</th>\n",
       "      <th>AFTER</th>\n",
       "      <th>EQUAL</th>\n",
       "      <th>VAGUE</th>\n",
       "    </tr>\n",
       "  </thead>\n",
       "  <tbody>\n",
       "    <tr>\n",
       "      <th>0</th>\n",
       "      <td>0.512539</td>\n",
       "      <td>0.774194</td>\n",
       "      <td>0.2</td>\n",
       "      <td>0.14</td>\n",
       "    </tr>\n",
       "  </tbody>\n",
       "</table>\n",
       "</div>"
      ]
     },
     "execution_count": 13,
     "metadata": {},
     "output_type": "execute_result"
    }
   ],
   "execution_count": 13
  },
  {
   "metadata": {
    "ExecuteTime": {
     "end_time": "2024-08-19T18:43:33.788927Z",
     "start_time": "2024-08-19T18:43:33.782888Z"
    }
   },
   "cell_type": "code",
   "source": "calculate_f1(precision_df.to_numpy()[0], recall_df.to_numpy()[0])",
   "id": "f60e63b6eed002dd",
   "outputs": [
    {
     "data": {
      "text/plain": [
       "array([0.61581921, 0.16      , 0.05555556, 0.08588957])"
      ]
     },
     "execution_count": 14,
     "metadata": {},
     "output_type": "execute_result"
    }
   ],
   "execution_count": 14
  },
  {
   "metadata": {
    "ExecuteTime": {
     "end_time": "2024-08-19T18:43:34.543220Z",
     "start_time": "2024-08-19T18:43:34.538239Z"
    }
   },
   "cell_type": "code",
   "source": "calculate_micro_f1(precision_df.to_numpy()[0], recall_df.to_numpy()[0])",
   "id": "1ab35d79b69556ed",
   "outputs": [
    {
     "data": {
      "text/plain": [
       "0.13929604669440937"
      ]
     },
     "execution_count": 15,
     "metadata": {},
     "output_type": "execute_result"
    }
   ],
   "execution_count": 15
  },
  {
   "metadata": {
    "ExecuteTime": {
     "end_time": "2024-08-19T18:43:35.465284Z",
     "start_time": "2024-08-19T18:43:35.460742Z"
    }
   },
   "cell_type": "code",
   "source": "calculate_relax_micro_f1(precision_df.to_numpy()[0], recall_df.to_numpy()[0])",
   "id": "586634a63d8b4cda",
   "outputs": [
    {
     "data": {
      "text/plain": [
       "0.2208661097744532"
      ]
     },
     "execution_count": 16,
     "metadata": {},
     "output_type": "execute_result"
    }
   ],
   "execution_count": 16
  },
  {
   "metadata": {},
   "cell_type": "markdown",
   "source": "# Gemini-1.5-Flash",
   "id": "c042f5302bf073a6"
  },
  {
   "metadata": {
    "ExecuteTime": {
     "end_time": "2024-08-14T10:40:20.249418Z",
     "start_time": "2024-08-14T10:40:20.246692Z"
    }
   },
   "cell_type": "code",
   "source": "model_name = 'gemini-1.5-flash'",
   "id": "abb02506f5358431",
   "outputs": [],
   "execution_count": 38
  },
  {
   "metadata": {},
   "cell_type": "markdown",
   "source": "## Zero-Shot",
   "id": "aa6642d6012d3e55"
  },
  {
   "metadata": {
    "ExecuteTime": {
     "end_time": "2024-08-14T10:40:21.088206Z",
     "start_time": "2024-08-14T10:40:21.085616Z"
    }
   },
   "cell_type": "code",
   "source": "method = 'zero-shot'",
   "id": "84ff1efa534c8363",
   "outputs": [],
   "execution_count": 39
  },
  {
   "metadata": {
    "ExecuteTime": {
     "end_time": "2024-08-14T10:41:28.440234Z",
     "start_time": "2024-08-14T10:41:28.217071Z"
    }
   },
   "cell_type": "code",
   "source": [
    "df_flash_results = pd.read_csv(TRC_RESULTS_PATH / method / f'platinum-results-{model_name}-{method}.csv')\n",
    "preds_zero_flash_df = (df_flash_results[['docid', 'unique_id', 'relation_selected', 'p_label']]\n",
    "            .copy()\n",
    "            .dropna()\n",
    "            .drop_duplicates(['docid', 'unique_id', 'relation_selected'])\n",
    "            .rename({'relation_selected': 'relation'}, axis='columns'))\n",
    "\n",
    "\n",
    "df = relation_table(gold_df, preds_zero_flash_df, model_name, target_col='label')\n",
    "df"
   ],
   "id": "3a02ef90a8b1ffb8",
   "outputs": [
    {
     "ename": "FileNotFoundError",
     "evalue": "[Errno 2] No such file or directory: '../data/TRC/results/zero-shot/platinum-results-gemini-1.5-flash-zero-shot.csv'",
     "output_type": "error",
     "traceback": [
      "\u001B[0;31m---------------------------------------------------------------------------\u001B[0m",
      "\u001B[0;31mFileNotFoundError\u001B[0m                         Traceback (most recent call last)",
      "Cell \u001B[0;32mIn[42], line 1\u001B[0m\n\u001B[0;32m----> 1\u001B[0m df_flash_results \u001B[38;5;241m=\u001B[39m \u001B[43mpd\u001B[49m\u001B[38;5;241;43m.\u001B[39;49m\u001B[43mread_csv\u001B[49m\u001B[43m(\u001B[49m\u001B[43mTRC_RESULTS_PATH\u001B[49m\u001B[43m \u001B[49m\u001B[38;5;241;43m/\u001B[39;49m\u001B[43m \u001B[49m\u001B[43mmethod\u001B[49m\u001B[43m \u001B[49m\u001B[38;5;241;43m/\u001B[39;49m\u001B[43m \u001B[49m\u001B[38;5;124;43mf\u001B[39;49m\u001B[38;5;124;43m'\u001B[39;49m\u001B[38;5;124;43mplatinum-results-\u001B[39;49m\u001B[38;5;132;43;01m{\u001B[39;49;00m\u001B[43mmodel_name\u001B[49m\u001B[38;5;132;43;01m}\u001B[39;49;00m\u001B[38;5;124;43m-\u001B[39;49m\u001B[38;5;132;43;01m{\u001B[39;49;00m\u001B[43mmethod\u001B[49m\u001B[38;5;132;43;01m}\u001B[39;49;00m\u001B[38;5;124;43m.csv\u001B[39;49m\u001B[38;5;124;43m'\u001B[39;49m\u001B[43m)\u001B[49m\n\u001B[1;32m      2\u001B[0m preds_zero_flash_df \u001B[38;5;241m=\u001B[39m (df_flash_results[[\u001B[38;5;124m'\u001B[39m\u001B[38;5;124mdocid\u001B[39m\u001B[38;5;124m'\u001B[39m, \u001B[38;5;124m'\u001B[39m\u001B[38;5;124munique_id\u001B[39m\u001B[38;5;124m'\u001B[39m, \u001B[38;5;124m'\u001B[39m\u001B[38;5;124mrelation_selected\u001B[39m\u001B[38;5;124m'\u001B[39m, \u001B[38;5;124m'\u001B[39m\u001B[38;5;124mp_label\u001B[39m\u001B[38;5;124m'\u001B[39m]]\n\u001B[1;32m      3\u001B[0m             \u001B[38;5;241m.\u001B[39mcopy()\n\u001B[1;32m      4\u001B[0m             \u001B[38;5;241m.\u001B[39mdropna()\n\u001B[1;32m      5\u001B[0m             \u001B[38;5;241m.\u001B[39mdrop_duplicates([\u001B[38;5;124m'\u001B[39m\u001B[38;5;124mdocid\u001B[39m\u001B[38;5;124m'\u001B[39m, \u001B[38;5;124m'\u001B[39m\u001B[38;5;124munique_id\u001B[39m\u001B[38;5;124m'\u001B[39m, \u001B[38;5;124m'\u001B[39m\u001B[38;5;124mrelation_selected\u001B[39m\u001B[38;5;124m'\u001B[39m])\n\u001B[1;32m      6\u001B[0m             \u001B[38;5;241m.\u001B[39mrename({\u001B[38;5;124m'\u001B[39m\u001B[38;5;124mrelation_selected\u001B[39m\u001B[38;5;124m'\u001B[39m: \u001B[38;5;124m'\u001B[39m\u001B[38;5;124mrelation\u001B[39m\u001B[38;5;124m'\u001B[39m}, axis\u001B[38;5;241m=\u001B[39m\u001B[38;5;124m'\u001B[39m\u001B[38;5;124mcolumns\u001B[39m\u001B[38;5;124m'\u001B[39m))\n\u001B[1;32m      9\u001B[0m df \u001B[38;5;241m=\u001B[39m relation_table(gold_df, preds_zero_flash_df, model_name, target_col\u001B[38;5;241m=\u001B[39m\u001B[38;5;124m'\u001B[39m\u001B[38;5;124mlabel\u001B[39m\u001B[38;5;124m'\u001B[39m)\n",
      "File \u001B[0;32m~/git/full-temporal-relation/venv/lib/python3.11/site-packages/pandas/io/parsers/readers.py:1026\u001B[0m, in \u001B[0;36mread_csv\u001B[0;34m(filepath_or_buffer, sep, delimiter, header, names, index_col, usecols, dtype, engine, converters, true_values, false_values, skipinitialspace, skiprows, skipfooter, nrows, na_values, keep_default_na, na_filter, verbose, skip_blank_lines, parse_dates, infer_datetime_format, keep_date_col, date_parser, date_format, dayfirst, cache_dates, iterator, chunksize, compression, thousands, decimal, lineterminator, quotechar, quoting, doublequote, escapechar, comment, encoding, encoding_errors, dialect, on_bad_lines, delim_whitespace, low_memory, memory_map, float_precision, storage_options, dtype_backend)\u001B[0m\n\u001B[1;32m   1013\u001B[0m kwds_defaults \u001B[38;5;241m=\u001B[39m _refine_defaults_read(\n\u001B[1;32m   1014\u001B[0m     dialect,\n\u001B[1;32m   1015\u001B[0m     delimiter,\n\u001B[0;32m   (...)\u001B[0m\n\u001B[1;32m   1022\u001B[0m     dtype_backend\u001B[38;5;241m=\u001B[39mdtype_backend,\n\u001B[1;32m   1023\u001B[0m )\n\u001B[1;32m   1024\u001B[0m kwds\u001B[38;5;241m.\u001B[39mupdate(kwds_defaults)\n\u001B[0;32m-> 1026\u001B[0m \u001B[38;5;28;01mreturn\u001B[39;00m \u001B[43m_read\u001B[49m\u001B[43m(\u001B[49m\u001B[43mfilepath_or_buffer\u001B[49m\u001B[43m,\u001B[49m\u001B[43m \u001B[49m\u001B[43mkwds\u001B[49m\u001B[43m)\u001B[49m\n",
      "File \u001B[0;32m~/git/full-temporal-relation/venv/lib/python3.11/site-packages/pandas/io/parsers/readers.py:620\u001B[0m, in \u001B[0;36m_read\u001B[0;34m(filepath_or_buffer, kwds)\u001B[0m\n\u001B[1;32m    617\u001B[0m _validate_names(kwds\u001B[38;5;241m.\u001B[39mget(\u001B[38;5;124m\"\u001B[39m\u001B[38;5;124mnames\u001B[39m\u001B[38;5;124m\"\u001B[39m, \u001B[38;5;28;01mNone\u001B[39;00m))\n\u001B[1;32m    619\u001B[0m \u001B[38;5;66;03m# Create the parser.\u001B[39;00m\n\u001B[0;32m--> 620\u001B[0m parser \u001B[38;5;241m=\u001B[39m \u001B[43mTextFileReader\u001B[49m\u001B[43m(\u001B[49m\u001B[43mfilepath_or_buffer\u001B[49m\u001B[43m,\u001B[49m\u001B[43m \u001B[49m\u001B[38;5;241;43m*\u001B[39;49m\u001B[38;5;241;43m*\u001B[39;49m\u001B[43mkwds\u001B[49m\u001B[43m)\u001B[49m\n\u001B[1;32m    622\u001B[0m \u001B[38;5;28;01mif\u001B[39;00m chunksize \u001B[38;5;129;01mor\u001B[39;00m iterator:\n\u001B[1;32m    623\u001B[0m     \u001B[38;5;28;01mreturn\u001B[39;00m parser\n",
      "File \u001B[0;32m~/git/full-temporal-relation/venv/lib/python3.11/site-packages/pandas/io/parsers/readers.py:1620\u001B[0m, in \u001B[0;36mTextFileReader.__init__\u001B[0;34m(self, f, engine, **kwds)\u001B[0m\n\u001B[1;32m   1617\u001B[0m     \u001B[38;5;28mself\u001B[39m\u001B[38;5;241m.\u001B[39moptions[\u001B[38;5;124m\"\u001B[39m\u001B[38;5;124mhas_index_names\u001B[39m\u001B[38;5;124m\"\u001B[39m] \u001B[38;5;241m=\u001B[39m kwds[\u001B[38;5;124m\"\u001B[39m\u001B[38;5;124mhas_index_names\u001B[39m\u001B[38;5;124m\"\u001B[39m]\n\u001B[1;32m   1619\u001B[0m \u001B[38;5;28mself\u001B[39m\u001B[38;5;241m.\u001B[39mhandles: IOHandles \u001B[38;5;241m|\u001B[39m \u001B[38;5;28;01mNone\u001B[39;00m \u001B[38;5;241m=\u001B[39m \u001B[38;5;28;01mNone\u001B[39;00m\n\u001B[0;32m-> 1620\u001B[0m \u001B[38;5;28mself\u001B[39m\u001B[38;5;241m.\u001B[39m_engine \u001B[38;5;241m=\u001B[39m \u001B[38;5;28;43mself\u001B[39;49m\u001B[38;5;241;43m.\u001B[39;49m\u001B[43m_make_engine\u001B[49m\u001B[43m(\u001B[49m\u001B[43mf\u001B[49m\u001B[43m,\u001B[49m\u001B[43m \u001B[49m\u001B[38;5;28;43mself\u001B[39;49m\u001B[38;5;241;43m.\u001B[39;49m\u001B[43mengine\u001B[49m\u001B[43m)\u001B[49m\n",
      "File \u001B[0;32m~/git/full-temporal-relation/venv/lib/python3.11/site-packages/pandas/io/parsers/readers.py:1880\u001B[0m, in \u001B[0;36mTextFileReader._make_engine\u001B[0;34m(self, f, engine)\u001B[0m\n\u001B[1;32m   1878\u001B[0m     \u001B[38;5;28;01mif\u001B[39;00m \u001B[38;5;124m\"\u001B[39m\u001B[38;5;124mb\u001B[39m\u001B[38;5;124m\"\u001B[39m \u001B[38;5;129;01mnot\u001B[39;00m \u001B[38;5;129;01min\u001B[39;00m mode:\n\u001B[1;32m   1879\u001B[0m         mode \u001B[38;5;241m+\u001B[39m\u001B[38;5;241m=\u001B[39m \u001B[38;5;124m\"\u001B[39m\u001B[38;5;124mb\u001B[39m\u001B[38;5;124m\"\u001B[39m\n\u001B[0;32m-> 1880\u001B[0m \u001B[38;5;28mself\u001B[39m\u001B[38;5;241m.\u001B[39mhandles \u001B[38;5;241m=\u001B[39m \u001B[43mget_handle\u001B[49m\u001B[43m(\u001B[49m\n\u001B[1;32m   1881\u001B[0m \u001B[43m    \u001B[49m\u001B[43mf\u001B[49m\u001B[43m,\u001B[49m\n\u001B[1;32m   1882\u001B[0m \u001B[43m    \u001B[49m\u001B[43mmode\u001B[49m\u001B[43m,\u001B[49m\n\u001B[1;32m   1883\u001B[0m \u001B[43m    \u001B[49m\u001B[43mencoding\u001B[49m\u001B[38;5;241;43m=\u001B[39;49m\u001B[38;5;28;43mself\u001B[39;49m\u001B[38;5;241;43m.\u001B[39;49m\u001B[43moptions\u001B[49m\u001B[38;5;241;43m.\u001B[39;49m\u001B[43mget\u001B[49m\u001B[43m(\u001B[49m\u001B[38;5;124;43m\"\u001B[39;49m\u001B[38;5;124;43mencoding\u001B[39;49m\u001B[38;5;124;43m\"\u001B[39;49m\u001B[43m,\u001B[49m\u001B[43m \u001B[49m\u001B[38;5;28;43;01mNone\u001B[39;49;00m\u001B[43m)\u001B[49m\u001B[43m,\u001B[49m\n\u001B[1;32m   1884\u001B[0m \u001B[43m    \u001B[49m\u001B[43mcompression\u001B[49m\u001B[38;5;241;43m=\u001B[39;49m\u001B[38;5;28;43mself\u001B[39;49m\u001B[38;5;241;43m.\u001B[39;49m\u001B[43moptions\u001B[49m\u001B[38;5;241;43m.\u001B[39;49m\u001B[43mget\u001B[49m\u001B[43m(\u001B[49m\u001B[38;5;124;43m\"\u001B[39;49m\u001B[38;5;124;43mcompression\u001B[39;49m\u001B[38;5;124;43m\"\u001B[39;49m\u001B[43m,\u001B[49m\u001B[43m \u001B[49m\u001B[38;5;28;43;01mNone\u001B[39;49;00m\u001B[43m)\u001B[49m\u001B[43m,\u001B[49m\n\u001B[1;32m   1885\u001B[0m \u001B[43m    \u001B[49m\u001B[43mmemory_map\u001B[49m\u001B[38;5;241;43m=\u001B[39;49m\u001B[38;5;28;43mself\u001B[39;49m\u001B[38;5;241;43m.\u001B[39;49m\u001B[43moptions\u001B[49m\u001B[38;5;241;43m.\u001B[39;49m\u001B[43mget\u001B[49m\u001B[43m(\u001B[49m\u001B[38;5;124;43m\"\u001B[39;49m\u001B[38;5;124;43mmemory_map\u001B[39;49m\u001B[38;5;124;43m\"\u001B[39;49m\u001B[43m,\u001B[49m\u001B[43m \u001B[49m\u001B[38;5;28;43;01mFalse\u001B[39;49;00m\u001B[43m)\u001B[49m\u001B[43m,\u001B[49m\n\u001B[1;32m   1886\u001B[0m \u001B[43m    \u001B[49m\u001B[43mis_text\u001B[49m\u001B[38;5;241;43m=\u001B[39;49m\u001B[43mis_text\u001B[49m\u001B[43m,\u001B[49m\n\u001B[1;32m   1887\u001B[0m \u001B[43m    \u001B[49m\u001B[43merrors\u001B[49m\u001B[38;5;241;43m=\u001B[39;49m\u001B[38;5;28;43mself\u001B[39;49m\u001B[38;5;241;43m.\u001B[39;49m\u001B[43moptions\u001B[49m\u001B[38;5;241;43m.\u001B[39;49m\u001B[43mget\u001B[49m\u001B[43m(\u001B[49m\u001B[38;5;124;43m\"\u001B[39;49m\u001B[38;5;124;43mencoding_errors\u001B[39;49m\u001B[38;5;124;43m\"\u001B[39;49m\u001B[43m,\u001B[49m\u001B[43m \u001B[49m\u001B[38;5;124;43m\"\u001B[39;49m\u001B[38;5;124;43mstrict\u001B[39;49m\u001B[38;5;124;43m\"\u001B[39;49m\u001B[43m)\u001B[49m\u001B[43m,\u001B[49m\n\u001B[1;32m   1888\u001B[0m \u001B[43m    \u001B[49m\u001B[43mstorage_options\u001B[49m\u001B[38;5;241;43m=\u001B[39;49m\u001B[38;5;28;43mself\u001B[39;49m\u001B[38;5;241;43m.\u001B[39;49m\u001B[43moptions\u001B[49m\u001B[38;5;241;43m.\u001B[39;49m\u001B[43mget\u001B[49m\u001B[43m(\u001B[49m\u001B[38;5;124;43m\"\u001B[39;49m\u001B[38;5;124;43mstorage_options\u001B[39;49m\u001B[38;5;124;43m\"\u001B[39;49m\u001B[43m,\u001B[49m\u001B[43m \u001B[49m\u001B[38;5;28;43;01mNone\u001B[39;49;00m\u001B[43m)\u001B[49m\u001B[43m,\u001B[49m\n\u001B[1;32m   1889\u001B[0m \u001B[43m\u001B[49m\u001B[43m)\u001B[49m\n\u001B[1;32m   1890\u001B[0m \u001B[38;5;28;01massert\u001B[39;00m \u001B[38;5;28mself\u001B[39m\u001B[38;5;241m.\u001B[39mhandles \u001B[38;5;129;01mis\u001B[39;00m \u001B[38;5;129;01mnot\u001B[39;00m \u001B[38;5;28;01mNone\u001B[39;00m\n\u001B[1;32m   1891\u001B[0m f \u001B[38;5;241m=\u001B[39m \u001B[38;5;28mself\u001B[39m\u001B[38;5;241m.\u001B[39mhandles\u001B[38;5;241m.\u001B[39mhandle\n",
      "File \u001B[0;32m~/git/full-temporal-relation/venv/lib/python3.11/site-packages/pandas/io/common.py:873\u001B[0m, in \u001B[0;36mget_handle\u001B[0;34m(path_or_buf, mode, encoding, compression, memory_map, is_text, errors, storage_options)\u001B[0m\n\u001B[1;32m    868\u001B[0m \u001B[38;5;28;01melif\u001B[39;00m \u001B[38;5;28misinstance\u001B[39m(handle, \u001B[38;5;28mstr\u001B[39m):\n\u001B[1;32m    869\u001B[0m     \u001B[38;5;66;03m# Check whether the filename is to be opened in binary mode.\u001B[39;00m\n\u001B[1;32m    870\u001B[0m     \u001B[38;5;66;03m# Binary mode does not support 'encoding' and 'newline'.\u001B[39;00m\n\u001B[1;32m    871\u001B[0m     \u001B[38;5;28;01mif\u001B[39;00m ioargs\u001B[38;5;241m.\u001B[39mencoding \u001B[38;5;129;01mand\u001B[39;00m \u001B[38;5;124m\"\u001B[39m\u001B[38;5;124mb\u001B[39m\u001B[38;5;124m\"\u001B[39m \u001B[38;5;129;01mnot\u001B[39;00m \u001B[38;5;129;01min\u001B[39;00m ioargs\u001B[38;5;241m.\u001B[39mmode:\n\u001B[1;32m    872\u001B[0m         \u001B[38;5;66;03m# Encoding\u001B[39;00m\n\u001B[0;32m--> 873\u001B[0m         handle \u001B[38;5;241m=\u001B[39m \u001B[38;5;28mopen\u001B[39m(\n\u001B[1;32m    874\u001B[0m             handle,\n\u001B[1;32m    875\u001B[0m             ioargs\u001B[38;5;241m.\u001B[39mmode,\n\u001B[1;32m    876\u001B[0m             encoding\u001B[38;5;241m=\u001B[39mioargs\u001B[38;5;241m.\u001B[39mencoding,\n\u001B[1;32m    877\u001B[0m             errors\u001B[38;5;241m=\u001B[39merrors,\n\u001B[1;32m    878\u001B[0m             newline\u001B[38;5;241m=\u001B[39m\u001B[38;5;124m\"\u001B[39m\u001B[38;5;124m\"\u001B[39m,\n\u001B[1;32m    879\u001B[0m         )\n\u001B[1;32m    880\u001B[0m     \u001B[38;5;28;01melse\u001B[39;00m:\n\u001B[1;32m    881\u001B[0m         \u001B[38;5;66;03m# Binary mode\u001B[39;00m\n\u001B[1;32m    882\u001B[0m         handle \u001B[38;5;241m=\u001B[39m \u001B[38;5;28mopen\u001B[39m(handle, ioargs\u001B[38;5;241m.\u001B[39mmode)\n",
      "\u001B[0;31mFileNotFoundError\u001B[0m: [Errno 2] No such file or directory: '../data/TRC/results/zero-shot/platinum-results-gemini-1.5-flash-zero-shot.csv'"
     ]
    }
   ],
   "execution_count": 42
  },
  {
   "metadata": {
    "ExecuteTime": {
     "end_time": "2024-08-03T17:09:39.416056Z",
     "start_time": "2024-08-03T17:09:39.409163Z"
    }
   },
   "cell_type": "code",
   "source": "preds_zero_flash_df",
   "id": "7829836259608893",
   "outputs": [
    {
     "data": {
      "text/plain": [
       "                              docid unique_id relation\n",
       "0                       AP_20130322     e2-e3   BEFORE\n",
       "1                       AP_20130322     e3-e4   BEFORE\n",
       "2                       AP_20130322     e4-e5   BEFORE\n",
       "3                       AP_20130322     e5-e6   BEFORE\n",
       "5                       AP_20130322     e8-e9   BEFORE\n",
       "...                             ...       ...      ...\n",
       "8740  nyt_20130322_strange_computer    e11-e9   BEFORE\n",
       "8742  nyt_20130322_strange_computer   e14-e15   BEFORE\n",
       "8744  nyt_20130322_strange_computer   e18-e19   BEFORE\n",
       "8749  nyt_20130322_strange_computer   e24-e25   BEFORE\n",
       "8752  nyt_20130322_strange_computer   e28-e29   BEFORE\n",
       "\n",
       "[821 rows x 3 columns]"
      ],
      "text/html": [
       "<div>\n",
       "<style scoped>\n",
       "    .dataframe tbody tr th:only-of-type {\n",
       "        vertical-align: middle;\n",
       "    }\n",
       "\n",
       "    .dataframe tbody tr th {\n",
       "        vertical-align: top;\n",
       "    }\n",
       "\n",
       "    .dataframe thead th {\n",
       "        text-align: right;\n",
       "    }\n",
       "</style>\n",
       "<table border=\"1\" class=\"dataframe\">\n",
       "  <thead>\n",
       "    <tr style=\"text-align: right;\">\n",
       "      <th></th>\n",
       "      <th>docid</th>\n",
       "      <th>unique_id</th>\n",
       "      <th>relation</th>\n",
       "    </tr>\n",
       "  </thead>\n",
       "  <tbody>\n",
       "    <tr>\n",
       "      <th>0</th>\n",
       "      <td>AP_20130322</td>\n",
       "      <td>e2-e3</td>\n",
       "      <td>BEFORE</td>\n",
       "    </tr>\n",
       "    <tr>\n",
       "      <th>1</th>\n",
       "      <td>AP_20130322</td>\n",
       "      <td>e3-e4</td>\n",
       "      <td>BEFORE</td>\n",
       "    </tr>\n",
       "    <tr>\n",
       "      <th>2</th>\n",
       "      <td>AP_20130322</td>\n",
       "      <td>e4-e5</td>\n",
       "      <td>BEFORE</td>\n",
       "    </tr>\n",
       "    <tr>\n",
       "      <th>3</th>\n",
       "      <td>AP_20130322</td>\n",
       "      <td>e5-e6</td>\n",
       "      <td>BEFORE</td>\n",
       "    </tr>\n",
       "    <tr>\n",
       "      <th>5</th>\n",
       "      <td>AP_20130322</td>\n",
       "      <td>e8-e9</td>\n",
       "      <td>BEFORE</td>\n",
       "    </tr>\n",
       "    <tr>\n",
       "      <th>...</th>\n",
       "      <td>...</td>\n",
       "      <td>...</td>\n",
       "      <td>...</td>\n",
       "    </tr>\n",
       "    <tr>\n",
       "      <th>8740</th>\n",
       "      <td>nyt_20130322_strange_computer</td>\n",
       "      <td>e11-e9</td>\n",
       "      <td>BEFORE</td>\n",
       "    </tr>\n",
       "    <tr>\n",
       "      <th>8742</th>\n",
       "      <td>nyt_20130322_strange_computer</td>\n",
       "      <td>e14-e15</td>\n",
       "      <td>BEFORE</td>\n",
       "    </tr>\n",
       "    <tr>\n",
       "      <th>8744</th>\n",
       "      <td>nyt_20130322_strange_computer</td>\n",
       "      <td>e18-e19</td>\n",
       "      <td>BEFORE</td>\n",
       "    </tr>\n",
       "    <tr>\n",
       "      <th>8749</th>\n",
       "      <td>nyt_20130322_strange_computer</td>\n",
       "      <td>e24-e25</td>\n",
       "      <td>BEFORE</td>\n",
       "    </tr>\n",
       "    <tr>\n",
       "      <th>8752</th>\n",
       "      <td>nyt_20130322_strange_computer</td>\n",
       "      <td>e28-e29</td>\n",
       "      <td>BEFORE</td>\n",
       "    </tr>\n",
       "  </tbody>\n",
       "</table>\n",
       "<p>821 rows × 3 columns</p>\n",
       "</div>"
      ]
     },
     "execution_count": 33,
     "metadata": {},
     "output_type": "execute_result"
    }
   ],
   "execution_count": 33
  },
  {
   "metadata": {
    "ExecuteTime": {
     "end_time": "2024-07-28T21:15:01.975296Z",
     "start_time": "2024-07-28T21:15:01.959084Z"
    }
   },
   "cell_type": "code",
   "source": [
    "matched_preds = pd.merge(preds_zero_flash_df, gold_df[['docid', 'unique_id']], how='inner', on=['docid', 'unique_id'])\n",
    "gold_covarage = matched_preds.shape[0] / gold_df.shape[0] * 100\n",
    "print(f'the covarage of the model is {gold_covarage:.2f}%')"
   ],
   "id": "94b3e9096aec8a60",
   "outputs": [
    {
     "name": "stdout",
     "output_type": "stream",
     "text": [
      "the covarage of the model is 18.52%\n"
     ]
    }
   ],
   "execution_count": 62
  },
  {
   "metadata": {
    "ExecuteTime": {
     "end_time": "2024-07-28T21:15:02.380794Z",
     "start_time": "2024-07-28T21:15:02.372422Z"
    }
   },
   "cell_type": "code",
   "source": [
    "cycles_score = df_flash_results[['docid', 'n_cycles']].drop_duplicates()['n_cycles'].sum() / df_flash_results['docid'].nunique()\n",
    "print(f'there is a {cycles_score * 100}% chance for a cycle')"
   ],
   "id": "d0fca318894c4ff6",
   "outputs": [
    {
     "name": "stdout",
     "output_type": "stream",
     "text": [
      "there is a 0.0% chance for a cycle\n"
     ]
    }
   ],
   "execution_count": 63
  },
  {
   "metadata": {
    "ExecuteTime": {
     "end_time": "2024-07-28T21:15:02.965482Z",
     "start_time": "2024-07-28T21:15:02.935788Z"
    }
   },
   "cell_type": "code",
   "source": "df.to_excel(DATA_PATH / f'models-comp-results-{model_name}.xlsx')",
   "id": "ff60277d83c180e5",
   "outputs": [],
   "execution_count": 64
  },
  {
   "metadata": {},
   "cell_type": "markdown",
   "source": "### Completion",
   "id": "178eeaac90f56609"
  },
  {
   "metadata": {
    "ExecuteTime": {
     "end_time": "2024-07-28T21:15:07.647621Z",
     "start_time": "2024-07-28T21:15:07.577119Z"
    }
   },
   "cell_type": "code",
   "source": [
    "df_flash_completion_results = pd.read_csv(TRC_RESULTS_PATH / method / f'platinum-results-{model_name}-completion.csv')\n",
    "preds_zero_flash_completion_df = (df_flash_completion_results[['docid', 'unique_id', 'relation_selected']]\n",
    "            .copy()\n",
    "            .dropna()\n",
    "            .drop_duplicates()\n",
    "            .rename({'relation_selected': 'relation'}, axis='columns'))\n",
    "\n",
    "\n",
    "df = relation_table(gold_df, preds_zero_flash_completion_df, model_name)\n",
    "df"
   ],
   "id": "f730549442c664f4",
   "outputs": [
    {
     "data": {
      "text/plain": [
       "                      gemini-1.5-flash                                  \n",
       "                                BEFORE EQUAL VAGUE no_predictions    sum\n",
       "gold-labeled BEFORE              154.0   1.0   0.0          538.0  693.0\n",
       "             EQUAL                 8.0   0.0   0.0           23.0   31.0\n",
       "             VAGUE                28.0   0.0   0.0           85.0  113.0\n",
       "             no_label             13.0   0.0   0.0            0.0   13.0\n",
       "             sum                 203.0   1.0   0.0          646.0    NaN"
      ],
      "text/html": [
       "<div>\n",
       "<style scoped>\n",
       "    .dataframe tbody tr th:only-of-type {\n",
       "        vertical-align: middle;\n",
       "    }\n",
       "\n",
       "    .dataframe tbody tr th {\n",
       "        vertical-align: top;\n",
       "    }\n",
       "\n",
       "    .dataframe thead tr th {\n",
       "        text-align: left;\n",
       "    }\n",
       "</style>\n",
       "<table border=\"1\" class=\"dataframe\">\n",
       "  <thead>\n",
       "    <tr>\n",
       "      <th></th>\n",
       "      <th></th>\n",
       "      <th colspan=\"5\" halign=\"left\">gemini-1.5-flash</th>\n",
       "    </tr>\n",
       "    <tr>\n",
       "      <th></th>\n",
       "      <th></th>\n",
       "      <th>BEFORE</th>\n",
       "      <th>EQUAL</th>\n",
       "      <th>VAGUE</th>\n",
       "      <th>no_predictions</th>\n",
       "      <th>sum</th>\n",
       "    </tr>\n",
       "  </thead>\n",
       "  <tbody>\n",
       "    <tr>\n",
       "      <th rowspan=\"5\" valign=\"top\">gold-labeled</th>\n",
       "      <th>BEFORE</th>\n",
       "      <td>154.0</td>\n",
       "      <td>1.0</td>\n",
       "      <td>0.0</td>\n",
       "      <td>538.0</td>\n",
       "      <td>693.0</td>\n",
       "    </tr>\n",
       "    <tr>\n",
       "      <th>EQUAL</th>\n",
       "      <td>8.0</td>\n",
       "      <td>0.0</td>\n",
       "      <td>0.0</td>\n",
       "      <td>23.0</td>\n",
       "      <td>31.0</td>\n",
       "    </tr>\n",
       "    <tr>\n",
       "      <th>VAGUE</th>\n",
       "      <td>28.0</td>\n",
       "      <td>0.0</td>\n",
       "      <td>0.0</td>\n",
       "      <td>85.0</td>\n",
       "      <td>113.0</td>\n",
       "    </tr>\n",
       "    <tr>\n",
       "      <th>no_label</th>\n",
       "      <td>13.0</td>\n",
       "      <td>0.0</td>\n",
       "      <td>0.0</td>\n",
       "      <td>0.0</td>\n",
       "      <td>13.0</td>\n",
       "    </tr>\n",
       "    <tr>\n",
       "      <th>sum</th>\n",
       "      <td>203.0</td>\n",
       "      <td>1.0</td>\n",
       "      <td>0.0</td>\n",
       "      <td>646.0</td>\n",
       "      <td>NaN</td>\n",
       "    </tr>\n",
       "  </tbody>\n",
       "</table>\n",
       "</div>"
      ]
     },
     "execution_count": 65,
     "metadata": {},
     "output_type": "execute_result"
    }
   ],
   "execution_count": 65
  },
  {
   "metadata": {
    "ExecuteTime": {
     "end_time": "2024-07-28T21:15:10.268796Z",
     "start_time": "2024-07-28T21:15:10.261484Z"
    }
   },
   "cell_type": "code",
   "source": [
    "matched_preds = pd.merge(preds_zero_flash_df, gold_df[['docid', 'unique_id']], how='inner', on=['docid', 'unique_id'])\n",
    "gold_covarage = matched_preds.shape[0] / gold_df.shape[0] * 100\n",
    "print(f'the covarage of the model is {gold_covarage:.2f}%')"
   ],
   "id": "4d4f9009a5f7cadd",
   "outputs": [
    {
     "name": "stdout",
     "output_type": "stream",
     "text": [
      "the covarage of the model is 18.52%\n"
     ]
    }
   ],
   "execution_count": 66
  },
  {
   "metadata": {
    "ExecuteTime": {
     "end_time": "2024-07-28T21:15:36.618005Z",
     "start_time": "2024-07-28T21:15:36.611178Z"
    }
   },
   "cell_type": "code",
   "source": [
    "cycles_score = df_flash_results[['docid', 'n_cycles']].drop_duplicates()['n_cycles'].sum() / df_flash_results['docid'].nunique()\n",
    "print(f'there is a {cycles_score * 100}% chance for a cycle')"
   ],
   "id": "e533f1880d6e8650",
   "outputs": [
    {
     "name": "stdout",
     "output_type": "stream",
     "text": [
      "there is a 0.0% chance for a cycle\n"
     ]
    }
   ],
   "execution_count": 67
  },
  {
   "metadata": {
    "ExecuteTime": {
     "end_time": "2024-07-28T21:15:47.236287Z",
     "start_time": "2024-07-28T21:15:47.209984Z"
    }
   },
   "cell_type": "code",
   "source": "df.to_excel(DATA_PATH / f'models-comp-results-{model_name}-completion.xlsx')",
   "id": "527d458f56dbbf32",
   "outputs": [],
   "execution_count": 68
  },
  {
   "metadata": {},
   "cell_type": "markdown",
   "source": "## Few-Shot",
   "id": "397cec54b573b61b"
  },
  {
   "metadata": {
    "ExecuteTime": {
     "end_time": "2024-07-28T10:29:20.709798Z",
     "start_time": "2024-07-28T10:29:20.698793Z"
    }
   },
   "cell_type": "code",
   "source": "method = 'few-shot'",
   "id": "8e0d2087099abb8e",
   "outputs": [],
   "execution_count": 35
  },
  {
   "metadata": {
    "ExecuteTime": {
     "end_time": "2024-07-28T10:29:21.285901Z",
     "start_time": "2024-07-28T10:29:21.222436Z"
    }
   },
   "cell_type": "code",
   "source": [
    "df_results = pd.read_csv(TRC_RESULTS_PATH / method / f'platinum-results-{model_name}.csv')\n",
    "df_results"
   ],
   "id": "496c8c3a5c5b7059",
   "outputs": [
    {
     "data": {
      "text/plain": [
       "                               docid    verb1      verb2 eiid1 eiid2 relation  \\\n",
       "0                        AP_20130322   killed    started    e2    e3   BEFORE   \n",
       "1                        AP_20130322  started   sparking    e3    e4   BEFORE   \n",
       "2                        AP_20130322  started       turn    e3    e5   BEFORE   \n",
       "3                        AP_20130322  started      ended    e3    e6   BEFORE   \n",
       "4                        AP_20130322  started  according    e3    e7   BEFORE   \n",
       "...                              ...      ...        ...   ...   ...      ...   \n",
       "14204  nyt_20130322_strange_computer     tell      react   e28   e29   BEFORE   \n",
       "14205  nyt_20130322_strange_computer    react      burst   e29   e30   BEFORE   \n",
       "14206  nyt_20130322_strange_computer    react      pulse   e29   e31   BEFORE   \n",
       "14207  nyt_20130322_strange_computer    burst      pulse   e30   e31    VAGUE   \n",
       "14208  nyt_20130322_strange_computer    react  determine   e29   e33   BEFORE   \n",
       "\n",
       "      unique_id        model_name  n_iter  score relation_selected  max_score  \\\n",
       "0         e2-e3  gemini-1.5-flash     0.0      1            BEFORE        5.0   \n",
       "1         e3-e4  gemini-1.5-flash     0.0      1            BEFORE        5.0   \n",
       "2         e3-e5  gemini-1.5-flash     0.0      1            BEFORE        5.0   \n",
       "3         e3-e6  gemini-1.5-flash     0.0      1               NaN        NaN   \n",
       "4         e3-e7  gemini-1.5-flash     0.0      1               NaN        NaN   \n",
       "...         ...               ...     ...    ...               ...        ...   \n",
       "14204   e28-e29  gemini-1.5-flash     4.0      1            BEFORE        5.0   \n",
       "14205   e29-e30  gemini-1.5-flash     4.0      1            BEFORE        5.0   \n",
       "14206   e29-e31  gemini-1.5-flash     4.0      1            BEFORE        5.0   \n",
       "14207   e30-e31  gemini-1.5-flash     4.0      1               NaN        NaN   \n",
       "14208   e29-e33  gemini-1.5-flash     4.0      1            BEFORE        5.0   \n",
       "\n",
       "            ccr  scr  n_cycles  min_vote  \n",
       "0      0.121212  1.0       NaN         3  \n",
       "1      0.121212  1.0       NaN         3  \n",
       "2      0.121212  1.0       NaN         3  \n",
       "3      0.121212  1.0       NaN         3  \n",
       "4      0.121212  1.0       NaN         3  \n",
       "...         ...  ...       ...       ...  \n",
       "14204  0.000000  1.0       NaN         3  \n",
       "14205  0.000000  1.0       NaN         3  \n",
       "14206  0.000000  1.0       NaN         3  \n",
       "14207  0.000000  1.0       NaN         3  \n",
       "14208  0.000000  1.0       NaN         3  \n",
       "\n",
       "[14209 rows x 16 columns]"
      ],
      "text/html": [
       "<div>\n",
       "<style scoped>\n",
       "    .dataframe tbody tr th:only-of-type {\n",
       "        vertical-align: middle;\n",
       "    }\n",
       "\n",
       "    .dataframe tbody tr th {\n",
       "        vertical-align: top;\n",
       "    }\n",
       "\n",
       "    .dataframe thead th {\n",
       "        text-align: right;\n",
       "    }\n",
       "</style>\n",
       "<table border=\"1\" class=\"dataframe\">\n",
       "  <thead>\n",
       "    <tr style=\"text-align: right;\">\n",
       "      <th></th>\n",
       "      <th>docid</th>\n",
       "      <th>verb1</th>\n",
       "      <th>verb2</th>\n",
       "      <th>eiid1</th>\n",
       "      <th>eiid2</th>\n",
       "      <th>relation</th>\n",
       "      <th>unique_id</th>\n",
       "      <th>model_name</th>\n",
       "      <th>n_iter</th>\n",
       "      <th>score</th>\n",
       "      <th>relation_selected</th>\n",
       "      <th>max_score</th>\n",
       "      <th>ccr</th>\n",
       "      <th>scr</th>\n",
       "      <th>n_cycles</th>\n",
       "      <th>min_vote</th>\n",
       "    </tr>\n",
       "  </thead>\n",
       "  <tbody>\n",
       "    <tr>\n",
       "      <th>0</th>\n",
       "      <td>AP_20130322</td>\n",
       "      <td>killed</td>\n",
       "      <td>started</td>\n",
       "      <td>e2</td>\n",
       "      <td>e3</td>\n",
       "      <td>BEFORE</td>\n",
       "      <td>e2-e3</td>\n",
       "      <td>gemini-1.5-flash</td>\n",
       "      <td>0.0</td>\n",
       "      <td>1</td>\n",
       "      <td>BEFORE</td>\n",
       "      <td>5.0</td>\n",
       "      <td>0.121212</td>\n",
       "      <td>1.0</td>\n",
       "      <td>NaN</td>\n",
       "      <td>3</td>\n",
       "    </tr>\n",
       "    <tr>\n",
       "      <th>1</th>\n",
       "      <td>AP_20130322</td>\n",
       "      <td>started</td>\n",
       "      <td>sparking</td>\n",
       "      <td>e3</td>\n",
       "      <td>e4</td>\n",
       "      <td>BEFORE</td>\n",
       "      <td>e3-e4</td>\n",
       "      <td>gemini-1.5-flash</td>\n",
       "      <td>0.0</td>\n",
       "      <td>1</td>\n",
       "      <td>BEFORE</td>\n",
       "      <td>5.0</td>\n",
       "      <td>0.121212</td>\n",
       "      <td>1.0</td>\n",
       "      <td>NaN</td>\n",
       "      <td>3</td>\n",
       "    </tr>\n",
       "    <tr>\n",
       "      <th>2</th>\n",
       "      <td>AP_20130322</td>\n",
       "      <td>started</td>\n",
       "      <td>turn</td>\n",
       "      <td>e3</td>\n",
       "      <td>e5</td>\n",
       "      <td>BEFORE</td>\n",
       "      <td>e3-e5</td>\n",
       "      <td>gemini-1.5-flash</td>\n",
       "      <td>0.0</td>\n",
       "      <td>1</td>\n",
       "      <td>BEFORE</td>\n",
       "      <td>5.0</td>\n",
       "      <td>0.121212</td>\n",
       "      <td>1.0</td>\n",
       "      <td>NaN</td>\n",
       "      <td>3</td>\n",
       "    </tr>\n",
       "    <tr>\n",
       "      <th>3</th>\n",
       "      <td>AP_20130322</td>\n",
       "      <td>started</td>\n",
       "      <td>ended</td>\n",
       "      <td>e3</td>\n",
       "      <td>e6</td>\n",
       "      <td>BEFORE</td>\n",
       "      <td>e3-e6</td>\n",
       "      <td>gemini-1.5-flash</td>\n",
       "      <td>0.0</td>\n",
       "      <td>1</td>\n",
       "      <td>NaN</td>\n",
       "      <td>NaN</td>\n",
       "      <td>0.121212</td>\n",
       "      <td>1.0</td>\n",
       "      <td>NaN</td>\n",
       "      <td>3</td>\n",
       "    </tr>\n",
       "    <tr>\n",
       "      <th>4</th>\n",
       "      <td>AP_20130322</td>\n",
       "      <td>started</td>\n",
       "      <td>according</td>\n",
       "      <td>e3</td>\n",
       "      <td>e7</td>\n",
       "      <td>BEFORE</td>\n",
       "      <td>e3-e7</td>\n",
       "      <td>gemini-1.5-flash</td>\n",
       "      <td>0.0</td>\n",
       "      <td>1</td>\n",
       "      <td>NaN</td>\n",
       "      <td>NaN</td>\n",
       "      <td>0.121212</td>\n",
       "      <td>1.0</td>\n",
       "      <td>NaN</td>\n",
       "      <td>3</td>\n",
       "    </tr>\n",
       "    <tr>\n",
       "      <th>...</th>\n",
       "      <td>...</td>\n",
       "      <td>...</td>\n",
       "      <td>...</td>\n",
       "      <td>...</td>\n",
       "      <td>...</td>\n",
       "      <td>...</td>\n",
       "      <td>...</td>\n",
       "      <td>...</td>\n",
       "      <td>...</td>\n",
       "      <td>...</td>\n",
       "      <td>...</td>\n",
       "      <td>...</td>\n",
       "      <td>...</td>\n",
       "      <td>...</td>\n",
       "      <td>...</td>\n",
       "      <td>...</td>\n",
       "    </tr>\n",
       "    <tr>\n",
       "      <th>14204</th>\n",
       "      <td>nyt_20130322_strange_computer</td>\n",
       "      <td>tell</td>\n",
       "      <td>react</td>\n",
       "      <td>e28</td>\n",
       "      <td>e29</td>\n",
       "      <td>BEFORE</td>\n",
       "      <td>e28-e29</td>\n",
       "      <td>gemini-1.5-flash</td>\n",
       "      <td>4.0</td>\n",
       "      <td>1</td>\n",
       "      <td>BEFORE</td>\n",
       "      <td>5.0</td>\n",
       "      <td>0.000000</td>\n",
       "      <td>1.0</td>\n",
       "      <td>NaN</td>\n",
       "      <td>3</td>\n",
       "    </tr>\n",
       "    <tr>\n",
       "      <th>14205</th>\n",
       "      <td>nyt_20130322_strange_computer</td>\n",
       "      <td>react</td>\n",
       "      <td>burst</td>\n",
       "      <td>e29</td>\n",
       "      <td>e30</td>\n",
       "      <td>BEFORE</td>\n",
       "      <td>e29-e30</td>\n",
       "      <td>gemini-1.5-flash</td>\n",
       "      <td>4.0</td>\n",
       "      <td>1</td>\n",
       "      <td>BEFORE</td>\n",
       "      <td>5.0</td>\n",
       "      <td>0.000000</td>\n",
       "      <td>1.0</td>\n",
       "      <td>NaN</td>\n",
       "      <td>3</td>\n",
       "    </tr>\n",
       "    <tr>\n",
       "      <th>14206</th>\n",
       "      <td>nyt_20130322_strange_computer</td>\n",
       "      <td>react</td>\n",
       "      <td>pulse</td>\n",
       "      <td>e29</td>\n",
       "      <td>e31</td>\n",
       "      <td>BEFORE</td>\n",
       "      <td>e29-e31</td>\n",
       "      <td>gemini-1.5-flash</td>\n",
       "      <td>4.0</td>\n",
       "      <td>1</td>\n",
       "      <td>BEFORE</td>\n",
       "      <td>5.0</td>\n",
       "      <td>0.000000</td>\n",
       "      <td>1.0</td>\n",
       "      <td>NaN</td>\n",
       "      <td>3</td>\n",
       "    </tr>\n",
       "    <tr>\n",
       "      <th>14207</th>\n",
       "      <td>nyt_20130322_strange_computer</td>\n",
       "      <td>burst</td>\n",
       "      <td>pulse</td>\n",
       "      <td>e30</td>\n",
       "      <td>e31</td>\n",
       "      <td>VAGUE</td>\n",
       "      <td>e30-e31</td>\n",
       "      <td>gemini-1.5-flash</td>\n",
       "      <td>4.0</td>\n",
       "      <td>1</td>\n",
       "      <td>NaN</td>\n",
       "      <td>NaN</td>\n",
       "      <td>0.000000</td>\n",
       "      <td>1.0</td>\n",
       "      <td>NaN</td>\n",
       "      <td>3</td>\n",
       "    </tr>\n",
       "    <tr>\n",
       "      <th>14208</th>\n",
       "      <td>nyt_20130322_strange_computer</td>\n",
       "      <td>react</td>\n",
       "      <td>determine</td>\n",
       "      <td>e29</td>\n",
       "      <td>e33</td>\n",
       "      <td>BEFORE</td>\n",
       "      <td>e29-e33</td>\n",
       "      <td>gemini-1.5-flash</td>\n",
       "      <td>4.0</td>\n",
       "      <td>1</td>\n",
       "      <td>BEFORE</td>\n",
       "      <td>5.0</td>\n",
       "      <td>0.000000</td>\n",
       "      <td>1.0</td>\n",
       "      <td>NaN</td>\n",
       "      <td>3</td>\n",
       "    </tr>\n",
       "  </tbody>\n",
       "</table>\n",
       "<p>14209 rows × 16 columns</p>\n",
       "</div>"
      ]
     },
     "execution_count": 36,
     "metadata": {},
     "output_type": "execute_result"
    }
   ],
   "execution_count": 36
  },
  {
   "metadata": {
    "ExecuteTime": {
     "end_time": "2024-07-28T10:29:23.054303Z",
     "start_time": "2024-07-28T10:29:23.038780Z"
    }
   },
   "cell_type": "code",
   "source": [
    "preds_df = (df_results[['docid', 'unique_id', 'relation_selected']]\n",
    "            .copy()\n",
    "            .dropna()\n",
    "            .drop_duplicates()\n",
    "            .rename({'relation_selected': 'relation'}, axis='columns'))\n",
    "preds_df"
   ],
   "id": "7f45842703344a8c",
   "outputs": [
    {
     "data": {
      "text/plain": [
       "                               docid unique_id relation\n",
       "0                        AP_20130322     e2-e3   BEFORE\n",
       "1                        AP_20130322     e3-e4   BEFORE\n",
       "2                        AP_20130322     e3-e5   BEFORE\n",
       "5                        AP_20130322     e4-e5   BEFORE\n",
       "8                        AP_20130322     e5-e6   BEFORE\n",
       "...                              ...       ...      ...\n",
       "14021  nyt_20130322_strange_computer   e25-e27   BEFORE\n",
       "14022  nyt_20130322_strange_computer   e28-e29   BEFORE\n",
       "14023  nyt_20130322_strange_computer   e29-e30   BEFORE\n",
       "14024  nyt_20130322_strange_computer   e29-e31   BEFORE\n",
       "14025  nyt_20130322_strange_computer   e29-e33   BEFORE\n",
       "\n",
       "[1265 rows x 3 columns]"
      ],
      "text/html": [
       "<div>\n",
       "<style scoped>\n",
       "    .dataframe tbody tr th:only-of-type {\n",
       "        vertical-align: middle;\n",
       "    }\n",
       "\n",
       "    .dataframe tbody tr th {\n",
       "        vertical-align: top;\n",
       "    }\n",
       "\n",
       "    .dataframe thead th {\n",
       "        text-align: right;\n",
       "    }\n",
       "</style>\n",
       "<table border=\"1\" class=\"dataframe\">\n",
       "  <thead>\n",
       "    <tr style=\"text-align: right;\">\n",
       "      <th></th>\n",
       "      <th>docid</th>\n",
       "      <th>unique_id</th>\n",
       "      <th>relation</th>\n",
       "    </tr>\n",
       "  </thead>\n",
       "  <tbody>\n",
       "    <tr>\n",
       "      <th>0</th>\n",
       "      <td>AP_20130322</td>\n",
       "      <td>e2-e3</td>\n",
       "      <td>BEFORE</td>\n",
       "    </tr>\n",
       "    <tr>\n",
       "      <th>1</th>\n",
       "      <td>AP_20130322</td>\n",
       "      <td>e3-e4</td>\n",
       "      <td>BEFORE</td>\n",
       "    </tr>\n",
       "    <tr>\n",
       "      <th>2</th>\n",
       "      <td>AP_20130322</td>\n",
       "      <td>e3-e5</td>\n",
       "      <td>BEFORE</td>\n",
       "    </tr>\n",
       "    <tr>\n",
       "      <th>5</th>\n",
       "      <td>AP_20130322</td>\n",
       "      <td>e4-e5</td>\n",
       "      <td>BEFORE</td>\n",
       "    </tr>\n",
       "    <tr>\n",
       "      <th>8</th>\n",
       "      <td>AP_20130322</td>\n",
       "      <td>e5-e6</td>\n",
       "      <td>BEFORE</td>\n",
       "    </tr>\n",
       "    <tr>\n",
       "      <th>...</th>\n",
       "      <td>...</td>\n",
       "      <td>...</td>\n",
       "      <td>...</td>\n",
       "    </tr>\n",
       "    <tr>\n",
       "      <th>14021</th>\n",
       "      <td>nyt_20130322_strange_computer</td>\n",
       "      <td>e25-e27</td>\n",
       "      <td>BEFORE</td>\n",
       "    </tr>\n",
       "    <tr>\n",
       "      <th>14022</th>\n",
       "      <td>nyt_20130322_strange_computer</td>\n",
       "      <td>e28-e29</td>\n",
       "      <td>BEFORE</td>\n",
       "    </tr>\n",
       "    <tr>\n",
       "      <th>14023</th>\n",
       "      <td>nyt_20130322_strange_computer</td>\n",
       "      <td>e29-e30</td>\n",
       "      <td>BEFORE</td>\n",
       "    </tr>\n",
       "    <tr>\n",
       "      <th>14024</th>\n",
       "      <td>nyt_20130322_strange_computer</td>\n",
       "      <td>e29-e31</td>\n",
       "      <td>BEFORE</td>\n",
       "    </tr>\n",
       "    <tr>\n",
       "      <th>14025</th>\n",
       "      <td>nyt_20130322_strange_computer</td>\n",
       "      <td>e29-e33</td>\n",
       "      <td>BEFORE</td>\n",
       "    </tr>\n",
       "  </tbody>\n",
       "</table>\n",
       "<p>1265 rows × 3 columns</p>\n",
       "</div>"
      ]
     },
     "execution_count": 37,
     "metadata": {},
     "output_type": "execute_result"
    }
   ],
   "execution_count": 37
  },
  {
   "metadata": {
    "ExecuteTime": {
     "end_time": "2024-07-28T10:29:23.998553Z",
     "start_time": "2024-07-28T10:29:23.991059Z"
    }
   },
   "cell_type": "code",
   "source": [
    "matched_preds = pd.merge(preds_df, gold_df[['docid', 'unique_id']], how='inner', on=['docid', 'unique_id'])\n",
    "gold_covarage = matched_preds.shape[0] / gold_df.shape[0] * 100\n",
    "print(f'the covarage of the model is {gold_covarage:.2f}%')"
   ],
   "id": "ca7879d5ba4b46eb",
   "outputs": [
    {
     "name": "stdout",
     "output_type": "stream",
     "text": [
      "the covarage of the model is 21.98%\n"
     ]
    }
   ],
   "execution_count": 38
  },
  {
   "metadata": {
    "ExecuteTime": {
     "end_time": "2024-07-28T10:29:25.477825Z",
     "start_time": "2024-07-28T10:29:25.467817Z"
    }
   },
   "cell_type": "code",
   "source": [
    "cycles_score = df_results[['docid', 'n_cycles']].drop_duplicates()['n_cycles'].sum() / df_results['docid'].nunique()\n",
    "print(f'there is a {cycles_score * 100}% chance for a cycle')"
   ],
   "id": "5d4998746b8655f",
   "outputs": [
    {
     "name": "stdout",
     "output_type": "stream",
     "text": [
      "there is a 0.0% chance for a cycle\n"
     ]
    }
   ],
   "execution_count": 39
  },
  {
   "metadata": {
    "ExecuteTime": {
     "end_time": "2024-07-28T10:29:45.925615Z",
     "start_time": "2024-07-28T10:29:45.848812Z"
    }
   },
   "cell_type": "code",
   "source": [
    "df = relation_table(gold_df, preds_df, model_name)\n",
    "df"
   ],
   "id": "57cf2727cfbcaac0",
   "outputs": [
    {
     "data": {
      "text/plain": [
       "                      gemini-1.5-flash                                   \n",
       "                                BEFORE EQUAL VAGUE no_predictions     sum\n",
       "gold-labeled BEFORE              158.0   0.0   0.0          535.0   693.0\n",
       "             EQUAL                 7.0   0.0   0.0           24.0    31.0\n",
       "             VAGUE                19.0   0.0   0.0           94.0   113.0\n",
       "             no_label           1081.0   0.0   0.0            0.0  1081.0\n",
       "             sum                1265.0   0.0   0.0          653.0     NaN"
      ],
      "text/html": [
       "<div>\n",
       "<style scoped>\n",
       "    .dataframe tbody tr th:only-of-type {\n",
       "        vertical-align: middle;\n",
       "    }\n",
       "\n",
       "    .dataframe tbody tr th {\n",
       "        vertical-align: top;\n",
       "    }\n",
       "\n",
       "    .dataframe thead tr th {\n",
       "        text-align: left;\n",
       "    }\n",
       "</style>\n",
       "<table border=\"1\" class=\"dataframe\">\n",
       "  <thead>\n",
       "    <tr>\n",
       "      <th></th>\n",
       "      <th></th>\n",
       "      <th colspan=\"5\" halign=\"left\">gemini-1.5-flash</th>\n",
       "    </tr>\n",
       "    <tr>\n",
       "      <th></th>\n",
       "      <th></th>\n",
       "      <th>BEFORE</th>\n",
       "      <th>EQUAL</th>\n",
       "      <th>VAGUE</th>\n",
       "      <th>no_predictions</th>\n",
       "      <th>sum</th>\n",
       "    </tr>\n",
       "  </thead>\n",
       "  <tbody>\n",
       "    <tr>\n",
       "      <th rowspan=\"5\" valign=\"top\">gold-labeled</th>\n",
       "      <th>BEFORE</th>\n",
       "      <td>158.0</td>\n",
       "      <td>0.0</td>\n",
       "      <td>0.0</td>\n",
       "      <td>535.0</td>\n",
       "      <td>693.0</td>\n",
       "    </tr>\n",
       "    <tr>\n",
       "      <th>EQUAL</th>\n",
       "      <td>7.0</td>\n",
       "      <td>0.0</td>\n",
       "      <td>0.0</td>\n",
       "      <td>24.0</td>\n",
       "      <td>31.0</td>\n",
       "    </tr>\n",
       "    <tr>\n",
       "      <th>VAGUE</th>\n",
       "      <td>19.0</td>\n",
       "      <td>0.0</td>\n",
       "      <td>0.0</td>\n",
       "      <td>94.0</td>\n",
       "      <td>113.0</td>\n",
       "    </tr>\n",
       "    <tr>\n",
       "      <th>no_label</th>\n",
       "      <td>1081.0</td>\n",
       "      <td>0.0</td>\n",
       "      <td>0.0</td>\n",
       "      <td>0.0</td>\n",
       "      <td>1081.0</td>\n",
       "    </tr>\n",
       "    <tr>\n",
       "      <th>sum</th>\n",
       "      <td>1265.0</td>\n",
       "      <td>0.0</td>\n",
       "      <td>0.0</td>\n",
       "      <td>653.0</td>\n",
       "      <td>NaN</td>\n",
       "    </tr>\n",
       "  </tbody>\n",
       "</table>\n",
       "</div>"
      ]
     },
     "execution_count": 41,
     "metadata": {},
     "output_type": "execute_result"
    }
   ],
   "execution_count": 41
  },
  {
   "metadata": {
    "ExecuteTime": {
     "end_time": "2024-07-28T10:29:54.230191Z",
     "start_time": "2024-07-28T10:29:54.208129Z"
    }
   },
   "cell_type": "code",
   "source": "df.to_excel(DATA_PATH / f'models-comp-results-{model_name}.xlsx')",
   "id": "d62799df7a9d7e61",
   "outputs": [],
   "execution_count": 42
  },
  {
   "metadata": {},
   "cell_type": "markdown",
   "source": "# Llama-3.1-70b-versatile",
   "id": "93be51d36408288e"
  },
  {
   "metadata": {
    "ExecuteTime": {
     "end_time": "2024-08-06T16:33:22.346646Z",
     "start_time": "2024-08-06T16:33:22.343848Z"
    }
   },
   "cell_type": "code",
   "source": "model_name = 'llama-3.1-70b-versatile'",
   "id": "7eb492901fb4a7d9",
   "outputs": [],
   "execution_count": 5
  },
  {
   "metadata": {},
   "cell_type": "markdown",
   "source": "## Zero-Shot",
   "id": "c4589c6c8147edbb"
  },
  {
   "metadata": {
    "ExecuteTime": {
     "end_time": "2024-08-06T16:33:24.868065Z",
     "start_time": "2024-08-06T16:33:24.865119Z"
    }
   },
   "cell_type": "code",
   "source": "method = 'zero-shot'",
   "id": "a2ed928b6da1c908",
   "outputs": [],
   "execution_count": 6
  },
  {
   "metadata": {
    "ExecuteTime": {
     "end_time": "2024-08-06T16:36:16.436933Z",
     "start_time": "2024-08-06T16:36:16.355065Z"
    }
   },
   "cell_type": "code",
   "source": [
    "df_flash_results = pd.read_csv(TRC_RESULTS_PATH / method / f'platinum-results-{model_name}-{method}.csv')\n",
    "preds_zero_flash_df = (df_flash_results[['docid', 'unique_id', 'relation_selected', 'p_label']]\n",
    "            .copy()\n",
    "            .dropna()\n",
    "            .drop_duplicates(['docid', 'unique_id', 'relation_selected'])\n",
    "            .rename({'relation_selected': 'relation'}, axis='columns'))\n",
    "\n",
    "\n",
    "df = relation_table(gold_df, preds_zero_flash_df, model_name, target_col='label')\n",
    "df"
   ],
   "id": "f0109802f3d7ca1",
   "outputs": [
    {
     "data": {
      "text/plain": [
       "                      llama-3.1-70b-versatile                     \\\n",
       "                                       BEFORE AFTER EQUAL  VAGUE   \n",
       "gold-labeled BEFORE                      33.0   0.0   1.0   13.0   \n",
       "             AFTER                       40.0   0.0   0.0   24.0   \n",
       "             EQUAL                        3.0   0.0   0.0    1.0   \n",
       "             VAGUE                        8.0   0.0   0.0    6.0   \n",
       "             no_label                   123.0   4.0   1.0  206.0   \n",
       "             sum                        207.0   4.0   2.0  250.0   \n",
       "\n",
       "                                             \n",
       "                      no_predictions    sum  \n",
       "gold-labeled BEFORE            377.0  424.0  \n",
       "             AFTER             205.0  269.0  \n",
       "             EQUAL              27.0   31.0  \n",
       "             VAGUE              99.0  113.0  \n",
       "             no_label            0.0  334.0  \n",
       "             sum               708.0    NaN  "
      ],
      "text/html": [
       "<div>\n",
       "<style scoped>\n",
       "    .dataframe tbody tr th:only-of-type {\n",
       "        vertical-align: middle;\n",
       "    }\n",
       "\n",
       "    .dataframe tbody tr th {\n",
       "        vertical-align: top;\n",
       "    }\n",
       "\n",
       "    .dataframe thead tr th {\n",
       "        text-align: left;\n",
       "    }\n",
       "</style>\n",
       "<table border=\"1\" class=\"dataframe\">\n",
       "  <thead>\n",
       "    <tr>\n",
       "      <th></th>\n",
       "      <th></th>\n",
       "      <th colspan=\"6\" halign=\"left\">llama-3.1-70b-versatile</th>\n",
       "    </tr>\n",
       "    <tr>\n",
       "      <th></th>\n",
       "      <th></th>\n",
       "      <th>BEFORE</th>\n",
       "      <th>AFTER</th>\n",
       "      <th>EQUAL</th>\n",
       "      <th>VAGUE</th>\n",
       "      <th>no_predictions</th>\n",
       "      <th>sum</th>\n",
       "    </tr>\n",
       "  </thead>\n",
       "  <tbody>\n",
       "    <tr>\n",
       "      <th rowspan=\"6\" valign=\"top\">gold-labeled</th>\n",
       "      <th>BEFORE</th>\n",
       "      <td>33.0</td>\n",
       "      <td>0.0</td>\n",
       "      <td>1.0</td>\n",
       "      <td>13.0</td>\n",
       "      <td>377.0</td>\n",
       "      <td>424.0</td>\n",
       "    </tr>\n",
       "    <tr>\n",
       "      <th>AFTER</th>\n",
       "      <td>40.0</td>\n",
       "      <td>0.0</td>\n",
       "      <td>0.0</td>\n",
       "      <td>24.0</td>\n",
       "      <td>205.0</td>\n",
       "      <td>269.0</td>\n",
       "    </tr>\n",
       "    <tr>\n",
       "      <th>EQUAL</th>\n",
       "      <td>3.0</td>\n",
       "      <td>0.0</td>\n",
       "      <td>0.0</td>\n",
       "      <td>1.0</td>\n",
       "      <td>27.0</td>\n",
       "      <td>31.0</td>\n",
       "    </tr>\n",
       "    <tr>\n",
       "      <th>VAGUE</th>\n",
       "      <td>8.0</td>\n",
       "      <td>0.0</td>\n",
       "      <td>0.0</td>\n",
       "      <td>6.0</td>\n",
       "      <td>99.0</td>\n",
       "      <td>113.0</td>\n",
       "    </tr>\n",
       "    <tr>\n",
       "      <th>no_label</th>\n",
       "      <td>123.0</td>\n",
       "      <td>4.0</td>\n",
       "      <td>1.0</td>\n",
       "      <td>206.0</td>\n",
       "      <td>0.0</td>\n",
       "      <td>334.0</td>\n",
       "    </tr>\n",
       "    <tr>\n",
       "      <th>sum</th>\n",
       "      <td>207.0</td>\n",
       "      <td>4.0</td>\n",
       "      <td>2.0</td>\n",
       "      <td>250.0</td>\n",
       "      <td>708.0</td>\n",
       "      <td>NaN</td>\n",
       "    </tr>\n",
       "  </tbody>\n",
       "</table>\n",
       "</div>"
      ]
     },
     "execution_count": 10,
     "metadata": {},
     "output_type": "execute_result"
    }
   ],
   "execution_count": 10
  },
  {
   "metadata": {
    "ExecuteTime": {
     "end_time": "2024-08-06T16:36:33.394497Z",
     "start_time": "2024-08-06T16:36:33.388150Z"
    }
   },
   "cell_type": "code",
   "source": [
    "matched_preds = pd.merge(preds_zero_flash_df, gold_df[['docid', 'unique_id']], how='inner', on=['docid', 'unique_id'])\n",
    "gold_covarage = matched_preds.shape[0] / gold_df.shape[0] * 100\n",
    "print(f'the covarage of the model is {gold_covarage:.2f}%')"
   ],
   "id": "6a900bae7ddef82",
   "outputs": [
    {
     "name": "stdout",
     "output_type": "stream",
     "text": [
      "the covarage of the model is 15.41%\n"
     ]
    }
   ],
   "execution_count": 11
  },
  {
   "metadata": {
    "ExecuteTime": {
     "end_time": "2024-08-06T16:36:35.450726Z",
     "start_time": "2024-08-06T16:36:35.444328Z"
    }
   },
   "cell_type": "code",
   "source": [
    "cycles_score = df_flash_results[['docid', 'n_cycles']].drop_duplicates()['n_cycles'].sum() / df_flash_results['docid'].nunique()\n",
    "print(f'there is a {cycles_score * 100}% chance for a cycle')"
   ],
   "id": "9618d81a930dc65e",
   "outputs": [
    {
     "name": "stdout",
     "output_type": "stream",
     "text": [
      "there is a 0.0% chance for a cycle\n"
     ]
    }
   ],
   "execution_count": 12
  },
  {
   "metadata": {
    "ExecuteTime": {
     "end_time": "2024-08-06T16:36:42.020350Z",
     "start_time": "2024-08-06T16:36:41.827822Z"
    }
   },
   "cell_type": "code",
   "source": "df.to_excel(DATA_PATH / f'models-comp-results-{model_name}-{method}.xlsx')",
   "id": "7c22812c5356c7a4",
   "outputs": [],
   "execution_count": 13
  },
  {
   "metadata": {},
   "cell_type": "markdown",
   "source": "# Meta-Llama-3.1-8B-Instruct-Turbo",
   "id": "2db47364be882ec3"
  },
  {
   "metadata": {
    "ExecuteTime": {
     "end_time": "2024-08-20T07:04:41.684126Z",
     "start_time": "2024-08-20T07:04:41.681428Z"
    }
   },
   "cell_type": "code",
   "source": "model_name = 'Meta-Llama-3.1-8B-Instruct-Turbo'",
   "id": "5e1801acd1aeea06",
   "outputs": [],
   "execution_count": 6
  },
  {
   "metadata": {},
   "cell_type": "markdown",
   "source": "## Zero-Shot",
   "id": "848c5a71ae10d6d0"
  },
  {
   "metadata": {
    "ExecuteTime": {
     "end_time": "2024-08-20T07:04:42.819341Z",
     "start_time": "2024-08-20T07:04:42.816660Z"
    }
   },
   "cell_type": "code",
   "source": "method = 'zero-shot'",
   "id": "55a4865a510d187",
   "outputs": [],
   "execution_count": 7
  },
  {
   "metadata": {
    "ExecuteTime": {
     "end_time": "2024-08-20T07:04:43.570694Z",
     "start_time": "2024-08-20T07:04:43.433356Z"
    }
   },
   "cell_type": "code",
   "source": [
    "summary_results(TRC_RESULTS_PATH / method / f'platinum-results-{model_name}-{method}.csv', \n",
    "                gold_df, \n",
    "                model_name=f'platinum-results-{model_name}-{method}.csv')"
   ],
   "id": "3a48fb3af42a26af",
   "outputs": [
    {
     "name": "stderr",
     "output_type": "stream",
     "text": [
      "/Users/adiel/git/full-temporal-relation/full_temporal_relation/metrics.py:99: RuntimeWarning: invalid value encountered in divide\n",
      "  return pd.DataFrame(columns=[col[1] for col in df.columns][:4], data=[labels_values / sum_per_label])\n"
     ]
    },
    {
     "data": {
      "text/plain": [
       "relation     VAGUE                        BEFORE                      \\\n",
       "metric   precision    recall        f1 precision    recall        f1   \n",
       "0         0.077156  0.120283  0.094009  0.222222  0.007435  0.014388   \n",
       "\n",
       "relation     AFTER                EQUAL                     micro-f1  \\\n",
       "metric   precision recall  f1 precision    recall        f1            \n",
       "0              NaN    0.0 NaN  0.006923  0.079646  0.012739      NaN   \n",
       "\n",
       "relation relax-micro-f1    cycles  coverage  \n",
       "metric                                       \n",
       "0                   NaN  1.0 / 20  0.210275  "
      ],
      "text/html": [
       "<div>\n",
       "<style scoped>\n",
       "    .dataframe tbody tr th:only-of-type {\n",
       "        vertical-align: middle;\n",
       "    }\n",
       "\n",
       "    .dataframe tbody tr th {\n",
       "        vertical-align: top;\n",
       "    }\n",
       "\n",
       "    .dataframe thead tr th {\n",
       "        text-align: left;\n",
       "    }\n",
       "</style>\n",
       "<table border=\"1\" class=\"dataframe\">\n",
       "  <thead>\n",
       "    <tr>\n",
       "      <th>relation</th>\n",
       "      <th colspan=\"3\" halign=\"left\">VAGUE</th>\n",
       "      <th colspan=\"3\" halign=\"left\">BEFORE</th>\n",
       "      <th colspan=\"3\" halign=\"left\">AFTER</th>\n",
       "      <th colspan=\"3\" halign=\"left\">EQUAL</th>\n",
       "      <th>micro-f1</th>\n",
       "      <th>relax-micro-f1</th>\n",
       "      <th>cycles</th>\n",
       "      <th>coverage</th>\n",
       "    </tr>\n",
       "    <tr>\n",
       "      <th>metric</th>\n",
       "      <th>precision</th>\n",
       "      <th>recall</th>\n",
       "      <th>f1</th>\n",
       "      <th>precision</th>\n",
       "      <th>recall</th>\n",
       "      <th>f1</th>\n",
       "      <th>precision</th>\n",
       "      <th>recall</th>\n",
       "      <th>f1</th>\n",
       "      <th>precision</th>\n",
       "      <th>recall</th>\n",
       "      <th>f1</th>\n",
       "      <th></th>\n",
       "      <th></th>\n",
       "      <th></th>\n",
       "      <th></th>\n",
       "    </tr>\n",
       "  </thead>\n",
       "  <tbody>\n",
       "    <tr>\n",
       "      <th>0</th>\n",
       "      <td>0.077156</td>\n",
       "      <td>0.120283</td>\n",
       "      <td>0.094009</td>\n",
       "      <td>0.222222</td>\n",
       "      <td>0.007435</td>\n",
       "      <td>0.014388</td>\n",
       "      <td>NaN</td>\n",
       "      <td>0.0</td>\n",
       "      <td>NaN</td>\n",
       "      <td>0.006923</td>\n",
       "      <td>0.079646</td>\n",
       "      <td>0.012739</td>\n",
       "      <td>NaN</td>\n",
       "      <td>NaN</td>\n",
       "      <td>1.0 / 20</td>\n",
       "      <td>0.210275</td>\n",
       "    </tr>\n",
       "  </tbody>\n",
       "</table>\n",
       "</div>"
      ]
     },
     "execution_count": 8,
     "metadata": {},
     "output_type": "execute_result"
    }
   ],
   "execution_count": 8
  },
  {
   "metadata": {
    "ExecuteTime": {
     "end_time": "2024-08-20T07:04:33.512039Z",
     "start_time": "2024-08-20T07:04:33.510108Z"
    }
   },
   "cell_type": "code",
   "source": "",
   "id": "dd754680a307b63",
   "outputs": [],
   "execution_count": null
  },
  {
   "metadata": {},
   "cell_type": "markdown",
   "source": "### Completion",
   "id": "f198e6fc61050f1d"
  },
  {
   "metadata": {
    "ExecuteTime": {
     "end_time": "2024-08-20T07:04:50.843433Z",
     "start_time": "2024-08-20T07:04:50.786539Z"
    }
   },
   "cell_type": "code",
   "source": [
    "df_flash_results = pd.read_csv(TRC_RESULTS_PATH / method / f'platinum-results-{model_name}-{method}-completion.csv')\n",
    "preds_zero_flash_df = (df_flash_results[['docid', 'unique_id', 'relation_selected', 'p_label']]\n",
    "            .copy()\n",
    "            .dropna()\n",
    "            .drop_duplicates(['docid', 'unique_id', 'relation_selected'])\n",
    "            .rename({'relation_selected': 'relation'}, axis='columns'))\n",
    "\n",
    "\n",
    "df = relation_table(gold_df, preds_zero_flash_df, model_name, target_col='label')\n",
    "df"
   ],
   "id": "175f79a998ea4022",
   "outputs": [
    {
     "data": {
      "text/plain": [
       "                      Meta-Llama-3.1-8B-Instruct-Turbo                     \\\n",
       "                                                BEFORE AFTER EQUAL  VAGUE   \n",
       "gold-labeled BEFORE                               88.0  43.0  13.0  129.0   \n",
       "             AFTER                                56.0  18.0  10.0   65.0   \n",
       "             EQUAL                                 7.0   6.0   0.0   10.0   \n",
       "             VAGUE                                17.0  17.0   1.0   39.0   \n",
       "             no_label                              0.0   0.0   0.0    0.0   \n",
       "             sum                                 168.0  84.0  24.0  243.0   \n",
       "\n",
       "                                             \n",
       "                      no_predictions    sum  \n",
       "gold-labeled BEFORE            151.0  424.0  \n",
       "             AFTER             120.0  269.0  \n",
       "             EQUAL               8.0   31.0  \n",
       "             VAGUE              39.0  113.0  \n",
       "             no_label            0.0    0.0  \n",
       "             sum               318.0    NaN  "
      ],
      "text/html": [
       "<div>\n",
       "<style scoped>\n",
       "    .dataframe tbody tr th:only-of-type {\n",
       "        vertical-align: middle;\n",
       "    }\n",
       "\n",
       "    .dataframe tbody tr th {\n",
       "        vertical-align: top;\n",
       "    }\n",
       "\n",
       "    .dataframe thead tr th {\n",
       "        text-align: left;\n",
       "    }\n",
       "</style>\n",
       "<table border=\"1\" class=\"dataframe\">\n",
       "  <thead>\n",
       "    <tr>\n",
       "      <th></th>\n",
       "      <th></th>\n",
       "      <th colspan=\"6\" halign=\"left\">Meta-Llama-3.1-8B-Instruct-Turbo</th>\n",
       "    </tr>\n",
       "    <tr>\n",
       "      <th></th>\n",
       "      <th></th>\n",
       "      <th>BEFORE</th>\n",
       "      <th>AFTER</th>\n",
       "      <th>EQUAL</th>\n",
       "      <th>VAGUE</th>\n",
       "      <th>no_predictions</th>\n",
       "      <th>sum</th>\n",
       "    </tr>\n",
       "  </thead>\n",
       "  <tbody>\n",
       "    <tr>\n",
       "      <th rowspan=\"6\" valign=\"top\">gold-labeled</th>\n",
       "      <th>BEFORE</th>\n",
       "      <td>88.0</td>\n",
       "      <td>43.0</td>\n",
       "      <td>13.0</td>\n",
       "      <td>129.0</td>\n",
       "      <td>151.0</td>\n",
       "      <td>424.0</td>\n",
       "    </tr>\n",
       "    <tr>\n",
       "      <th>AFTER</th>\n",
       "      <td>56.0</td>\n",
       "      <td>18.0</td>\n",
       "      <td>10.0</td>\n",
       "      <td>65.0</td>\n",
       "      <td>120.0</td>\n",
       "      <td>269.0</td>\n",
       "    </tr>\n",
       "    <tr>\n",
       "      <th>EQUAL</th>\n",
       "      <td>7.0</td>\n",
       "      <td>6.0</td>\n",
       "      <td>0.0</td>\n",
       "      <td>10.0</td>\n",
       "      <td>8.0</td>\n",
       "      <td>31.0</td>\n",
       "    </tr>\n",
       "    <tr>\n",
       "      <th>VAGUE</th>\n",
       "      <td>17.0</td>\n",
       "      <td>17.0</td>\n",
       "      <td>1.0</td>\n",
       "      <td>39.0</td>\n",
       "      <td>39.0</td>\n",
       "      <td>113.0</td>\n",
       "    </tr>\n",
       "    <tr>\n",
       "      <th>no_label</th>\n",
       "      <td>0.0</td>\n",
       "      <td>0.0</td>\n",
       "      <td>0.0</td>\n",
       "      <td>0.0</td>\n",
       "      <td>0.0</td>\n",
       "      <td>0.0</td>\n",
       "    </tr>\n",
       "    <tr>\n",
       "      <th>sum</th>\n",
       "      <td>168.0</td>\n",
       "      <td>84.0</td>\n",
       "      <td>24.0</td>\n",
       "      <td>243.0</td>\n",
       "      <td>318.0</td>\n",
       "      <td>NaN</td>\n",
       "    </tr>\n",
       "  </tbody>\n",
       "</table>\n",
       "</div>"
      ]
     },
     "execution_count": 9,
     "metadata": {},
     "output_type": "execute_result"
    }
   ],
   "execution_count": 9
  },
  {
   "metadata": {
    "ExecuteTime": {
     "end_time": "2024-08-14T11:10:23.854667Z",
     "start_time": "2024-08-14T11:10:23.849988Z"
    }
   },
   "cell_type": "code",
   "source": "df_flash_results['docid'].nunique()",
   "id": "4aa8a983e4ac8cef",
   "outputs": [
    {
     "data": {
      "text/plain": [
       "18"
      ]
     },
     "execution_count": 66,
     "metadata": {},
     "output_type": "execute_result"
    }
   ],
   "execution_count": 66
  },
  {
   "metadata": {
    "ExecuteTime": {
     "end_time": "2024-08-11T19:49:35.971569Z",
     "start_time": "2024-08-11T19:49:35.963563Z"
    }
   },
   "cell_type": "code",
   "source": [
    "matched_preds = pd.merge(preds_zero_flash_df, gold_df[['docid', 'unique_id']], how='inner', on=['docid', 'unique_id'])\n",
    "gold_covarage = matched_preds.shape[0] / gold_df.shape[0] * 100\n",
    "print(f'the covarage of the model is {gold_covarage:.2f}%')"
   ],
   "id": "33aea7405c38858c",
   "outputs": [
    {
     "name": "stdout",
     "output_type": "stream",
     "text": [
      "the covarage of the model is 62.01%\n"
     ]
    }
   ],
   "execution_count": 37
  },
  {
   "metadata": {
    "ExecuteTime": {
     "end_time": "2024-08-14T11:10:03.848406Z",
     "start_time": "2024-08-14T11:10:03.840706Z"
    }
   },
   "cell_type": "code",
   "source": [
    "n_cycles = df_flash_results[['docid', 'n_cycles']].drop_duplicates()['n_cycles'].sum()\n",
    "n_docs = df_flash_results['docid'].nunique()\n",
    "print(f'there is a {n_cycles}/{n_docs} chance for a cycle')"
   ],
   "id": "8b8195d5e9261669",
   "outputs": [
    {
     "name": "stdout",
     "output_type": "stream",
     "text": [
      "there is a 2.0/18 chance for a cycle\n"
     ]
    }
   ],
   "execution_count": 65
  },
  {
   "metadata": {
    "ExecuteTime": {
     "end_time": "2024-08-11T19:49:52.923359Z",
     "start_time": "2024-08-11T19:49:52.902536Z"
    }
   },
   "cell_type": "code",
   "source": "df.to_excel(DATA_PATH / f'models-comp-results-{model_name}-{method}-completion.csv.xlsx')",
   "id": "41e2ce090ab5b950",
   "outputs": [],
   "execution_count": 39
  },
  {
   "metadata": {
    "ExecuteTime": {
     "end_time": "2024-08-14T10:42:57.596957Z",
     "start_time": "2024-08-14T10:42:57.584714Z"
    }
   },
   "cell_type": "code",
   "source": [
    "recall_df = recall(df)\n",
    "recall_df"
   ],
   "id": "7c51c0038ab0494f",
   "outputs": [
    {
     "data": {
      "text/plain": [
       "     BEFORE     AFTER  EQUAL     VAGUE\n",
       "0  0.207547  0.066914    0.0  0.345133"
      ],
      "text/html": [
       "<div>\n",
       "<style scoped>\n",
       "    .dataframe tbody tr th:only-of-type {\n",
       "        vertical-align: middle;\n",
       "    }\n",
       "\n",
       "    .dataframe tbody tr th {\n",
       "        vertical-align: top;\n",
       "    }\n",
       "\n",
       "    .dataframe thead th {\n",
       "        text-align: right;\n",
       "    }\n",
       "</style>\n",
       "<table border=\"1\" class=\"dataframe\">\n",
       "  <thead>\n",
       "    <tr style=\"text-align: right;\">\n",
       "      <th></th>\n",
       "      <th>BEFORE</th>\n",
       "      <th>AFTER</th>\n",
       "      <th>EQUAL</th>\n",
       "      <th>VAGUE</th>\n",
       "    </tr>\n",
       "  </thead>\n",
       "  <tbody>\n",
       "    <tr>\n",
       "      <th>0</th>\n",
       "      <td>0.207547</td>\n",
       "      <td>0.066914</td>\n",
       "      <td>0.0</td>\n",
       "      <td>0.345133</td>\n",
       "    </tr>\n",
       "  </tbody>\n",
       "</table>\n",
       "</div>"
      ]
     },
     "execution_count": 47,
     "metadata": {},
     "output_type": "execute_result"
    }
   ],
   "execution_count": 47
  },
  {
   "metadata": {
    "ExecuteTime": {
     "end_time": "2024-08-14T10:42:59.383578Z",
     "start_time": "2024-08-14T10:42:59.371042Z"
    }
   },
   "cell_type": "code",
   "source": [
    "precision_df = precision(df)\n",
    "precision_df"
   ],
   "id": "80d4bcb8baa334b9",
   "outputs": [
    {
     "data": {
      "text/plain": [
       "    BEFORE     AFTER  EQUAL     VAGUE\n",
       "0  0.52381  0.214286    0.0  0.160494"
      ],
      "text/html": [
       "<div>\n",
       "<style scoped>\n",
       "    .dataframe tbody tr th:only-of-type {\n",
       "        vertical-align: middle;\n",
       "    }\n",
       "\n",
       "    .dataframe tbody tr th {\n",
       "        vertical-align: top;\n",
       "    }\n",
       "\n",
       "    .dataframe thead th {\n",
       "        text-align: right;\n",
       "    }\n",
       "</style>\n",
       "<table border=\"1\" class=\"dataframe\">\n",
       "  <thead>\n",
       "    <tr style=\"text-align: right;\">\n",
       "      <th></th>\n",
       "      <th>BEFORE</th>\n",
       "      <th>AFTER</th>\n",
       "      <th>EQUAL</th>\n",
       "      <th>VAGUE</th>\n",
       "    </tr>\n",
       "  </thead>\n",
       "  <tbody>\n",
       "    <tr>\n",
       "      <th>0</th>\n",
       "      <td>0.52381</td>\n",
       "      <td>0.214286</td>\n",
       "      <td>0.0</td>\n",
       "      <td>0.160494</td>\n",
       "    </tr>\n",
       "  </tbody>\n",
       "</table>\n",
       "</div>"
      ]
     },
     "execution_count": 48,
     "metadata": {},
     "output_type": "execute_result"
    }
   ],
   "execution_count": 48
  },
  {
   "metadata": {
    "ExecuteTime": {
     "end_time": "2024-08-14T10:43:00.195770Z",
     "start_time": "2024-08-14T10:43:00.189843Z"
    }
   },
   "cell_type": "code",
   "source": "calculate_f1(precision_df.to_numpy()[0], recall_df.to_numpy()[0])",
   "id": "16ffcbbdae60b4f8",
   "outputs": [
    {
     "data": {
      "text/plain": [
       "array([0.2972973 , 0.101983  , 0.        , 0.21910112])"
      ]
     },
     "execution_count": 49,
     "metadata": {},
     "output_type": "execute_result"
    }
   ],
   "execution_count": 49
  },
  {
   "metadata": {
    "ExecuteTime": {
     "end_time": "2024-08-14T10:43:00.572490Z",
     "start_time": "2024-08-14T10:43:00.568160Z"
    }
   },
   "cell_type": "code",
   "source": "calculate_micro_f1(precision_df.to_numpy()[0], recall_df.to_numpy()[0])",
   "id": "b97f8bd6c635cf11",
   "outputs": [
    {
     "data": {
      "text/plain": [
       "0.056727423928354774"
      ]
     },
     "execution_count": 50,
     "metadata": {},
     "output_type": "execute_result"
    }
   ],
   "execution_count": 50
  },
  {
   "metadata": {
    "ExecuteTime": {
     "end_time": "2024-08-14T10:43:01.086506Z",
     "start_time": "2024-08-14T10:43:01.081820Z"
    }
   },
   "cell_type": "code",
   "source": "calculate_relax_micro_f1(precision_df.to_numpy()[0], recall_df.to_numpy()[0])",
   "id": "3b3c1e4179760ad",
   "outputs": [
    {
     "data": {
      "text/plain": [
       "0.04274112408767239"
      ]
     },
     "execution_count": 51,
     "metadata": {},
     "output_type": "execute_result"
    }
   ],
   "execution_count": 51
  },
  {
   "metadata": {},
   "cell_type": "markdown",
   "source": "### Explanation",
   "id": "342791cf373b94cc"
  },
  {
   "metadata": {
    "ExecuteTime": {
     "end_time": "2024-08-14T10:45:16.375553Z",
     "start_time": "2024-08-14T10:45:16.309348Z"
    }
   },
   "cell_type": "code",
   "source": [
    "df_flash_results = pd.read_csv(TRC_RESULTS_PATH / method / f'platinum-results-{model_name}-{method}-completion-explanation.csv')\n",
    "preds_zero_flash_df = (df_flash_results[['docid', 'unique_id', 'relation_selected', 'p_label']]\n",
    "            .copy()\n",
    "            .dropna()\n",
    "            .drop_duplicates(['docid', 'unique_id', 'relation_selected'])\n",
    "            .rename({'relation_selected': 'relation'}, axis='columns'))\n",
    "\n",
    "\n",
    "df = relation_table(gold_df, preds_zero_flash_df, model_name, target_col='label')\n",
    "df"
   ],
   "id": "2c1acb3a0a205c3f",
   "outputs": [
    {
     "data": {
      "text/plain": [
       "                      Meta-Llama-3.1-8B-Instruct-Turbo                     \\\n",
       "                                                BEFORE AFTER EQUAL  VAGUE   \n",
       "gold-labeled BEFORE                               77.0  15.0   0.0  213.0   \n",
       "             AFTER                                64.0   8.0   0.0  134.0   \n",
       "             EQUAL                                 8.0   1.0   0.0   12.0   \n",
       "             VAGUE                                13.0   7.0   0.0   61.0   \n",
       "             no_label                              6.0   1.0   0.0    2.0   \n",
       "             sum                                 168.0  32.0   0.0  422.0   \n",
       "\n",
       "                                             \n",
       "                      no_predictions    sum  \n",
       "gold-labeled BEFORE            119.0  424.0  \n",
       "             AFTER              63.0  269.0  \n",
       "             EQUAL              10.0   31.0  \n",
       "             VAGUE              32.0  113.0  \n",
       "             no_label            0.0    9.0  \n",
       "             sum               224.0    NaN  "
      ],
      "text/html": [
       "<div>\n",
       "<style scoped>\n",
       "    .dataframe tbody tr th:only-of-type {\n",
       "        vertical-align: middle;\n",
       "    }\n",
       "\n",
       "    .dataframe tbody tr th {\n",
       "        vertical-align: top;\n",
       "    }\n",
       "\n",
       "    .dataframe thead tr th {\n",
       "        text-align: left;\n",
       "    }\n",
       "</style>\n",
       "<table border=\"1\" class=\"dataframe\">\n",
       "  <thead>\n",
       "    <tr>\n",
       "      <th></th>\n",
       "      <th></th>\n",
       "      <th colspan=\"6\" halign=\"left\">Meta-Llama-3.1-8B-Instruct-Turbo</th>\n",
       "    </tr>\n",
       "    <tr>\n",
       "      <th></th>\n",
       "      <th></th>\n",
       "      <th>BEFORE</th>\n",
       "      <th>AFTER</th>\n",
       "      <th>EQUAL</th>\n",
       "      <th>VAGUE</th>\n",
       "      <th>no_predictions</th>\n",
       "      <th>sum</th>\n",
       "    </tr>\n",
       "  </thead>\n",
       "  <tbody>\n",
       "    <tr>\n",
       "      <th rowspan=\"6\" valign=\"top\">gold-labeled</th>\n",
       "      <th>BEFORE</th>\n",
       "      <td>77.0</td>\n",
       "      <td>15.0</td>\n",
       "      <td>0.0</td>\n",
       "      <td>213.0</td>\n",
       "      <td>119.0</td>\n",
       "      <td>424.0</td>\n",
       "    </tr>\n",
       "    <tr>\n",
       "      <th>AFTER</th>\n",
       "      <td>64.0</td>\n",
       "      <td>8.0</td>\n",
       "      <td>0.0</td>\n",
       "      <td>134.0</td>\n",
       "      <td>63.0</td>\n",
       "      <td>269.0</td>\n",
       "    </tr>\n",
       "    <tr>\n",
       "      <th>EQUAL</th>\n",
       "      <td>8.0</td>\n",
       "      <td>1.0</td>\n",
       "      <td>0.0</td>\n",
       "      <td>12.0</td>\n",
       "      <td>10.0</td>\n",
       "      <td>31.0</td>\n",
       "    </tr>\n",
       "    <tr>\n",
       "      <th>VAGUE</th>\n",
       "      <td>13.0</td>\n",
       "      <td>7.0</td>\n",
       "      <td>0.0</td>\n",
       "      <td>61.0</td>\n",
       "      <td>32.0</td>\n",
       "      <td>113.0</td>\n",
       "    </tr>\n",
       "    <tr>\n",
       "      <th>no_label</th>\n",
       "      <td>6.0</td>\n",
       "      <td>1.0</td>\n",
       "      <td>0.0</td>\n",
       "      <td>2.0</td>\n",
       "      <td>0.0</td>\n",
       "      <td>9.0</td>\n",
       "    </tr>\n",
       "    <tr>\n",
       "      <th>sum</th>\n",
       "      <td>168.0</td>\n",
       "      <td>32.0</td>\n",
       "      <td>0.0</td>\n",
       "      <td>422.0</td>\n",
       "      <td>224.0</td>\n",
       "      <td>NaN</td>\n",
       "    </tr>\n",
       "  </tbody>\n",
       "</table>\n",
       "</div>"
      ]
     },
     "execution_count": 52,
     "metadata": {},
     "output_type": "execute_result"
    }
   ],
   "execution_count": 52
  },
  {
   "metadata": {
    "ExecuteTime": {
     "end_time": "2024-08-11T19:48:01.510457Z",
     "start_time": "2024-08-11T19:48:01.502425Z"
    }
   },
   "cell_type": "code",
   "source": [
    "matched_preds = pd.merge(preds_zero_flash_df, gold_df[['docid', 'unique_id']], how='inner', on=['docid', 'unique_id'])\n",
    "gold_covarage = matched_preds.shape[0] / gold_df.shape[0] * 100\n",
    "print(f'the covarage of the model is {gold_covarage:.2f}%')"
   ],
   "id": "d07e7e24ba8ad55a",
   "outputs": [
    {
     "name": "stdout",
     "output_type": "stream",
     "text": [
      "the covarage of the model is 73.24%\n"
     ]
    }
   ],
   "execution_count": 32
  },
  {
   "metadata": {
    "ExecuteTime": {
     "end_time": "2024-08-11T19:48:52.505184Z",
     "start_time": "2024-08-11T19:48:52.497080Z"
    }
   },
   "cell_type": "code",
   "source": [
    "n_cycles = df_flash_results[['docid', 'n_cycles']].drop_duplicates()['n_cycles'].sum()\n",
    "n_docs = df_flash_results['docid'].nunique()\n",
    "print(f'there is a {n_cycles}/{n_docs} chance for a cycle')"
   ],
   "id": "6464d1c2dc988aab",
   "outputs": [
    {
     "name": "stdout",
     "output_type": "stream",
     "text": [
      "there is a 3.0/20 chance for a cycle\n"
     ]
    }
   ],
   "execution_count": 34
  },
  {
   "metadata": {
    "ExecuteTime": {
     "end_time": "2024-08-11T19:49:11.224039Z",
     "start_time": "2024-08-11T19:49:11.197816Z"
    }
   },
   "cell_type": "code",
   "source": "df.to_excel(DATA_PATH / f'models-comp-results-{model_name}-{method}-completion-explanation.csv.xlsx')",
   "id": "71dd50b69a3e7e2f",
   "outputs": [],
   "execution_count": 35
  },
  {
   "metadata": {
    "ExecuteTime": {
     "end_time": "2024-08-14T10:45:30.844506Z",
     "start_time": "2024-08-14T10:45:30.832818Z"
    }
   },
   "cell_type": "code",
   "source": [
    "recall_df = recall(df)\n",
    "recall_df"
   ],
   "id": "76063e897d939aa0",
   "outputs": [
    {
     "data": {
      "text/plain": [
       "     BEFORE    AFTER  EQUAL     VAGUE\n",
       "0  0.181604  0.02974    0.0  0.539823"
      ],
      "text/html": [
       "<div>\n",
       "<style scoped>\n",
       "    .dataframe tbody tr th:only-of-type {\n",
       "        vertical-align: middle;\n",
       "    }\n",
       "\n",
       "    .dataframe tbody tr th {\n",
       "        vertical-align: top;\n",
       "    }\n",
       "\n",
       "    .dataframe thead th {\n",
       "        text-align: right;\n",
       "    }\n",
       "</style>\n",
       "<table border=\"1\" class=\"dataframe\">\n",
       "  <thead>\n",
       "    <tr style=\"text-align: right;\">\n",
       "      <th></th>\n",
       "      <th>BEFORE</th>\n",
       "      <th>AFTER</th>\n",
       "      <th>EQUAL</th>\n",
       "      <th>VAGUE</th>\n",
       "    </tr>\n",
       "  </thead>\n",
       "  <tbody>\n",
       "    <tr>\n",
       "      <th>0</th>\n",
       "      <td>0.181604</td>\n",
       "      <td>0.02974</td>\n",
       "      <td>0.0</td>\n",
       "      <td>0.539823</td>\n",
       "    </tr>\n",
       "  </tbody>\n",
       "</table>\n",
       "</div>"
      ]
     },
     "execution_count": 53,
     "metadata": {},
     "output_type": "execute_result"
    }
   ],
   "execution_count": 53
  },
  {
   "metadata": {
    "ExecuteTime": {
     "end_time": "2024-08-14T10:48:03.913116Z",
     "start_time": "2024-08-14T10:47:06.566070Z"
    }
   },
   "cell_type": "code",
   "source": [
    "precision_df = precision(df).fillna(0.0)\n",
    "precision_df"
   ],
   "id": "f6a64266a941b53",
   "outputs": [
    {
     "name": "stderr",
     "output_type": "stream",
     "text": [
      "/Users/adiel/git/full-temporal-relation/full_temporal_relation/metrics.py:62: RuntimeWarning: invalid value encountered in divide\n",
      "  return pd.DataFrame(columns=[col[1] for col in df.columns][:4], data=[labels_values / sum_per_label])\n"
     ]
    },
    {
     "data": {
      "text/plain": [
       "     BEFORE  AFTER  EQUAL    VAGUE\n",
       "0  0.458333   0.25    0.0  0.14455"
      ],
      "text/html": [
       "<div>\n",
       "<style scoped>\n",
       "    .dataframe tbody tr th:only-of-type {\n",
       "        vertical-align: middle;\n",
       "    }\n",
       "\n",
       "    .dataframe tbody tr th {\n",
       "        vertical-align: top;\n",
       "    }\n",
       "\n",
       "    .dataframe thead th {\n",
       "        text-align: right;\n",
       "    }\n",
       "</style>\n",
       "<table border=\"1\" class=\"dataframe\">\n",
       "  <thead>\n",
       "    <tr style=\"text-align: right;\">\n",
       "      <th></th>\n",
       "      <th>BEFORE</th>\n",
       "      <th>AFTER</th>\n",
       "      <th>EQUAL</th>\n",
       "      <th>VAGUE</th>\n",
       "    </tr>\n",
       "  </thead>\n",
       "  <tbody>\n",
       "    <tr>\n",
       "      <th>0</th>\n",
       "      <td>0.458333</td>\n",
       "      <td>0.25</td>\n",
       "      <td>0.0</td>\n",
       "      <td>0.14455</td>\n",
       "    </tr>\n",
       "  </tbody>\n",
       "</table>\n",
       "</div>"
      ]
     },
     "execution_count": 60,
     "metadata": {},
     "output_type": "execute_result"
    }
   ],
   "execution_count": 60
  },
  {
   "metadata": {
    "ExecuteTime": {
     "end_time": "2024-08-14T10:48:11.429661Z",
     "start_time": "2024-08-14T10:48:11.425810Z"
    }
   },
   "cell_type": "code",
   "source": "calculate_f1(precision_df.to_numpy()[0], recall_df.to_numpy()[0])",
   "id": "10a968e3dfc96eec",
   "outputs": [
    {
     "data": {
      "text/plain": [
       "array([0.26013514, 0.05315615, 0.        , 0.22803738])"
      ]
     },
     "execution_count": 61,
     "metadata": {},
     "output_type": "execute_result"
    }
   ],
   "execution_count": 61
  },
  {
   "metadata": {
    "ExecuteTime": {
     "end_time": "2024-08-14T10:48:13.064838Z",
     "start_time": "2024-08-14T10:48:13.060204Z"
    }
   },
   "cell_type": "code",
   "source": "calculate_micro_f1(precision_df.to_numpy()[0], recall_df.to_numpy()[0])",
   "id": "e418c6ee42a5e4ba",
   "outputs": [
    {
     "data": {
      "text/plain": [
       "0.36323351604384435"
      ]
     },
     "execution_count": 62,
     "metadata": {},
     "output_type": "execute_result"
    }
   ],
   "execution_count": 62
  },
  {
   "metadata": {
    "ExecuteTime": {
     "end_time": "2024-08-14T10:48:14.183964Z",
     "start_time": "2024-08-14T10:48:14.179277Z"
    }
   },
   "cell_type": "code",
   "source": "calculate_relax_micro_f1(precision_df.to_numpy()[0], recall_df.to_numpy()[0])",
   "id": "df1d38ad33a44b63",
   "outputs": [
    {
     "data": {
      "text/plain": [
       "0.03700857493398767"
      ]
     },
     "execution_count": 63,
     "metadata": {},
     "output_type": "execute_result"
    }
   ],
   "execution_count": 63
  },
  {
   "metadata": {},
   "cell_type": "code",
   "outputs": [],
   "execution_count": null,
   "source": "",
   "id": "d863f288fc0f36da"
  }
 ],
 "metadata": {
  "kernelspec": {
   "display_name": "Python 3",
   "language": "python",
   "name": "python3"
  },
  "language_info": {
   "codemirror_mode": {
    "name": "ipython",
    "version": 2
   },
   "file_extension": ".py",
   "mimetype": "text/x-python",
   "name": "python",
   "nbconvert_exporter": "python",
   "pygments_lexer": "ipython2",
   "version": "2.7.6"
  }
 },
 "nbformat": 4,
 "nbformat_minor": 5
}
