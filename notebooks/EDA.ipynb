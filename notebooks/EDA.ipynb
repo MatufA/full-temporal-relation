{
 "cells": [
  {
   "cell_type": "code",
   "execution_count": 1,
   "metadata": {
    "ExecuteTime": {
     "end_time": "2024-02-01T19:12:13.683774Z",
     "start_time": "2024-02-01T19:12:03.217956Z"
    }
   },
   "outputs": [],
   "source": [
    "import numpy as np\n",
    "import pandas as pd\n",
    "import networkx as nx\n",
    "from pathlib import Path\n",
    "import matplotlib.pyplot as plt"
   ]
  },
  {
   "cell_type": "code",
   "execution_count": 8,
   "metadata": {
    "ExecuteTime": {
     "end_time": "2024-02-01T19:12:13.683774Z",
     "start_time": "2024-02-01T19:12:03.217956Z"
    }
   },
   "outputs": [],
   "source": [
    "import sys\n",
    "import os\n",
    "\n",
    "PROJECT_PATH = '/home/adiel/full-temporal-relation'\n",
    "if PROJECT_PATH not in sys.path:\n",
    "    sys.path.append(PROJECT_PATH)\n",
    "    \n",
    "from full_temporal_relation.data.preprocessing import load_data"
   ]
  },
  {
   "cell_type": "code",
   "execution_count": 2,
   "metadata": {
    "ExecuteTime": {
     "end_time": "2024-02-01T19:12:13.703139Z",
     "start_time": "2024-02-01T19:12:13.688290Z"
    },
    "collapsed": false,
    "jupyter": {
     "outputs_hidden": false
    }
   },
   "outputs": [],
   "source": [
    "MATRES_DATA_PATH = Path('../data') / 'MATRES'"
   ]
  },
  {
   "cell_type": "code",
   "execution_count": 9,
   "metadata": {
    "ExecuteTime": {
     "end_time": "2024-02-01T19:12:13.732562Z",
     "start_time": "2024-02-01T19:12:13.696323Z"
    },
    "collapsed": false,
    "jupyter": {
     "outputs_hidden": false
    }
   },
   "outputs": [
    {
     "data": {
      "text/html": [
       "<div>\n",
       "<style scoped>\n",
       "    .dataframe tbody tr th:only-of-type {\n",
       "        vertical-align: middle;\n",
       "    }\n",
       "\n",
       "    .dataframe tbody tr th {\n",
       "        vertical-align: top;\n",
       "    }\n",
       "\n",
       "    .dataframe thead th {\n",
       "        text-align: right;\n",
       "    }\n",
       "</style>\n",
       "<table border=\"1\" class=\"dataframe\">\n",
       "  <thead>\n",
       "    <tr style=\"text-align: right;\">\n",
       "      <th></th>\n",
       "      <th>docid</th>\n",
       "      <th>verb1</th>\n",
       "      <th>verb2</th>\n",
       "      <th>eiid1</th>\n",
       "      <th>eiid2</th>\n",
       "      <th>relation</th>\n",
       "    </tr>\n",
       "  </thead>\n",
       "  <tbody>\n",
       "    <tr>\n",
       "      <th>0</th>\n",
       "      <td>NYT20000406.0002</td>\n",
       "      <td>said</td>\n",
       "      <td>made</td>\n",
       "      <td>e1</td>\n",
       "      <td>e2</td>\n",
       "      <td>AFTER</td>\n",
       "    </tr>\n",
       "    <tr>\n",
       "      <th>1</th>\n",
       "      <td>NYT20000406.0002</td>\n",
       "      <td>made</td>\n",
       "      <td>raised</td>\n",
       "      <td>e2</td>\n",
       "      <td>e5</td>\n",
       "      <td>AFTER</td>\n",
       "    </tr>\n",
       "    <tr>\n",
       "      <th>2</th>\n",
       "      <td>NYT20000406.0002</td>\n",
       "      <td>left</td>\n",
       "      <td>stir</td>\n",
       "      <td>e17</td>\n",
       "      <td>e19</td>\n",
       "      <td>EQUAL</td>\n",
       "    </tr>\n",
       "    <tr>\n",
       "      <th>3</th>\n",
       "      <td>NYT20000406.0002</td>\n",
       "      <td>left</td>\n",
       "      <td>demanded</td>\n",
       "      <td>e17</td>\n",
       "      <td>e21</td>\n",
       "      <td>BEFORE</td>\n",
       "    </tr>\n",
       "    <tr>\n",
       "      <th>4</th>\n",
       "      <td>NYT20000406.0002</td>\n",
       "      <td>stir</td>\n",
       "      <td>demanded</td>\n",
       "      <td>e19</td>\n",
       "      <td>e21</td>\n",
       "      <td>BEFORE</td>\n",
       "    </tr>\n",
       "    <tr>\n",
       "      <th>...</th>\n",
       "      <td>...</td>\n",
       "      <td>...</td>\n",
       "      <td>...</td>\n",
       "      <td>...</td>\n",
       "      <td>...</td>\n",
       "      <td>...</td>\n",
       "    </tr>\n",
       "    <tr>\n",
       "      <th>6399</th>\n",
       "      <td>APW19980911.0475</td>\n",
       "      <td>transferred</td>\n",
       "      <td>transported</td>\n",
       "      <td>e28</td>\n",
       "      <td>e31</td>\n",
       "      <td>VAGUE</td>\n",
       "    </tr>\n",
       "    <tr>\n",
       "      <th>6400</th>\n",
       "      <td>APW19980911.0475</td>\n",
       "      <td>said</td>\n",
       "      <td>exploded</td>\n",
       "      <td>e29</td>\n",
       "      <td>e30</td>\n",
       "      <td>AFTER</td>\n",
       "    </tr>\n",
       "    <tr>\n",
       "      <th>6401</th>\n",
       "      <td>APW19980911.0475</td>\n",
       "      <td>said</td>\n",
       "      <td>transported</td>\n",
       "      <td>e29</td>\n",
       "      <td>e31</td>\n",
       "      <td>AFTER</td>\n",
       "    </tr>\n",
       "    <tr>\n",
       "      <th>6402</th>\n",
       "      <td>APW19980911.0475</td>\n",
       "      <td>exploded</td>\n",
       "      <td>transported</td>\n",
       "      <td>e30</td>\n",
       "      <td>e31</td>\n",
       "      <td>BEFORE</td>\n",
       "    </tr>\n",
       "    <tr>\n",
       "      <th>6403</th>\n",
       "      <td>APW19980911.0475</td>\n",
       "      <td>raided</td>\n",
       "      <td>searched</td>\n",
       "      <td>e33</td>\n",
       "      <td>e34</td>\n",
       "      <td>BEFORE</td>\n",
       "    </tr>\n",
       "  </tbody>\n",
       "</table>\n",
       "<p>6404 rows × 6 columns</p>\n",
       "</div>"
      ],
      "text/plain": [
       "                 docid        verb1        verb2 eiid1 eiid2 relation\n",
       "0     NYT20000406.0002         said         made    e1    e2    AFTER\n",
       "1     NYT20000406.0002         made       raised    e2    e5    AFTER\n",
       "2     NYT20000406.0002         left         stir   e17   e19    EQUAL\n",
       "3     NYT20000406.0002         left     demanded   e17   e21   BEFORE\n",
       "4     NYT20000406.0002         stir     demanded   e19   e21   BEFORE\n",
       "...                ...          ...          ...   ...   ...      ...\n",
       "6399  APW19980911.0475  transferred  transported   e28   e31    VAGUE\n",
       "6400  APW19980911.0475         said     exploded   e29   e30    AFTER\n",
       "6401  APW19980911.0475         said  transported   e29   e31    AFTER\n",
       "6402  APW19980911.0475     exploded  transported   e30   e31   BEFORE\n",
       "6403  APW19980911.0475       raided     searched   e33   e34   BEFORE\n",
       "\n",
       "[6404 rows x 6 columns]"
      ]
     },
     "execution_count": 9,
     "metadata": {},
     "output_type": "execute_result"
    }
   ],
   "source": [
    "aquaint_df = load_data(MATRES_DATA_PATH / 'aquaint.txt')\n",
    "aquaint_df"
   ]
  },
  {
   "cell_type": "code",
   "execution_count": 17,
   "metadata": {},
   "outputs": [
    {
     "name": "stdout",
     "output_type": "stream",
     "text": [
      "- e1 BEFORE e2\n",
      "- e1 BEFORE e3\n",
      "- e2 BEFORE e3\n",
      "- e1 BEFORE e12\n",
      "- e1 BEFORE e4\n",
      "- e2 BEFORE e12\n",
      "- e2 BEFORE e4\n",
      "- e3 AFTER e12\n",
      "- e3 BEFORE e4\n",
      "- e12 BEFORE e4\n",
      "- e12 BEFORE e5\n",
      "- e4 VAGUE e5\n",
      "- e5 VAGUE e8\n",
      "- e5 AFTER e9\n",
      "- e5 BEFORE e10\n",
      "- e8 AFTER e9\n",
      "- e8 BEFORE e10\n",
      "- e9 BEFORE e10\n"
     ]
    }
   ],
   "source": [
    "for _, row in aquaint_df[aquaint_df.docid == 'APW19980807.0261'].iterrows():\n",
    "    print(f'- {row.eiid1} {row.relation} {row.eiid2}')"
   ]
  },
  {
   "cell_type": "code",
   "execution_count": 18,
   "metadata": {},
   "outputs": [
    {
     "name": "stdout",
     "output_type": "stream",
     "text": [
      "\n",
      "Former President Nicolas Sarkozy was e1:informed Thursday that he would e2:face a formal e21:investigation into whether he e3:abused the frailty of Liliane Bettencourt, 90, the heiress to the L'Oreal fortune and France's richest woman, to e4:get funds for his 2007 presidential e1000:campaign. Mr. Sarkozy has e5:denied e6:accepting illegal campaign funds from Ms. Bettencourt, either personally or through his party treasurer at the time, Eric Woerth, as e7:alleged by her former butler. Mr. Sarkozy's lawyer, Thierry Herzog, e8:called the judge's e9:decision, which e10:indicates that the judge e11:believes that Mr. Sarkozy probably committed a e23:crime, \"incoherent\" and \"unjust.\" The lawyer e13:said he would e14:appeal. The e15:ruling does not necessarily e16:mean that Mr. Sarkozy, who e17:lost his re-election e18:bid last May and with it his presidential immunity from prosecution, will e19:stand e20:trial.\n",
      "\n"
     ]
    }
   ],
   "source": [
    "print(\"\"\"\n",
    "Former President Nicolas Sarkozy was e1:informed Thursday that he would e2:face a formal e21:investigation into whether he e3:abused the frailty of Liliane Bettencourt, 90, the heiress to the L'Oreal fortune and France's richest woman, to e4:get funds for his 2007 presidential e1000:campaign. Mr. Sarkozy has e5:denied e6:accepting illegal campaign funds from Ms. Bettencourt, either personally or through his party treasurer at the time, Eric Woerth, as e7:alleged by her former butler. Mr. Sarkozy's lawyer, Thierry Herzog, e8:called the judge's e9:decision, which e10:indicates that the judge e11:believes that Mr. Sarkozy probably committed a e23:crime, \"incoherent\" and \"unjust.\" The lawyer e13:said he would e14:appeal. The e15:ruling does not necessarily e16:mean that Mr. Sarkozy, who e17:lost his re-election e18:bid last May and with it his presidential immunity from prosecution, will e19:stand e20:trial.\n",
    "\"\"\")"
   ]
  },
  {
   "cell_type": "code",
   "execution_count": 4,
   "metadata": {
    "ExecuteTime": {
     "end_time": "2024-01-23T18:51:23.362996Z",
     "start_time": "2024-01-23T18:51:23.348231Z"
    }
   },
   "outputs": [
    {
     "data": {
      "text/html": [
       "<div>\n",
       "<style scoped>\n",
       "    .dataframe tbody tr th:only-of-type {\n",
       "        vertical-align: middle;\n",
       "    }\n",
       "\n",
       "    .dataframe tbody tr th {\n",
       "        vertical-align: top;\n",
       "    }\n",
       "\n",
       "    .dataframe thead th {\n",
       "        text-align: right;\n",
       "    }\n",
       "</style>\n",
       "<table border=\"1\" class=\"dataframe\">\n",
       "  <thead>\n",
       "    <tr style=\"text-align: right;\">\n",
       "      <th></th>\n",
       "      <th>docid</th>\n",
       "      <th>count</th>\n",
       "    </tr>\n",
       "  </thead>\n",
       "  <tbody>\n",
       "    <tr>\n",
       "      <th>45</th>\n",
       "      <td>NYT19990312.0271</td>\n",
       "      <td>378</td>\n",
       "    </tr>\n",
       "    <tr>\n",
       "      <th>12</th>\n",
       "      <td>APW19990122.0193</td>\n",
       "      <td>262</td>\n",
       "    </tr>\n",
       "    <tr>\n",
       "      <th>41</th>\n",
       "      <td>NYT19981025.0216</td>\n",
       "      <td>249</td>\n",
       "    </tr>\n",
       "    <tr>\n",
       "      <th>51</th>\n",
       "      <td>NYT20000224.0173</td>\n",
       "      <td>248</td>\n",
       "    </tr>\n",
       "    <tr>\n",
       "      <th>58</th>\n",
       "      <td>NYT20000601.0442</td>\n",
       "      <td>223</td>\n",
       "    </tr>\n",
       "    <tr>\n",
       "      <th>...</th>\n",
       "      <td>...</td>\n",
       "      <td>...</td>\n",
       "    </tr>\n",
       "    <tr>\n",
       "      <th>69</th>\n",
       "      <td>XIE19990227.0171</td>\n",
       "      <td>9</td>\n",
       "    </tr>\n",
       "    <tr>\n",
       "      <th>14</th>\n",
       "      <td>APW19990216.0198</td>\n",
       "      <td>6</td>\n",
       "    </tr>\n",
       "    <tr>\n",
       "      <th>55</th>\n",
       "      <td>NYT20000406.0002</td>\n",
       "      <td>6</td>\n",
       "    </tr>\n",
       "    <tr>\n",
       "      <th>3</th>\n",
       "      <td>APW19980810.0907</td>\n",
       "      <td>3</td>\n",
       "    </tr>\n",
       "    <tr>\n",
       "      <th>2</th>\n",
       "      <td>APW19980809.0700</td>\n",
       "      <td>3</td>\n",
       "    </tr>\n",
       "  </tbody>\n",
       "</table>\n",
       "<p>73 rows × 2 columns</p>\n",
       "</div>"
      ],
      "text/plain": [
       "               docid  count\n",
       "45  NYT19990312.0271    378\n",
       "12  APW19990122.0193    262\n",
       "41  NYT19981025.0216    249\n",
       "51  NYT20000224.0173    248\n",
       "58  NYT20000601.0442    223\n",
       "..               ...    ...\n",
       "69  XIE19990227.0171      9\n",
       "14  APW19990216.0198      6\n",
       "55  NYT20000406.0002      6\n",
       "3   APW19980810.0907      3\n",
       "2   APW19980809.0700      3\n",
       "\n",
       "[73 rows x 2 columns]"
      ]
     },
     "execution_count": 4,
     "metadata": {},
     "output_type": "execute_result"
    }
   ],
   "source": [
    "aquaint_df.groupby('docid').relation.count().reset_index(name='count').sort_values(['count'], ascending=False)"
   ]
  },
  {
   "cell_type": "code",
   "execution_count": 27,
   "metadata": {
    "ExecuteTime": {
     "end_time": "2023-08-28T09:20:57.138582Z",
     "start_time": "2023-08-28T09:20:56.303276Z"
    },
    "collapsed": false,
    "jupyter": {
     "outputs_hidden": false
    }
   },
   "outputs": [
    {
     "data": {
      "text/plain": [
       "<Axes: xlabel='relation'>"
      ]
     },
     "execution_count": 27,
     "metadata": {},
     "output_type": "execute_result"
    },
    {
     "data": {
      "image/png": "[encoded data removed]",
      "text/plain": [
       "<Figure size 1500x500 with 1 Axes>"
      ]
     },
     "metadata": {},
     "output_type": "display_data"
    }
   ],
   "source": [
    "aquaint_df.groupby('relation').docid.value_counts().unstack().plot(kind='bar', stacked=True, legend=False, figsize=(15, 5))"
   ]
  },
  {
   "cell_type": "code",
   "execution_count": 5,
   "metadata": {
    "ExecuteTime": {
     "end_time": "2023-09-06T20:40:30.668504Z",
     "start_time": "2023-09-06T20:40:30.659440Z"
    },
    "collapsed": false,
    "jupyter": {
     "outputs_hidden": false
    }
   },
   "outputs": [],
   "source": [
    "def plot_relation_bars(df, ax=None, title=''):\n",
    "    df_relation = df.relation.value_counts()\n",
    "    df_relation_dist = df_relation / df_relation.sum()\n",
    "\n",
    "    df_relation_dist.to_frame().plot(kind='bar', ax=ax)\n",
    "    for i, n in enumerate(df_relation_dist):\n",
    "        if ax:\n",
    "            ax.text(i, n / 2, f'{np.round(n, 3)}%', va = 'center', ha = 'center')\n",
    "            ax.set_title(title)\n",
    "        else:\n",
    "            plt.text(i, n / 2, f'{np.round(n, 3)}%', va = 'center', ha = 'center')\n",
    "    return df_relation.reset_index()"
   ]
  },
  {
   "cell_type": "code",
   "execution_count": 4,
   "metadata": {
    "ExecuteTime": {
     "end_time": "2024-02-01T19:12:24.238289Z",
     "start_time": "2024-02-01T19:12:24.186311Z"
    },
    "collapsed": false,
    "jupyter": {
     "outputs_hidden": false
    }
   },
   "outputs": [
    {
     "data": {
      "text/html": [
       "<div>\n",
       "<style scoped>\n",
       "    .dataframe tbody tr th:only-of-type {\n",
       "        vertical-align: middle;\n",
       "    }\n",
       "\n",
       "    .dataframe tbody tr th {\n",
       "        vertical-align: top;\n",
       "    }\n",
       "\n",
       "    .dataframe thead th {\n",
       "        text-align: right;\n",
       "    }\n",
       "</style>\n",
       "<table border=\"1\" class=\"dataframe\">\n",
       "  <thead>\n",
       "    <tr style=\"text-align: right;\">\n",
       "      <th></th>\n",
       "      <th>docid</th>\n",
       "      <th>verb1</th>\n",
       "      <th>verb2</th>\n",
       "      <th>eiid1</th>\n",
       "      <th>eiid2</th>\n",
       "      <th>relation</th>\n",
       "    </tr>\n",
       "  </thead>\n",
       "  <tbody>\n",
       "    <tr>\n",
       "      <th>0</th>\n",
       "      <td>WSJ_20130322_159</td>\n",
       "      <td>apologized</td>\n",
       "      <td>happened</td>\n",
       "      <td>1</td>\n",
       "      <td>5</td>\n",
       "      <td>VAGUE</td>\n",
       "    </tr>\n",
       "    <tr>\n",
       "      <th>1</th>\n",
       "      <td>WSJ_20130322_159</td>\n",
       "      <td>apologized</td>\n",
       "      <td>wrapped</td>\n",
       "      <td>1</td>\n",
       "      <td>6</td>\n",
       "      <td>BEFORE</td>\n",
       "    </tr>\n",
       "    <tr>\n",
       "      <th>2</th>\n",
       "      <td>WSJ_20130322_159</td>\n",
       "      <td>apologized</td>\n",
       "      <td>seemed</td>\n",
       "      <td>1</td>\n",
       "      <td>10</td>\n",
       "      <td>BEFORE</td>\n",
       "    </tr>\n",
       "    <tr>\n",
       "      <th>3</th>\n",
       "      <td>WSJ_20130322_159</td>\n",
       "      <td>apologized</td>\n",
       "      <td>yield</td>\n",
       "      <td>1</td>\n",
       "      <td>11</td>\n",
       "      <td>VAGUE</td>\n",
       "    </tr>\n",
       "    <tr>\n",
       "      <th>4</th>\n",
       "      <td>WSJ_20130322_159</td>\n",
       "      <td>happened</td>\n",
       "      <td>wrapped</td>\n",
       "      <td>5</td>\n",
       "      <td>6</td>\n",
       "      <td>BEFORE</td>\n",
       "    </tr>\n",
       "    <tr>\n",
       "      <th>...</th>\n",
       "      <td>...</td>\n",
       "      <td>...</td>\n",
       "      <td>...</td>\n",
       "      <td>...</td>\n",
       "      <td>...</td>\n",
       "      <td>...</td>\n",
       "    </tr>\n",
       "    <tr>\n",
       "      <th>832</th>\n",
       "      <td>CNN_20130322_248</td>\n",
       "      <td>sparing</td>\n",
       "      <td>begin</td>\n",
       "      <td>3</td>\n",
       "      <td>6</td>\n",
       "      <td>BEFORE</td>\n",
       "    </tr>\n",
       "    <tr>\n",
       "      <th>833</th>\n",
       "      <td>CNN_20130322_248</td>\n",
       "      <td>sparing</td>\n",
       "      <td>said</td>\n",
       "      <td>3</td>\n",
       "      <td>7</td>\n",
       "      <td>EQUAL</td>\n",
       "    </tr>\n",
       "    <tr>\n",
       "      <th>834</th>\n",
       "      <td>CNN_20130322_248</td>\n",
       "      <td>expected</td>\n",
       "      <td>begin</td>\n",
       "      <td>4</td>\n",
       "      <td>6</td>\n",
       "      <td>BEFORE</td>\n",
       "    </tr>\n",
       "    <tr>\n",
       "      <th>835</th>\n",
       "      <td>CNN_20130322_248</td>\n",
       "      <td>expected</td>\n",
       "      <td>said</td>\n",
       "      <td>4</td>\n",
       "      <td>7</td>\n",
       "      <td>BEFORE</td>\n",
       "    </tr>\n",
       "    <tr>\n",
       "      <th>836</th>\n",
       "      <td>CNN_20130322_248</td>\n",
       "      <td>begin</td>\n",
       "      <td>said</td>\n",
       "      <td>6</td>\n",
       "      <td>7</td>\n",
       "      <td>AFTER</td>\n",
       "    </tr>\n",
       "  </tbody>\n",
       "</table>\n",
       "<p>837 rows × 6 columns</p>\n",
       "</div>"
      ],
      "text/plain": [
       "                docid       verb1     verb2  eiid1  eiid2 relation\n",
       "0    WSJ_20130322_159  apologized  happened      1      5    VAGUE\n",
       "1    WSJ_20130322_159  apologized   wrapped      1      6   BEFORE\n",
       "2    WSJ_20130322_159  apologized    seemed      1     10   BEFORE\n",
       "3    WSJ_20130322_159  apologized     yield      1     11    VAGUE\n",
       "4    WSJ_20130322_159    happened   wrapped      5      6   BEFORE\n",
       "..                ...         ...       ...    ...    ...      ...\n",
       "832  CNN_20130322_248     sparing     begin      3      6   BEFORE\n",
       "833  CNN_20130322_248     sparing      said      3      7    EQUAL\n",
       "834  CNN_20130322_248    expected     begin      4      6   BEFORE\n",
       "835  CNN_20130322_248    expected      said      4      7   BEFORE\n",
       "836  CNN_20130322_248       begin      said      6      7    AFTER\n",
       "\n",
       "[837 rows x 6 columns]"
      ]
     },
     "execution_count": 4,
     "metadata": {},
     "output_type": "execute_result"
    }
   ],
   "source": [
    "platinum_df = pd.read_csv(MATRES_DATA_PATH / 'platinum.txt', sep='\\t', header=None,\n",
    "                         names=['docid', 'verb1', 'verb2', 'eiid1', 'eiid2', 'relation'])\n",
    "platinum_df"
   ]
  },
  {
   "cell_type": "code",
   "execution_count": 6,
   "metadata": {
    "ExecuteTime": {
     "end_time": "2023-09-05T18:52:33.775139Z",
     "start_time": "2023-09-05T18:52:33.762968Z"
    },
    "collapsed": false,
    "jupyter": {
     "outputs_hidden": false
    }
   },
   "outputs": [
    {
     "data": {
      "text/plain": [
       "20"
      ]
     },
     "execution_count": 6,
     "metadata": {},
     "output_type": "execute_result"
    }
   ],
   "source": [
    "platinum_df.docid.nunique()"
   ]
  },
  {
   "cell_type": "code",
   "execution_count": 5,
   "metadata": {
    "ExecuteTime": {
     "end_time": "2024-02-01T19:12:28.400291Z",
     "start_time": "2024-02-01T19:12:28.240865Z"
    },
    "collapsed": false,
    "jupyter": {
     "outputs_hidden": false
    }
   },
   "outputs": [
    {
     "data": {
      "text/html": [
       "<div>\n",
       "<style scoped>\n",
       "    .dataframe tbody tr th:only-of-type {\n",
       "        vertical-align: middle;\n",
       "    }\n",
       "\n",
       "    .dataframe tbody tr th {\n",
       "        vertical-align: top;\n",
       "    }\n",
       "\n",
       "    .dataframe thead th {\n",
       "        text-align: right;\n",
       "    }\n",
       "</style>\n",
       "<table border=\"1\" class=\"dataframe\">\n",
       "  <thead>\n",
       "    <tr style=\"text-align: right;\">\n",
       "      <th></th>\n",
       "      <th>docid</th>\n",
       "      <th>verb1</th>\n",
       "      <th>verb2</th>\n",
       "      <th>eiid1</th>\n",
       "      <th>eiid2</th>\n",
       "      <th>relation</th>\n",
       "    </tr>\n",
       "  </thead>\n",
       "  <tbody>\n",
       "    <tr>\n",
       "      <th>0</th>\n",
       "      <td>ABC19980120.1830.0957</td>\n",
       "      <td>predicted</td>\n",
       "      <td>tried</td>\n",
       "      <td>415</td>\n",
       "      <td>417</td>\n",
       "      <td>BEFORE</td>\n",
       "    </tr>\n",
       "    <tr>\n",
       "      <th>1</th>\n",
       "      <td>ABC19980120.1830.0957</td>\n",
       "      <td>predicted</td>\n",
       "      <td>hasten</td>\n",
       "      <td>415</td>\n",
       "      <td>418</td>\n",
       "      <td>BEFORE</td>\n",
       "    </tr>\n",
       "    <tr>\n",
       "      <th>2</th>\n",
       "      <td>ABC19980120.1830.0957</td>\n",
       "      <td>tried</td>\n",
       "      <td>hasten</td>\n",
       "      <td>417</td>\n",
       "      <td>418</td>\n",
       "      <td>VAGUE</td>\n",
       "    </tr>\n",
       "    <tr>\n",
       "      <th>3</th>\n",
       "      <td>ABC19980120.1830.0957</td>\n",
       "      <td>predicted</td>\n",
       "      <td>endures</td>\n",
       "      <td>415</td>\n",
       "      <td>419</td>\n",
       "      <td>BEFORE</td>\n",
       "    </tr>\n",
       "    <tr>\n",
       "      <th>4</th>\n",
       "      <td>ABC19980120.1830.0957</td>\n",
       "      <td>tried</td>\n",
       "      <td>endures</td>\n",
       "      <td>417</td>\n",
       "      <td>419</td>\n",
       "      <td>BEFORE</td>\n",
       "    </tr>\n",
       "    <tr>\n",
       "      <th>...</th>\n",
       "      <td>...</td>\n",
       "      <td>...</td>\n",
       "      <td>...</td>\n",
       "      <td>...</td>\n",
       "      <td>...</td>\n",
       "      <td>...</td>\n",
       "    </tr>\n",
       "    <tr>\n",
       "      <th>6331</th>\n",
       "      <td>wsj_0586</td>\n",
       "      <td>closed</td>\n",
       "      <td>cited</td>\n",
       "      <td>1511</td>\n",
       "      <td>1515</td>\n",
       "      <td>BEFORE</td>\n",
       "    </tr>\n",
       "    <tr>\n",
       "      <th>6332</th>\n",
       "      <td>wsj_0586</td>\n",
       "      <td>mixed</td>\n",
       "      <td>cited</td>\n",
       "      <td>1513</td>\n",
       "      <td>1515</td>\n",
       "      <td>BEFORE</td>\n",
       "    </tr>\n",
       "    <tr>\n",
       "      <th>6333</th>\n",
       "      <td>wsj_0586</td>\n",
       "      <td>cited</td>\n",
       "      <td>closed</td>\n",
       "      <td>1515</td>\n",
       "      <td>1517</td>\n",
       "      <td>AFTER</td>\n",
       "    </tr>\n",
       "    <tr>\n",
       "      <th>6334</th>\n",
       "      <td>wsj_0586</td>\n",
       "      <td>closed</td>\n",
       "      <td>caused</td>\n",
       "      <td>1517</td>\n",
       "      <td>1521</td>\n",
       "      <td>AFTER</td>\n",
       "    </tr>\n",
       "    <tr>\n",
       "      <th>6335</th>\n",
       "      <td>wsj_0586</td>\n",
       "      <td>caused</td>\n",
       "      <td>calculated</td>\n",
       "      <td>1521</td>\n",
       "      <td>1524</td>\n",
       "      <td>BEFORE</td>\n",
       "    </tr>\n",
       "  </tbody>\n",
       "</table>\n",
       "<p>6336 rows × 6 columns</p>\n",
       "</div>"
      ],
      "text/plain": [
       "                      docid      verb1       verb2  eiid1  eiid2 relation\n",
       "0     ABC19980120.1830.0957  predicted       tried    415    417   BEFORE\n",
       "1     ABC19980120.1830.0957  predicted      hasten    415    418   BEFORE\n",
       "2     ABC19980120.1830.0957      tried      hasten    417    418    VAGUE\n",
       "3     ABC19980120.1830.0957  predicted     endures    415    419   BEFORE\n",
       "4     ABC19980120.1830.0957      tried     endures    417    419   BEFORE\n",
       "...                     ...        ...         ...    ...    ...      ...\n",
       "6331               wsj_0586     closed       cited   1511   1515   BEFORE\n",
       "6332               wsj_0586      mixed       cited   1513   1515   BEFORE\n",
       "6333               wsj_0586      cited      closed   1515   1517    AFTER\n",
       "6334               wsj_0586     closed      caused   1517   1521    AFTER\n",
       "6335               wsj_0586     caused  calculated   1521   1524   BEFORE\n",
       "\n",
       "[6336 rows x 6 columns]"
      ]
     },
     "execution_count": 5,
     "metadata": {},
     "output_type": "execute_result"
    }
   ],
   "source": [
    "timebank_df = pd.read_csv(MATRES_DATA_PATH / 'timebank.txt', sep='\\t', header=None,\n",
    "                         names=['docid', 'verb1', 'verb2', 'eiid1', 'eiid2', 'relation'])\n",
    "timebank_df"
   ]
  },
  {
   "cell_type": "code",
   "execution_count": 7,
   "metadata": {
    "ExecuteTime": {
     "end_time": "2023-09-05T18:52:44.566364Z",
     "start_time": "2023-09-05T18:52:44.560398Z"
    },
    "collapsed": false,
    "jupyter": {
     "outputs_hidden": false
    }
   },
   "outputs": [
    {
     "data": {
      "text/plain": [
       "182"
      ]
     },
     "execution_count": 7,
     "metadata": {},
     "output_type": "execute_result"
    }
   ],
   "source": [
    "timebank_df.docid.nunique()"
   ]
  },
  {
   "cell_type": "code",
   "execution_count": 75,
   "metadata": {
    "ExecuteTime": {
     "end_time": "2023-08-28T18:49:36.561586Z",
     "start_time": "2023-08-28T18:49:35.413261Z"
    },
    "collapsed": false,
    "jupyter": {
     "outputs_hidden": false
    }
   },
   "outputs": [
    {
     "data": {
      "image/png": "[encoded data removed]",
      "text/plain": [
       "<Figure size 1500x1000 with 4 Axes>"
      ]
     },
     "metadata": {},
     "output_type": "display_data"
    }
   ],
   "source": [
    "fig, axes = plt.subplots(2, 2, sharey=True, figsize=(15, 10))\n",
    "platinum_relation_df = plot_relation_bars(df=platinum_df, ax=axes[0][0], title='platinum')\n",
    "timebank_relation_df = plot_relation_bars(df=timebank_df, ax=axes[0][1], title='timebank')\n",
    "aquaint_relation_df = plot_relation_bars(df=aquaint_df, ax=axes[1][0], title='aquaint')"
   ]
  },
  {
   "cell_type": "code",
   "execution_count": 76,
   "metadata": {
    "ExecuteTime": {
     "end_time": "2023-08-28T18:49:47.203181Z",
     "start_time": "2023-08-28T18:49:47.188954Z"
    },
    "collapsed": false,
    "jupyter": {
     "outputs_hidden": false
    }
   },
   "outputs": [
    {
     "data": {
      "text/html": [
       "<style type=\"text/css\">\n",
       "</style>\n",
       "<table id=\"T_63119\" style='display:inline'>\n",
       "  <caption>platinum</caption>\n",
       "  <thead>\n",
       "    <tr>\n",
       "      <th class=\"blank level0\" >&nbsp;</th>\n",
       "      <th id=\"T_63119_level0_col0\" class=\"col_heading level0 col0\" >relation</th>\n",
       "      <th id=\"T_63119_level0_col1\" class=\"col_heading level0 col1\" >count</th>\n",
       "    </tr>\n",
       "  </thead>\n",
       "  <tbody>\n",
       "    <tr>\n",
       "      <th id=\"T_63119_level0_row0\" class=\"row_heading level0 row0\" >0</th>\n",
       "      <td id=\"T_63119_row0_col0\" class=\"data row0 col0\" >BEFORE</td>\n",
       "      <td id=\"T_63119_row0_col1\" class=\"data row0 col1\" >424</td>\n",
       "    </tr>\n",
       "    <tr>\n",
       "      <th id=\"T_63119_level0_row1\" class=\"row_heading level0 row1\" >1</th>\n",
       "      <td id=\"T_63119_row1_col0\" class=\"data row1 col0\" >AFTER</td>\n",
       "      <td id=\"T_63119_row1_col1\" class=\"data row1 col1\" >269</td>\n",
       "    </tr>\n",
       "    <tr>\n",
       "      <th id=\"T_63119_level0_row2\" class=\"row_heading level0 row2\" >2</th>\n",
       "      <td id=\"T_63119_row2_col0\" class=\"data row2 col0\" >VAGUE</td>\n",
       "      <td id=\"T_63119_row2_col1\" class=\"data row2 col1\" >113</td>\n",
       "    </tr>\n",
       "    <tr>\n",
       "      <th id=\"T_63119_level0_row3\" class=\"row_heading level0 row3\" >3</th>\n",
       "      <td id=\"T_63119_row3_col0\" class=\"data row3 col0\" >EQUAL</td>\n",
       "      <td id=\"T_63119_row3_col1\" class=\"data row3 col1\" >31</td>\n",
       "    </tr>\n",
       "  </tbody>\n",
       "</table>\n",
       "<style type=\"text/css\">\n",
       "</style>\n",
       "<table id=\"T_ce2ba\" style='display:inline'>\n",
       "  <caption>timebank</caption>\n",
       "  <thead>\n",
       "    <tr>\n",
       "      <th class=\"blank level0\" >&nbsp;</th>\n",
       "      <th id=\"T_ce2ba_level0_col0\" class=\"col_heading level0 col0\" >relation</th>\n",
       "      <th id=\"T_ce2ba_level0_col1\" class=\"col_heading level0 col1\" >count</th>\n",
       "    </tr>\n",
       "  </thead>\n",
       "  <tbody>\n",
       "    <tr>\n",
       "      <th id=\"T_ce2ba_level0_row0\" class=\"row_heading level0 row0\" >0</th>\n",
       "      <td id=\"T_ce2ba_row0_col0\" class=\"data row0 col0\" >BEFORE</td>\n",
       "      <td id=\"T_ce2ba_row0_col1\" class=\"data row0 col1\" >3229</td>\n",
       "    </tr>\n",
       "    <tr>\n",
       "      <th id=\"T_ce2ba_level0_row1\" class=\"row_heading level0 row1\" >1</th>\n",
       "      <td id=\"T_ce2ba_row1_col0\" class=\"data row1 col0\" >AFTER</td>\n",
       "      <td id=\"T_ce2ba_row1_col1\" class=\"data row1 col1\" >2044</td>\n",
       "    </tr>\n",
       "    <tr>\n",
       "      <th id=\"T_ce2ba_level0_row2\" class=\"row_heading level0 row2\" >2</th>\n",
       "      <td id=\"T_ce2ba_row2_col0\" class=\"data row2 col0\" >VAGUE</td>\n",
       "      <td id=\"T_ce2ba_row2_col1\" class=\"data row2 col1\" >855</td>\n",
       "    </tr>\n",
       "    <tr>\n",
       "      <th id=\"T_ce2ba_level0_row3\" class=\"row_heading level0 row3\" >3</th>\n",
       "      <td id=\"T_ce2ba_row3_col0\" class=\"data row3 col0\" >EQUAL</td>\n",
       "      <td id=\"T_ce2ba_row3_col1\" class=\"data row3 col1\" >208</td>\n",
       "    </tr>\n",
       "  </tbody>\n",
       "</table>\n",
       "<style type=\"text/css\">\n",
       "</style>\n",
       "<table id=\"T_c63f6\" style='display:inline'>\n",
       "  <caption>aquaint</caption>\n",
       "  <thead>\n",
       "    <tr>\n",
       "      <th class=\"blank level0\" >&nbsp;</th>\n",
       "      <th id=\"T_c63f6_level0_col0\" class=\"col_heading level0 col0\" >relation</th>\n",
       "      <th id=\"T_c63f6_level0_col1\" class=\"col_heading level0 col1\" >count</th>\n",
       "    </tr>\n",
       "  </thead>\n",
       "  <tbody>\n",
       "    <tr>\n",
       "      <th id=\"T_c63f6_level0_row0\" class=\"row_heading level0 row0\" >0</th>\n",
       "      <td id=\"T_c63f6_row0_col0\" class=\"data row0 col0\" >BEFORE</td>\n",
       "      <td id=\"T_c63f6_row0_col1\" class=\"data row0 col1\" >3233</td>\n",
       "    </tr>\n",
       "    <tr>\n",
       "      <th id=\"T_c63f6_level0_row1\" class=\"row_heading level0 row1\" >1</th>\n",
       "      <td id=\"T_c63f6_row1_col0\" class=\"data row1 col0\" >AFTER</td>\n",
       "      <td id=\"T_c63f6_row1_col1\" class=\"data row1 col1\" >2263</td>\n",
       "    </tr>\n",
       "    <tr>\n",
       "      <th id=\"T_c63f6_level0_row2\" class=\"row_heading level0 row2\" >2</th>\n",
       "      <td id=\"T_c63f6_row2_col0\" class=\"data row2 col0\" >VAGUE</td>\n",
       "      <td id=\"T_c63f6_row2_col1\" class=\"data row2 col1\" >676</td>\n",
       "    </tr>\n",
       "    <tr>\n",
       "      <th id=\"T_c63f6_level0_row3\" class=\"row_heading level0 row3\" >3</th>\n",
       "      <td id=\"T_c63f6_row3_col0\" class=\"data row3 col0\" >EQUAL</td>\n",
       "      <td id=\"T_c63f6_row3_col1\" class=\"data row3 col1\" >232</td>\n",
       "    </tr>\n",
       "  </tbody>\n",
       "</table>\n"
      ]
     },
     "metadata": {},
     "output_type": "display_data"
    }
   ],
   "source": [
    "from IPython.display import display_html\n",
    "\n",
    "platinum_styler = platinum_relation_df.style.set_table_attributes(\"style='display:inline'\").set_caption('platinum')\n",
    "timebank_styler = timebank_relation_df.style.set_table_attributes(\"style='display:inline'\").set_caption('timebank')\n",
    "aquaint_styler = aquaint_relation_df.style.set_table_attributes(\"style='display:inline'\").set_caption('aquaint')\n",
    "\n",
    "display_html(platinum_styler._repr_html_()+timebank_styler._repr_html_()+aquaint_styler._repr_html_(), raw=True)"
   ]
  },
  {
   "cell_type": "code",
   "execution_count": 4,
   "metadata": {
    "ExecuteTime": {
     "end_time": "2023-09-24T10:16:47.767752Z",
     "start_time": "2023-09-24T10:16:47.760647Z"
    },
    "collapsed": false,
    "jupyter": {
     "outputs_hidden": false
    }
   },
   "outputs": [],
   "source": [
    "from functools import reduce\n",
    "\n",
    "supported_relation = ['AFTER', 'BEFORE']\n",
    "\n",
    "def create_edges(df):\n",
    "    edges_df = pd.DataFrame()\n",
    "    edges_df[['source', 'target']] = df[['docid', 'eiid1', 'eiid2', 'relation']] \\\n",
    "        .apply(lambda row: (f\"{row.docid}-{row['eiid2']}\" ,f\"{row.docid}-{row['eiid1']}\")\n",
    "                if row['relation'] == 'AFTER' else (f\"{row.docid}-{row['eiid1']}\" , f\"{row.docid}-{row['eiid2']}\"),\n",
    "               axis='columns', result_type=\"expand\")\n",
    "    return edges_df\n",
    "\n",
    "def create_nodes(df):\n",
    "    nodes_raw_df = df.apply(lambda row: [dict(docid=row.docid, verb=row.verb1, eiid=f\"{row.docid}-{row.eiid1}\"),\n",
    "                                  dict(docid=row.docid, verb=row.verb2, eiid=f\"{row.docid}-{row.eiid2}\")], axis='columns').to_list()\n",
    "    nodes_flatten = reduce(lambda x, y: x+y, nodes_raw_df)\n",
    "    return pd.DataFrame(nodes_flatten).drop_duplicates(ignore_index=True)\n",
    "\n",
    "def generate_directed_graph(df, relations=supported_relation):\n",
    "    df = df.loc[df['relation'].isin(relations)]\n",
    "    edges = create_edges(df)\n",
    "    nodes = create_nodes(df)\n",
    "\n",
    "    G = nx.DiGraph()\n",
    "    G = nx.from_pandas_edgelist(edges, create_using=nx.DiGraph)\n",
    "    nx.set_node_attributes(G, dict(zip(nodes.eiid, nodes.docid)), 'docid')\n",
    "    nx.set_node_attributes(G, dict(zip(nodes.eiid, nodes.verb)), 'verb')\n",
    "    return G\n",
    "\n",
    "def generate_subgraph_by_docid(graph, doc_id):\n",
    "    sub_graph = []\n",
    "    for (n, data) in aquaint_graph.nodes(data=True):\n",
    "      if data['docid'] == doc_id:\n",
    "        sub_graph.append(n)\n",
    "    \n",
    "    return aquaint_graph.subgraph(sub_graph).copy()"
   ]
  },
  {
   "cell_type": "code",
   "execution_count": 5,
   "metadata": {
    "ExecuteTime": {
     "end_time": "2023-09-24T10:16:50.272138Z",
     "start_time": "2023-09-24T10:16:50.212914Z"
    }
   },
   "outputs": [],
   "source": [
    "def draw_directed_graph(graph):\n",
    "    import matplotlib.pyplot as plt\n",
    "\n",
    "    plt.rcParams[\"figure.figsize\"] = (15,10)\n",
    "\n",
    "    labels = nx.get_node_attributes(graph, 'verb') \n",
    "    pos = nx.circular_layout(graph)\n",
    "    \n",
    "    nx.draw_networkx_nodes(graph, pos)\n",
    "    nx.draw_networkx_labels(graph, pos, labels=labels)\n",
    "    nx.draw_networkx_edges(\n",
    "        graph, \n",
    "        pos, \n",
    "        arrows=True,\n",
    "        edgelist=graph.edges(), \n",
    "        edge_color='blue', \n",
    "        width=3, \n",
    "        label=\"S\", \n",
    "        arrowstyle='-|>')\n",
    "    \n",
    "    # plt.legend(fontsize = 'medium')\n",
    "    plt.show()"
   ]
  },
  {
   "cell_type": "code",
   "execution_count": 34,
   "metadata": {
    "ExecuteTime": {
     "end_time": "2023-09-24T10:38:51.849777Z",
     "start_time": "2023-09-24T10:38:51.843248Z"
    }
   },
   "outputs": [],
   "source": [
    "from itertools import chain, product, starmap\n",
    "from functools import partial\n",
    "\n",
    "def create_simple_graph(graph):\n",
    "\n",
    "    # find connected components\n",
    "    conn_components = nx.connected_components(graph.to_undirected())\n",
    "\n",
    "    simple_edges = []\n",
    "    for nodes in conn_components:\n",
    "        # create copy of DiGraph\n",
    "        sub_shallow = graph.subgraph(nodes).copy()\n",
    "\n",
    "        if len(sub_shallow.edges) <= 2:\n",
    "            simple_edges.extend([edge for edge in sub_shallow.edges])\n",
    "            continue\n",
    "            \n",
    "        new_graph = nx.DiGraph()\n",
    "        new_graph.add_nodes_from(sub_shallow.nodes(data=True))\n",
    "        new_graph.add_edges_from(sub_shallow.edges)\n",
    "    \n",
    "        # find simple paths\n",
    "        chaini = chain.from_iterable\n",
    "        roots = (v for v, d in new_graph.in_degree() if d == 0)\n",
    "        leaves = (v for v, d in new_graph.out_degree() if d == 0)\n",
    "        \n",
    "        all_paths = partial(nx.all_simple_paths, new_graph)\n",
    "        all_simple_paths = chaini(starmap(all_paths, product(roots, leaves)))\n",
    "        \n",
    "        # remove redundant paths\n",
    "        sorted_path = sorted(all_simple_paths, key=lambda x: -len(x))\n",
    "        sorted_path = [list(zip(path[:-1], path[1:])) for path in sorted_path]\n",
    "        max_path = set(sorted_path[0])\n",
    "\n",
    "        simple_edges.append(sorted_path[0])\n",
    "        for path in sorted_path[1:]:\n",
    "            if len(max_path | set(path)) > len(max_path):\n",
    "                max_path.update(path)\n",
    "                simple_edges.append(path)\n",
    "\n",
    "    simple_graph = nx.DiGraph()\n",
    "    simple_graph.add_nodes_from(graph.nodes(data=True))\n",
    "\n",
    "    for path in simple_edges:\n",
    "        nx.add_path(simple_graph, path)\n",
    "        \n",
    "    return simple_graph, simple_edges"
   ]
  },
  {
   "cell_type": "code",
   "execution_count": 7,
   "metadata": {
    "ExecuteTime": {
     "end_time": "2023-09-24T10:17:36.001814Z",
     "start_time": "2023-09-24T10:17:34.889180Z"
    },
    "collapsed": false,
    "jupyter": {
     "outputs_hidden": false
    }
   },
   "outputs": [],
   "source": [
    "aquaint_graph = generate_directed_graph(df=aquaint_df)"
   ]
  },
  {
   "cell_type": "code",
   "execution_count": 14,
   "metadata": {
    "ExecuteTime": {
     "end_time": "2023-09-24T10:20:43.370814Z",
     "start_time": "2023-09-24T10:20:43.361461Z"
    }
   },
   "outputs": [],
   "source": [
    "k = generate_subgraph_by_docid(aquaint_graph, doc_id='XIE19990227.0171')\n",
    "# simple_k, simple_k_edges = create_simple_graph(graph=k)\n",
    "# draw_directed_graph(simple_k)"
   ]
  },
  {
   "cell_type": "code",
   "execution_count": 52,
   "metadata": {
    "ExecuteTime": {
     "end_time": "2023-09-24T10:56:14.041587Z",
     "start_time": "2023-09-24T10:56:13.742436Z"
    },
    "collapsed": false,
    "jupyter": {
     "outputs_hidden": false
    }
   },
   "outputs": [
    {
     "data": {
      "image/png": "[encoded data removed]",
      "text/plain": [
       "<Figure size 1500x1000 with 1 Axes>"
      ]
     },
     "metadata": {},
     "output_type": "display_data"
    }
   ],
   "source": [
    "conn_components = nx.connected_components(k.to_undirected())\n",
    "\n",
    "simple_edges = []\n",
    "for nodes in conn_components:\n",
    "    # create copy of DiGraph\n",
    "    sub_shallow = aquaint_graph.subgraph(nodes).copy()\n",
    "\n",
    "    if len(sub_shallow.edges) <= 2:\n",
    "            simple_edges.extend([edge for edge in sub_shallow.edges])\n",
    "            continue\n",
    "\n",
    "    new_graph = nx.DiGraph()\n",
    "    new_graph.add_nodes_from(sub_shallow.nodes(data=True))\n",
    "    new_graph.add_edges_from(sub_shallow.edges)\n",
    "\n",
    "    chaini = chain.from_iterable\n",
    "    roots = (v for v, d in new_graph.in_degree() if d == 0)\n",
    "    leaves = (v for v, d in new_graph.out_degree() if d == 0)\n",
    "\n",
    "    all_paths = partial(nx.all_simple_paths, new_graph)\n",
    "    all_simple_paths = chaini(starmap(all_paths, product(roots, leaves)))\n",
    "\n",
    "    # remove redundant paths\n",
    "    sorted_path = sorted(all_simple_paths, key=lambda x: -len(x))\n",
    "    sorted_path = [list(zip(path[:-1], path[1:])) for path in sorted_path]\n",
    "    max_path = set(sorted_path[0])\n",
    "\n",
    "    simple_edges.extend(sorted_path[0])\n",
    "    for path in sorted_path[1:]:\n",
    "        for edge in path:\n",
    "            if len(max_path | set(edge)) > len(max_path):\n",
    "                max_path.update(edge)\n",
    "                simple_edges.append(edge)\n",
    "\n",
    "    draw_directed_graph(new_graph)\n",
    "    break"
   ]
  },
  {
   "cell_type": "code",
   "execution_count": 53,
   "metadata": {
    "ExecuteTime": {
     "end_time": "2023-09-24T10:56:15.221485Z",
     "start_time": "2023-09-24T10:56:14.945349Z"
    },
    "collapsed": false,
    "jupyter": {
     "outputs_hidden": false
    }
   },
   "outputs": [
    {
     "data": {
      "image/png": "[encoded data removed]",
      "text/plain": [
       "<Figure size 1500x1000 with 1 Axes>"
      ]
     },
     "metadata": {},
     "output_type": "display_data"
    }
   ],
   "source": [
    "simple_edges\n",
    "\n",
    "simple_graph = nx.DiGraph()\n",
    "simple_graph.add_nodes_from(new_graph.nodes(data=True))\n",
    "simple_graph.add_edges_from(simple_edges)\n",
    "\n",
    "draw_directed_graph(simple_graph)"
   ]
  },
  {
   "cell_type": "code",
   "execution_count": 48,
   "metadata": {},
   "outputs": [
    {
     "data": {
      "image/png": "[encoded data removed]",
      "text/plain": [
       "<Figure size 1500x1000 with 1 Axes>"
      ]
     },
     "metadata": {},
     "output_type": "display_data"
    }
   ],
   "source": [
    "draw_directed_graph(k)"
   ]
  },
  {
   "cell_type": "code",
   "execution_count": 26,
   "metadata": {
    "ExecuteTime": {
     "end_time": "2023-09-05T19:27:39.156161Z",
     "start_time": "2023-09-05T19:27:39.148171Z"
    },
    "collapsed": false,
    "jupyter": {
     "outputs_hidden": false
    }
   },
   "outputs": [
    {
     "data": {
      "text/plain": [
       "[('XIE19990227.0171-10', {'docid': 'XIE19990227.0171', 'verb': 'join'}),\n",
       " ('XIE19990227.0171-13', {'docid': 'XIE19990227.0171', 'verb': 'invited'}),\n",
       " ('XIE19990227.0171-15', {'docid': 'XIE19990227.0171', 'verb': 'travel'}),\n",
       " ('XIE19990227.0171-6', {'docid': 'XIE19990227.0171', 'verb': 'were'}),\n",
       " ('XIE19990227.0171-8', {'docid': 'XIE19990227.0171', 'verb': 'invited'}),\n",
       " ('XIE19990227.0171-12', {'docid': 'XIE19990227.0171', 'verb': 'signed'})]"
      ]
     },
     "execution_count": 26,
     "metadata": {},
     "output_type": "execute_result"
    }
   ],
   "source": [
    "[n for n in k.nodes(data=True)]"
   ]
  },
  {
   "cell_type": "code",
   "execution_count": 28,
   "metadata": {
    "ExecuteTime": {
     "end_time": "2023-09-05T19:28:20.186262Z",
     "start_time": "2023-09-05T19:28:20.176716Z"
    },
    "collapsed": false,
    "jupyter": {
     "outputs_hidden": false
    }
   },
   "outputs": [],
   "source": [
    "mapping_k = {n: d['verb'] for n, d in k.nodes(data=True)}"
   ]
  },
  {
   "cell_type": "code",
   "execution_count": 29,
   "metadata": {
    "ExecuteTime": {
     "end_time": "2023-09-05T19:29:27.387479Z",
     "start_time": "2023-09-05T19:29:27.375907Z"
    },
    "collapsed": false,
    "jupyter": {
     "outputs_hidden": false
    }
   },
   "outputs": [
    {
     "data": {
      "text/plain": [
       "[['join', 'were', 'invited', 'signed'],\n",
       " ['invited', 'travel'],\n",
       " ['invited', 'signed']]"
      ]
     },
     "execution_count": 29,
     "metadata": {},
     "output_type": "execute_result"
    }
   ],
   "source": [
    "[[mapping_k[p] for p in lp] for lp in simple_k_edges]"
   ]
  },
  {
   "cell_type": "code",
   "execution_count": 49,
   "metadata": {},
   "outputs": [
    {
     "name": "stdout",
     "output_type": "stream",
     "text": [
      "{'XIE19990227.0171-13', 'XIE19990227.0171-12', 'XIE19990227.0171-8', 'XIE19990227.0171-6', 'XIE19990227.0171-10', 'XIE19990227.0171-15'}\n"
     ]
    },
    {
     "data": {
      "image/png": "[encoded data removed]",
      "text/plain": [
       "<Figure size 1500x1000 with 1 Axes>"
      ]
     },
     "metadata": {},
     "output_type": "display_data"
    }
   ],
   "source": [
    "simple_k = create_simple_graph(graph=k)\n",
    "draw_directed_graph(simple_k)"
   ]
  },
  {
   "cell_type": "code",
   "execution_count": 8,
   "metadata": {
    "ExecuteTime": {
     "end_time": "2023-08-28T21:43:22.419086Z",
     "start_time": "2023-08-28T21:43:15.705071Z"
    },
    "collapsed": false,
    "jupyter": {
     "outputs_hidden": false
    }
   },
   "outputs": [
    {
     "name": "stdout",
     "output_type": "stream",
     "text": [
      "test.html\n"
     ]
    },
    {
     "data": {
      "text/html": [
       "\n",
       "        <iframe\n",
       "            width=\"100%\"\n",
       "            height=\"600px\"\n",
       "            src=\"test.html\"\n",
       "            frameborder=\"0\"\n",
       "            allowfullscreen\n",
       "            \n",
       "        ></iframe>\n",
       "        "
      ],
      "text/plain": [
       "<IPython.lib.display.IFrame at 0x1066710d0>"
      ]
     },
     "execution_count": 8,
     "metadata": {},
     "output_type": "execute_result"
    }
   ],
   "source": [
    "# from pyvis.network import Network\n",
    "\n",
    "# net = Network(\n",
    "#     directed = True,\n",
    "#     select_menu = True, # Show part 1 in the plot (optional)\n",
    "#     filter_menu = True, # Show part 2 in the plot (optional)\n",
    "#     notebook=True,\n",
    "#     cdn_resources='in_line'\n",
    "# )\n",
    "# net.show_buttons() # Show part 3 in the plot (optional)\n",
    "# net.from_nx(G) # Create directly from nx graph\n",
    "# net.show('test.html')"
   ]
  },
  {
   "cell_type": "code",
   "execution_count": 6,
   "metadata": {
    "ExecuteTime": {
     "end_time": "2024-01-30T18:36:33.968344Z",
     "start_time": "2024-01-30T18:36:33.695989Z"
    },
    "collapsed": false,
    "jupyter": {
     "outputs_hidden": false
    }
   },
   "outputs": [],
   "source": [
    "from neo4j import GraphDatabase\n",
    "\n",
    "uri = \"bolt://localhost:7687\"\n",
    "username = password = \"neo4j\"\n",
    "driver = GraphDatabase.driver(uri, auth=(username, password))"
   ]
  },
  {
   "cell_type": "code",
   "execution_count": 6,
   "metadata": {
    "ExecuteTime": {
     "end_time": "2024-02-01T19:12:50.055874Z",
     "start_time": "2024-02-01T19:12:50.032462Z"
    },
    "collapsed": false,
    "jupyter": {
     "outputs_hidden": false
    }
   },
   "outputs": [],
   "source": [
    "supported_relation = ['AFTER', 'BEFORE']\n",
    "\n",
    "def generate_graph_relation(df, relations=supported_relation):\n",
    "    df = df.loc[df['relation'].isin(relations)]\n",
    "    edges_df = pd.DataFrame()\n",
    "    edges_df[['source', 'target', 'relation']] = df[['docid', 'eiid1', 'eiid2', 'relation']] \\\n",
    "            .apply(lambda row: (f\"{row.docid}-{row['eiid2']}\" ,f\"{row.docid}-{row['eiid1']}\", row.relation)\n",
    "                    if row['relation'] == 'AFTER' else (f\"{row.docid}-{row['eiid1']}\" , f\"{row.docid}-{row['eiid2']}\", row.relation),\n",
    "                   axis='columns', result_type=\"expand\")\n",
    "    return edges_df"
   ]
  },
  {
   "cell_type": "code",
   "execution_count": 7,
   "metadata": {
    "ExecuteTime": {
     "end_time": "2024-02-01T19:12:51.693456Z",
     "start_time": "2024-02-01T19:12:51.227674Z"
    },
    "collapsed": false,
    "jupyter": {
     "outputs_hidden": false
    }
   },
   "outputs": [
    {
     "data": {
      "text/html": [
       "<div>\n",
       "<style scoped>\n",
       "    .dataframe tbody tr th:only-of-type {\n",
       "        vertical-align: middle;\n",
       "    }\n",
       "\n",
       "    .dataframe tbody tr th {\n",
       "        vertical-align: top;\n",
       "    }\n",
       "\n",
       "    .dataframe thead th {\n",
       "        text-align: right;\n",
       "    }\n",
       "</style>\n",
       "<table border=\"1\" class=\"dataframe\">\n",
       "  <thead>\n",
       "    <tr style=\"text-align: right;\">\n",
       "      <th></th>\n",
       "      <th>source</th>\n",
       "      <th>target</th>\n",
       "      <th>relation</th>\n",
       "    </tr>\n",
       "  </thead>\n",
       "  <tbody>\n",
       "    <tr>\n",
       "      <th>0</th>\n",
       "      <td>NYT20000406.0002-2</td>\n",
       "      <td>NYT20000406.0002-1</td>\n",
       "      <td>AFTER</td>\n",
       "    </tr>\n",
       "    <tr>\n",
       "      <th>1</th>\n",
       "      <td>NYT20000406.0002-5</td>\n",
       "      <td>NYT20000406.0002-2</td>\n",
       "      <td>AFTER</td>\n",
       "    </tr>\n",
       "    <tr>\n",
       "      <th>3</th>\n",
       "      <td>NYT20000406.0002-17</td>\n",
       "      <td>NYT20000406.0002-21</td>\n",
       "      <td>BEFORE</td>\n",
       "    </tr>\n",
       "    <tr>\n",
       "      <th>4</th>\n",
       "      <td>NYT20000406.0002-19</td>\n",
       "      <td>NYT20000406.0002-21</td>\n",
       "      <td>BEFORE</td>\n",
       "    </tr>\n",
       "    <tr>\n",
       "      <th>6</th>\n",
       "      <td>NYT19990419.0515-3</td>\n",
       "      <td>NYT19990419.0515-2</td>\n",
       "      <td>AFTER</td>\n",
       "    </tr>\n",
       "    <tr>\n",
       "      <th>...</th>\n",
       "      <td>...</td>\n",
       "      <td>...</td>\n",
       "      <td>...</td>\n",
       "    </tr>\n",
       "    <tr>\n",
       "      <th>6396</th>\n",
       "      <td>APW19980911.0475-27</td>\n",
       "      <td>APW19980911.0475-31</td>\n",
       "      <td>BEFORE</td>\n",
       "    </tr>\n",
       "    <tr>\n",
       "      <th>6400</th>\n",
       "      <td>APW19980911.0475-30</td>\n",
       "      <td>APW19980911.0475-29</td>\n",
       "      <td>AFTER</td>\n",
       "    </tr>\n",
       "    <tr>\n",
       "      <th>6401</th>\n",
       "      <td>APW19980911.0475-31</td>\n",
       "      <td>APW19980911.0475-29</td>\n",
       "      <td>AFTER</td>\n",
       "    </tr>\n",
       "    <tr>\n",
       "      <th>6402</th>\n",
       "      <td>APW19980911.0475-30</td>\n",
       "      <td>APW19980911.0475-31</td>\n",
       "      <td>BEFORE</td>\n",
       "    </tr>\n",
       "    <tr>\n",
       "      <th>6403</th>\n",
       "      <td>APW19980911.0475-33</td>\n",
       "      <td>APW19980911.0475-34</td>\n",
       "      <td>BEFORE</td>\n",
       "    </tr>\n",
       "  </tbody>\n",
       "</table>\n",
       "<p>5496 rows × 3 columns</p>\n",
       "</div>"
      ],
      "text/plain": [
       "                   source               target relation\n",
       "0      NYT20000406.0002-2   NYT20000406.0002-1    AFTER\n",
       "1      NYT20000406.0002-5   NYT20000406.0002-2    AFTER\n",
       "3     NYT20000406.0002-17  NYT20000406.0002-21   BEFORE\n",
       "4     NYT20000406.0002-19  NYT20000406.0002-21   BEFORE\n",
       "6      NYT19990419.0515-3   NYT19990419.0515-2    AFTER\n",
       "...                   ...                  ...      ...\n",
       "6396  APW19980911.0475-27  APW19980911.0475-31   BEFORE\n",
       "6400  APW19980911.0475-30  APW19980911.0475-29    AFTER\n",
       "6401  APW19980911.0475-31  APW19980911.0475-29    AFTER\n",
       "6402  APW19980911.0475-30  APW19980911.0475-31   BEFORE\n",
       "6403  APW19980911.0475-33  APW19980911.0475-34   BEFORE\n",
       "\n",
       "[5496 rows x 3 columns]"
      ]
     },
     "execution_count": 7,
     "metadata": {},
     "output_type": "execute_result"
    }
   ],
   "source": [
    "aquaint_graph = generate_graph_relation(df=aquaint_df)\n",
    "aquaint_graph"
   ]
  },
  {
   "cell_type": "code",
   "execution_count": 8,
   "metadata": {
    "ExecuteTime": {
     "end_time": "2024-02-01T19:12:59.259978Z",
     "start_time": "2024-02-01T19:12:58.952575Z"
    },
    "collapsed": false,
    "jupyter": {
     "outputs_hidden": false
    }
   },
   "outputs": [
    {
     "data": {
      "text/html": [
       "<div>\n",
       "<style scoped>\n",
       "    .dataframe tbody tr th:only-of-type {\n",
       "        vertical-align: middle;\n",
       "    }\n",
       "\n",
       "    .dataframe tbody tr th {\n",
       "        vertical-align: top;\n",
       "    }\n",
       "\n",
       "    .dataframe thead th {\n",
       "        text-align: right;\n",
       "    }\n",
       "</style>\n",
       "<table border=\"1\" class=\"dataframe\">\n",
       "  <thead>\n",
       "    <tr style=\"text-align: right;\">\n",
       "      <th></th>\n",
       "      <th>docid</th>\n",
       "      <th>verb1</th>\n",
       "      <th>verb2</th>\n",
       "      <th>eiid1</th>\n",
       "      <th>eiid2</th>\n",
       "      <th>relation</th>\n",
       "      <th>eiid1_new</th>\n",
       "      <th>eiid2_new</th>\n",
       "    </tr>\n",
       "  </thead>\n",
       "  <tbody>\n",
       "    <tr>\n",
       "      <th>0</th>\n",
       "      <td>NYT20000406.0002</td>\n",
       "      <td>said</td>\n",
       "      <td>made</td>\n",
       "      <td>1</td>\n",
       "      <td>2</td>\n",
       "      <td>AFTER</td>\n",
       "      <td>NYT20000406.0002-1</td>\n",
       "      <td>NYT20000406.0002-2</td>\n",
       "    </tr>\n",
       "    <tr>\n",
       "      <th>1</th>\n",
       "      <td>NYT20000406.0002</td>\n",
       "      <td>made</td>\n",
       "      <td>raised</td>\n",
       "      <td>2</td>\n",
       "      <td>5</td>\n",
       "      <td>AFTER</td>\n",
       "      <td>NYT20000406.0002-2</td>\n",
       "      <td>NYT20000406.0002-5</td>\n",
       "    </tr>\n",
       "    <tr>\n",
       "      <th>2</th>\n",
       "      <td>NYT20000406.0002</td>\n",
       "      <td>left</td>\n",
       "      <td>stir</td>\n",
       "      <td>17</td>\n",
       "      <td>19</td>\n",
       "      <td>EQUAL</td>\n",
       "      <td>NYT20000406.0002-17</td>\n",
       "      <td>NYT20000406.0002-19</td>\n",
       "    </tr>\n",
       "    <tr>\n",
       "      <th>3</th>\n",
       "      <td>NYT20000406.0002</td>\n",
       "      <td>left</td>\n",
       "      <td>demanded</td>\n",
       "      <td>17</td>\n",
       "      <td>21</td>\n",
       "      <td>BEFORE</td>\n",
       "      <td>NYT20000406.0002-17</td>\n",
       "      <td>NYT20000406.0002-21</td>\n",
       "    </tr>\n",
       "    <tr>\n",
       "      <th>4</th>\n",
       "      <td>NYT20000406.0002</td>\n",
       "      <td>stir</td>\n",
       "      <td>demanded</td>\n",
       "      <td>19</td>\n",
       "      <td>21</td>\n",
       "      <td>BEFORE</td>\n",
       "      <td>NYT20000406.0002-19</td>\n",
       "      <td>NYT20000406.0002-21</td>\n",
       "    </tr>\n",
       "    <tr>\n",
       "      <th>...</th>\n",
       "      <td>...</td>\n",
       "      <td>...</td>\n",
       "      <td>...</td>\n",
       "      <td>...</td>\n",
       "      <td>...</td>\n",
       "      <td>...</td>\n",
       "      <td>...</td>\n",
       "      <td>...</td>\n",
       "    </tr>\n",
       "    <tr>\n",
       "      <th>6399</th>\n",
       "      <td>APW19980911.0475</td>\n",
       "      <td>transferred</td>\n",
       "      <td>transported</td>\n",
       "      <td>28</td>\n",
       "      <td>31</td>\n",
       "      <td>VAGUE</td>\n",
       "      <td>APW19980911.0475-28</td>\n",
       "      <td>APW19980911.0475-31</td>\n",
       "    </tr>\n",
       "    <tr>\n",
       "      <th>6400</th>\n",
       "      <td>APW19980911.0475</td>\n",
       "      <td>said</td>\n",
       "      <td>exploded</td>\n",
       "      <td>29</td>\n",
       "      <td>30</td>\n",
       "      <td>AFTER</td>\n",
       "      <td>APW19980911.0475-29</td>\n",
       "      <td>APW19980911.0475-30</td>\n",
       "    </tr>\n",
       "    <tr>\n",
       "      <th>6401</th>\n",
       "      <td>APW19980911.0475</td>\n",
       "      <td>said</td>\n",
       "      <td>transported</td>\n",
       "      <td>29</td>\n",
       "      <td>31</td>\n",
       "      <td>AFTER</td>\n",
       "      <td>APW19980911.0475-29</td>\n",
       "      <td>APW19980911.0475-31</td>\n",
       "    </tr>\n",
       "    <tr>\n",
       "      <th>6402</th>\n",
       "      <td>APW19980911.0475</td>\n",
       "      <td>exploded</td>\n",
       "      <td>transported</td>\n",
       "      <td>30</td>\n",
       "      <td>31</td>\n",
       "      <td>BEFORE</td>\n",
       "      <td>APW19980911.0475-30</td>\n",
       "      <td>APW19980911.0475-31</td>\n",
       "    </tr>\n",
       "    <tr>\n",
       "      <th>6403</th>\n",
       "      <td>APW19980911.0475</td>\n",
       "      <td>raided</td>\n",
       "      <td>searched</td>\n",
       "      <td>33</td>\n",
       "      <td>34</td>\n",
       "      <td>BEFORE</td>\n",
       "      <td>APW19980911.0475-33</td>\n",
       "      <td>APW19980911.0475-34</td>\n",
       "    </tr>\n",
       "  </tbody>\n",
       "</table>\n",
       "<p>6404 rows × 8 columns</p>\n",
       "</div>"
      ],
      "text/plain": [
       "                 docid        verb1        verb2  eiid1  eiid2 relation  \\\n",
       "0     NYT20000406.0002         said         made      1      2    AFTER   \n",
       "1     NYT20000406.0002         made       raised      2      5    AFTER   \n",
       "2     NYT20000406.0002         left         stir     17     19    EQUAL   \n",
       "3     NYT20000406.0002         left     demanded     17     21   BEFORE   \n",
       "4     NYT20000406.0002         stir     demanded     19     21   BEFORE   \n",
       "...                ...          ...          ...    ...    ...      ...   \n",
       "6399  APW19980911.0475  transferred  transported     28     31    VAGUE   \n",
       "6400  APW19980911.0475         said     exploded     29     30    AFTER   \n",
       "6401  APW19980911.0475         said  transported     29     31    AFTER   \n",
       "6402  APW19980911.0475     exploded  transported     30     31   BEFORE   \n",
       "6403  APW19980911.0475       raided     searched     33     34   BEFORE   \n",
       "\n",
       "                eiid1_new            eiid2_new  \n",
       "0      NYT20000406.0002-1   NYT20000406.0002-2  \n",
       "1      NYT20000406.0002-2   NYT20000406.0002-5  \n",
       "2     NYT20000406.0002-17  NYT20000406.0002-19  \n",
       "3     NYT20000406.0002-17  NYT20000406.0002-21  \n",
       "4     NYT20000406.0002-19  NYT20000406.0002-21  \n",
       "...                   ...                  ...  \n",
       "6399  APW19980911.0475-28  APW19980911.0475-31  \n",
       "6400  APW19980911.0475-29  APW19980911.0475-30  \n",
       "6401  APW19980911.0475-29  APW19980911.0475-31  \n",
       "6402  APW19980911.0475-30  APW19980911.0475-31  \n",
       "6403  APW19980911.0475-33  APW19980911.0475-34  \n",
       "\n",
       "[6404 rows x 8 columns]"
      ]
     },
     "execution_count": 8,
     "metadata": {},
     "output_type": "execute_result"
    }
   ],
   "source": [
    "aquaint_df[['eiid1_new', 'eiid2_new']] = aquaint_df\\\n",
    "            .apply(lambda row: (f\"{row.docid}-{row['eiid1']}\" ,f\"{row.docid}-{row['eiid2']}\"),\n",
    "                   axis='columns', result_type=\"expand\")\n",
    "aquaint_df"
   ]
  },
  {
   "cell_type": "code",
   "execution_count": null,
   "metadata": {
    "collapsed": false,
    "jupyter": {
     "outputs_hidden": false
    }
   },
   "outputs": [],
   "source": [
    "aquaint_df"
   ]
  },
  {
   "cell_type": "code",
   "execution_count": 41,
   "metadata": {
    "ExecuteTime": {
     "end_time": "2024-01-30T20:07:28.122018Z",
     "start_time": "2024-01-30T20:07:28.064044Z"
    },
    "collapsed": false,
    "jupyter": {
     "outputs_hidden": false
    }
   },
   "outputs": [
    {
     "data": {
      "text/html": [
       "<div>\n",
       "<style scoped>\n",
       "    .dataframe tbody tr th:only-of-type {\n",
       "        vertical-align: middle;\n",
       "    }\n",
       "\n",
       "    .dataframe tbody tr th {\n",
       "        vertical-align: top;\n",
       "    }\n",
       "\n",
       "    .dataframe thead th {\n",
       "        text-align: right;\n",
       "    }\n",
       "</style>\n",
       "<table border=\"1\" class=\"dataframe\">\n",
       "  <thead>\n",
       "    <tr style=\"text-align: right;\">\n",
       "      <th></th>\n",
       "      <th>id</th>\n",
       "      <th>verb</th>\n",
       "      <th>docid</th>\n",
       "    </tr>\n",
       "  </thead>\n",
       "  <tbody>\n",
       "    <tr>\n",
       "      <th>0</th>\n",
       "      <td>APW19991008.0151-23</td>\n",
       "      <td>offered</td>\n",
       "      <td>APW19991008.0151</td>\n",
       "    </tr>\n",
       "    <tr>\n",
       "      <th>1</th>\n",
       "      <td>APW20000417.0031-145</td>\n",
       "      <td>abused</td>\n",
       "      <td>APW20000417.0031</td>\n",
       "    </tr>\n",
       "    <tr>\n",
       "      <th>2</th>\n",
       "      <td>NYT19990312.0271-172</td>\n",
       "      <td>brought</td>\n",
       "      <td>NYT19990312.0271</td>\n",
       "    </tr>\n",
       "    <tr>\n",
       "      <th>3</th>\n",
       "      <td>APW20000405.0276-4</td>\n",
       "      <td>won</td>\n",
       "      <td>APW20000405.0276</td>\n",
       "    </tr>\n",
       "    <tr>\n",
       "      <th>4</th>\n",
       "      <td>NYT20000224.0173-4</td>\n",
       "      <td>ducked</td>\n",
       "      <td>NYT20000224.0173</td>\n",
       "    </tr>\n",
       "    <tr>\n",
       "      <th>...</th>\n",
       "      <td>...</td>\n",
       "      <td>...</td>\n",
       "      <td>...</td>\n",
       "    </tr>\n",
       "    <tr>\n",
       "      <th>2399</th>\n",
       "      <td>NYT19990505.0443-2</td>\n",
       "      <td>concluded</td>\n",
       "      <td>NYT19990505.0443</td>\n",
       "    </tr>\n",
       "    <tr>\n",
       "      <th>2400</th>\n",
       "      <td>NYT19990505.0443-60</td>\n",
       "      <td>appears</td>\n",
       "      <td>NYT19990505.0443</td>\n",
       "    </tr>\n",
       "    <tr>\n",
       "      <th>2401</th>\n",
       "      <td>APW19990507.0207-57</td>\n",
       "      <td>charged</td>\n",
       "      <td>APW19990507.0207</td>\n",
       "    </tr>\n",
       "    <tr>\n",
       "      <th>2402</th>\n",
       "      <td>XIE19980808.0188-2</td>\n",
       "      <td>said</td>\n",
       "      <td>XIE19980808.0188</td>\n",
       "    </tr>\n",
       "    <tr>\n",
       "      <th>2403</th>\n",
       "      <td>APW20000405.0276-41</td>\n",
       "      <td>expressed</td>\n",
       "      <td>APW20000405.0276</td>\n",
       "    </tr>\n",
       "  </tbody>\n",
       "</table>\n",
       "<p>2404 rows × 3 columns</p>\n",
       "</div>"
      ],
      "text/plain": [
       "                        id       verb             docid\n",
       "0      APW19991008.0151-23    offered  APW19991008.0151\n",
       "1     APW20000417.0031-145     abused  APW20000417.0031\n",
       "2     NYT19990312.0271-172    brought  NYT19990312.0271\n",
       "3       APW20000405.0276-4        won  APW20000405.0276\n",
       "4       NYT20000224.0173-4     ducked  NYT20000224.0173\n",
       "...                    ...        ...               ...\n",
       "2399    NYT19990505.0443-2  concluded  NYT19990505.0443\n",
       "2400   NYT19990505.0443-60    appears  NYT19990505.0443\n",
       "2401   APW19990507.0207-57    charged  APW19990507.0207\n",
       "2402    XIE19980808.0188-2       said  XIE19980808.0188\n",
       "2403   APW20000405.0276-41  expressed  APW20000405.0276\n",
       "\n",
       "[2404 rows x 3 columns]"
      ]
     },
     "execution_count": 41,
     "metadata": {},
     "output_type": "execute_result"
    }
   ],
   "source": [
    "nodes = set(zip(aquaint_df['eiid1_new'], aquaint_df['verb1'], aquaint_df['docid'])) | set(zip(aquaint_df['eiid2_new'], aquaint_df['verb2'], aquaint_df['docid']))\n",
    "nodes_mapping = pd.DataFrame(columns=['id', 'verb', 'docid'], data=nodes)\n",
    "nodes_mapping"
   ]
  },
  {
   "cell_type": "code",
   "execution_count": 40,
   "metadata": {
    "ExecuteTime": {
     "end_time": "2024-01-30T20:07:17.444683Z",
     "start_time": "2024-01-30T20:07:17.388754Z"
    },
    "collapsed": false,
    "jupyter": {
     "outputs_hidden": false
    }
   },
   "outputs": [
    {
     "data": {
      "text/html": [
       "<div>\n",
       "<style scoped>\n",
       "    .dataframe tbody tr th:only-of-type {\n",
       "        vertical-align: middle;\n",
       "    }\n",
       "\n",
       "    .dataframe tbody tr th {\n",
       "        vertical-align: top;\n",
       "    }\n",
       "\n",
       "    .dataframe thead th {\n",
       "        text-align: right;\n",
       "    }\n",
       "</style>\n",
       "<table border=\"1\" class=\"dataframe\">\n",
       "  <thead>\n",
       "    <tr style=\"text-align: right;\">\n",
       "      <th></th>\n",
       "      <th>id</th>\n",
       "      <th>verb</th>\n",
       "      <th>docid</th>\n",
       "    </tr>\n",
       "  </thead>\n",
       "  <tbody>\n",
       "    <tr>\n",
       "      <th>0</th>\n",
       "      <td>APW19991008.0151-23</td>\n",
       "      <td>offered</td>\n",
       "      <td>APW19991008.0151</td>\n",
       "    </tr>\n",
       "    <tr>\n",
       "      <th>1</th>\n",
       "      <td>APW20000417.0031-145</td>\n",
       "      <td>abused</td>\n",
       "      <td>APW20000417.0031</td>\n",
       "    </tr>\n",
       "    <tr>\n",
       "      <th>2</th>\n",
       "      <td>NYT19990312.0271-172</td>\n",
       "      <td>brought</td>\n",
       "      <td>NYT19990312.0271</td>\n",
       "    </tr>\n",
       "    <tr>\n",
       "      <th>3</th>\n",
       "      <td>APW20000405.0276-4</td>\n",
       "      <td>won</td>\n",
       "      <td>APW20000405.0276</td>\n",
       "    </tr>\n",
       "    <tr>\n",
       "      <th>4</th>\n",
       "      <td>NYT20000224.0173-4</td>\n",
       "      <td>ducked</td>\n",
       "      <td>NYT20000224.0173</td>\n",
       "    </tr>\n",
       "    <tr>\n",
       "      <th>...</th>\n",
       "      <td>...</td>\n",
       "      <td>...</td>\n",
       "      <td>...</td>\n",
       "    </tr>\n",
       "    <tr>\n",
       "      <th>2399</th>\n",
       "      <td>NYT19990505.0443-2</td>\n",
       "      <td>concluded</td>\n",
       "      <td>NYT19990505.0443</td>\n",
       "    </tr>\n",
       "    <tr>\n",
       "      <th>2400</th>\n",
       "      <td>NYT19990505.0443-60</td>\n",
       "      <td>appears</td>\n",
       "      <td>NYT19990505.0443</td>\n",
       "    </tr>\n",
       "    <tr>\n",
       "      <th>2401</th>\n",
       "      <td>APW19990507.0207-57</td>\n",
       "      <td>charged</td>\n",
       "      <td>APW19990507.0207</td>\n",
       "    </tr>\n",
       "    <tr>\n",
       "      <th>2402</th>\n",
       "      <td>XIE19980808.0188-2</td>\n",
       "      <td>said</td>\n",
       "      <td>XIE19980808.0188</td>\n",
       "    </tr>\n",
       "    <tr>\n",
       "      <th>2403</th>\n",
       "      <td>APW20000405.0276-41</td>\n",
       "      <td>expressed</td>\n",
       "      <td>APW20000405.0276</td>\n",
       "    </tr>\n",
       "  </tbody>\n",
       "</table>\n",
       "<p>2404 rows × 3 columns</p>\n",
       "</div>"
      ],
      "text/plain": [
       "                        id       verb             docid\n",
       "0      APW19991008.0151-23    offered  APW19991008.0151\n",
       "1     APW20000417.0031-145     abused  APW20000417.0031\n",
       "2     NYT19990312.0271-172    brought  NYT19990312.0271\n",
       "3       APW20000405.0276-4        won  APW20000405.0276\n",
       "4       NYT20000224.0173-4     ducked  NYT20000224.0173\n",
       "...                    ...        ...               ...\n",
       "2399    NYT19990505.0443-2  concluded  NYT19990505.0443\n",
       "2400   NYT19990505.0443-60    appears  NYT19990505.0443\n",
       "2401   APW19990507.0207-57    charged  APW19990507.0207\n",
       "2402    XIE19980808.0188-2       said  XIE19980808.0188\n",
       "2403   APW20000405.0276-41  expressed  APW20000405.0276\n",
       "\n",
       "[2404 rows x 3 columns]"
      ]
     },
     "execution_count": 40,
     "metadata": {},
     "output_type": "execute_result"
    }
   ],
   "source": [
    "pd.DataFrame(columns=['id', 'verb', 'docid'], data=nodes)"
   ]
  },
  {
   "cell_type": "code",
   "execution_count": 46,
   "metadata": {
    "ExecuteTime": {
     "end_time": "2024-01-30T20:41:30.048728Z",
     "start_time": "2024-01-30T20:40:36.350243Z"
    },
    "collapsed": false,
    "jupyter": {
     "outputs_hidden": false
    }
   },
   "outputs": [],
   "source": [
    "def create_before_relationships(tx, relationships):\n",
    "    query = (\n",
    "        \"MATCH (n1:Word {id: $eiid1_new}), (n2:Word {id: $eiid2_new})\"\n",
    "        \"CREATE (n1)-[:BEFORE]->(n2)\"\n",
    "    )\n",
    "    tx.run(query, **relationships)\n",
    "    \n",
    "def create_after_relationships(tx, relationships):\n",
    "    query = (\n",
    "        \"MATCH (n1:Word {id: $eiid1_new}), (n2:Word {id: $eiid2_new})\"\n",
    "        \"CREATE (n1)<-[:AFTER]-(n2)\"\n",
    "    )\n",
    "    tx.run(query, **relationships)\n",
    "    \n",
    "def create_nodes(tx, relationships):\n",
    "    query = (\n",
    "        \"MERGE (node:Word {id: $id, text: $verb, doc_id: $docid})\"\n",
    "    )\n",
    "    tx.run(query, **relationships)\n",
    "\n",
    "with driver.session() as session:\n",
    "    for node in nodes_mapping.to_dict(orient='records'):\n",
    "        session.execute_write(create_nodes, node)\n",
    "    \n",
    "    for relationship in aquaint_df[aquaint_df.relation == 'BEFORE'].to_dict(orient='records'):\n",
    "        session.execute_write(create_before_relationships, relationship)\n",
    "        \n",
    "    for relationship in aquaint_df[aquaint_df.relation == 'AFTER'].to_dict(orient='records'):\n",
    "        session.execute_write(create_after_relationships, relationship)\n",
    " "
   ]
  },
  {
   "cell_type": "code",
   "execution_count": 19,
   "metadata": {
    "ExecuteTime": {
     "end_time": "2024-01-30T18:53:32.382805Z",
     "start_time": "2024-01-30T18:53:32.290521Z"
    },
    "collapsed": false,
    "jupyter": {
     "outputs_hidden": false
    }
   },
   "outputs": [
    {
     "data": {
      "text/plain": [
       "{'docid': 'NYT20000406.0002',\n",
       " 'verb1': 'left',\n",
       " 'verb2': 'demanded',\n",
       " 'eiid1': 17,\n",
       " 'eiid2': 21,\n",
       " 'relation': 'BEFORE',\n",
       " 'eiid1_new': 'NYT20000406.0002-17',\n",
       " 'eiid2_new': 'NYT20000406.0002-21'}"
      ]
     },
     "execution_count": 19,
     "metadata": {},
     "output_type": "execute_result"
    }
   ],
   "source": [
    "aquaint_df[aquaint_df.relation == 'BEFORE'].to_dict(orient='records')[0]"
   ]
  },
  {
   "cell_type": "code",
   "execution_count": null,
   "metadata": {
    "collapsed": false,
    "jupyter": {
     "outputs_hidden": false
    }
   },
   "outputs": [],
   "source": []
  }
 ],
 "metadata": {
  "kernelspec": {
   "display_name": "Python 3 (ipykernel)",
   "language": "python",
   "name": "python3"
  },
  "language_info": {
   "codemirror_mode": {
    "name": "ipython",
    "version": 3
   },
   "file_extension": ".py",
   "mimetype": "text/x-python",
   "name": "python",
   "nbconvert_exporter": "python",
   "pygments_lexer": "ipython3",
   "version": "3.11.7"
  }
 },
 "nbformat": 4,
 "nbformat_minor": 4
}
